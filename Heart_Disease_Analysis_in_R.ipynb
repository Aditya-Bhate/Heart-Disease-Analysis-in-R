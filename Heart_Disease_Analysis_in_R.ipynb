{
  "nbformat": 4,
  "nbformat_minor": 0,
  "metadata": {
    "colab": {
      "name": "Heart Disease Analysis in R.ipynb",
      "provenance": [],
      "collapsed_sections": [
        "7_sQkIWffTUU"
      ]
    },
    "kernelspec": {
      "name": "ir",
      "display_name": "R"
    },
    "language_info": {
      "name": "R"
    },
    "accelerator": "GPU"
  },
  "cells": [
    {
      "cell_type": "markdown",
      "source": [
        "#**Heart Disease Analysis in R**"
      ],
      "metadata": {
        "id": "KaOWCk9w3rlD"
      }
    },
    {
      "cell_type": "markdown",
      "source": [
        "# **Loading Libraries**"
      ],
      "metadata": {
        "id": "rJ6o4iRymShS"
      }
    },
    {
      "cell_type": "code",
      "source": [
        "print(installed.packages())"
      ],
      "metadata": {
        "id": "iuhi_BdFfZQF",
        "colab": {
          "base_uri": "https://localhost:8080/"
        },
        "outputId": "78047cf3-aabd-40db-ae85-902c0751a98b"
      },
      "execution_count": null,
      "outputs": [
        {
          "output_type": "stream",
          "name": "stdout",
          "text": [
            "              Package         LibPath                         Version  \n",
            "IRdisplay     \"IRdisplay\"     \"/usr/local/lib/R/site-library\" \"1.1\"    \n",
            "IRkernel      \"IRkernel\"      \"/usr/local/lib/R/site-library\" \"1.3\"    \n",
            "pbdZMQ        \"pbdZMQ\"        \"/usr/local/lib/R/site-library\" \"0.3-7\"  \n",
            "repr          \"repr\"          \"/usr/local/lib/R/site-library\" \"1.1.4\"  \n",
            "askpass       \"askpass\"       \"/usr/lib/R/site-library\"       \"1.1\"    \n",
            "assertthat    \"assertthat\"    \"/usr/lib/R/site-library\"       \"0.2.1\"  \n",
            "backports     \"backports\"     \"/usr/lib/R/site-library\"       \"1.4.1\"  \n",
            "base64enc     \"base64enc\"     \"/usr/lib/R/site-library\"       \"0.1-3\"  \n",
            "bit           \"bit\"           \"/usr/lib/R/site-library\"       \"4.0.4\"  \n",
            "bit64         \"bit64\"         \"/usr/lib/R/site-library\"       \"4.0.5\"  \n",
            "blob          \"blob\"          \"/usr/lib/R/site-library\"       \"1.2.3\"  \n",
            "brew          \"brew\"          \"/usr/lib/R/site-library\"       \"1.0-7\"  \n",
            "brio          \"brio\"          \"/usr/lib/R/site-library\"       \"1.1.3\"  \n",
            "broom         \"broom\"         \"/usr/lib/R/site-library\"       \"0.8.0\"  \n",
            "bslib         \"bslib\"         \"/usr/lib/R/site-library\"       \"0.3.1\"  \n",
            "cachem        \"cachem\"        \"/usr/lib/R/site-library\"       \"1.0.6\"  \n",
            "callr         \"callr\"         \"/usr/lib/R/site-library\"       \"3.7.0\"  \n",
            "cellranger    \"cellranger\"    \"/usr/lib/R/site-library\"       \"1.1.0\"  \n",
            "cli           \"cli\"           \"/usr/lib/R/site-library\"       \"3.2.0\"  \n",
            "clipr         \"clipr\"         \"/usr/lib/R/site-library\"       \"0.8.0\"  \n",
            "colorspace    \"colorspace\"    \"/usr/lib/R/site-library\"       \"2.0-3\"  \n",
            "commonmark    \"commonmark\"    \"/usr/lib/R/site-library\"       \"1.8.0\"  \n",
            "cpp11         \"cpp11\"         \"/usr/lib/R/site-library\"       \"0.4.2\"  \n",
            "crayon        \"crayon\"        \"/usr/lib/R/site-library\"       \"1.5.1\"  \n",
            "credentials   \"credentials\"   \"/usr/lib/R/site-library\"       \"1.3.2\"  \n",
            "curl          \"curl\"          \"/usr/lib/R/site-library\"       \"4.3.2\"  \n",
            "data.table    \"data.table\"    \"/usr/lib/R/site-library\"       \"1.14.2\" \n",
            "DBI           \"DBI\"           \"/usr/lib/R/site-library\"       \"1.1.2\"  \n",
            "dbplyr        \"dbplyr\"        \"/usr/lib/R/site-library\"       \"2.1.1\"  \n",
            "desc          \"desc\"          \"/usr/lib/R/site-library\"       \"1.4.1\"  \n",
            "devtools      \"devtools\"      \"/usr/lib/R/site-library\"       \"2.4.3\"  \n",
            "diffobj       \"diffobj\"       \"/usr/lib/R/site-library\"       \"0.3.5\"  \n",
            "digest        \"digest\"        \"/usr/lib/R/site-library\"       \"0.6.29\" \n",
            "dplyr         \"dplyr\"         \"/usr/lib/R/site-library\"       \"1.0.8\"  \n",
            "dtplyr        \"dtplyr\"        \"/usr/lib/R/site-library\"       \"1.2.1\"  \n",
            "ellipsis      \"ellipsis\"      \"/usr/lib/R/site-library\"       \"0.3.2\"  \n",
            "evaluate      \"evaluate\"      \"/usr/lib/R/site-library\"       \"0.15\"   \n",
            "fansi         \"fansi\"         \"/usr/lib/R/site-library\"       \"1.0.3\"  \n",
            "farver        \"farver\"        \"/usr/lib/R/site-library\"       \"2.1.0\"  \n",
            "fastmap       \"fastmap\"       \"/usr/lib/R/site-library\"       \"1.1.0\"  \n",
            "forcats       \"forcats\"       \"/usr/lib/R/site-library\"       \"0.5.1\"  \n",
            "fs            \"fs\"            \"/usr/lib/R/site-library\"       \"1.5.2\"  \n",
            "gargle        \"gargle\"        \"/usr/lib/R/site-library\"       \"1.2.0\"  \n",
            "generics      \"generics\"      \"/usr/lib/R/site-library\"       \"0.1.2\"  \n",
            "gert          \"gert\"          \"/usr/lib/R/site-library\"       \"1.6.0\"  \n",
            "ggplot2       \"ggplot2\"       \"/usr/lib/R/site-library\"       \"3.3.5\"  \n",
            "gh            \"gh\"            \"/usr/lib/R/site-library\"       \"1.3.0\"  \n",
            "gitcreds      \"gitcreds\"      \"/usr/lib/R/site-library\"       \"0.1.1\"  \n",
            "glue          \"glue\"          \"/usr/lib/R/site-library\"       \"1.6.2\"  \n",
            "googledrive   \"googledrive\"   \"/usr/lib/R/site-library\"       \"2.0.0\"  \n",
            "googlesheets4 \"googlesheets4\" \"/usr/lib/R/site-library\"       \"1.0.0\"  \n",
            "gtable        \"gtable\"        \"/usr/lib/R/site-library\"       \"0.3.0\"  \n",
            "haven         \"haven\"         \"/usr/lib/R/site-library\"       \"2.5.0\"  \n",
            "highr         \"highr\"         \"/usr/lib/R/site-library\"       \"0.9\"    \n",
            "hms           \"hms\"           \"/usr/lib/R/site-library\"       \"1.1.1\"  \n",
            "htmltools     \"htmltools\"     \"/usr/lib/R/site-library\"       \"0.5.2\"  \n",
            "httr          \"httr\"          \"/usr/lib/R/site-library\"       \"1.4.2\"  \n",
            "ids           \"ids\"           \"/usr/lib/R/site-library\"       \"1.0.1\"  \n",
            "ini           \"ini\"           \"/usr/lib/R/site-library\"       \"0.3.1\"  \n",
            "isoband       \"isoband\"       \"/usr/lib/R/site-library\"       \"0.2.5\"  \n",
            "jquerylib     \"jquerylib\"     \"/usr/lib/R/site-library\"       \"0.1.4\"  \n",
            "jsonlite      \"jsonlite\"      \"/usr/lib/R/site-library\"       \"1.8.0\"  \n",
            "knitr         \"knitr\"         \"/usr/lib/R/site-library\"       \"1.38\"   \n",
            "labeling      \"labeling\"      \"/usr/lib/R/site-library\"       \"0.4.2\"  \n",
            "lifecycle     \"lifecycle\"     \"/usr/lib/R/site-library\"       \"1.0.1\"  \n",
            "lubridate     \"lubridate\"     \"/usr/lib/R/site-library\"       \"1.8.0\"  \n",
            "magrittr      \"magrittr\"      \"/usr/lib/R/site-library\"       \"2.0.3\"  \n",
            "memoise       \"memoise\"       \"/usr/lib/R/site-library\"       \"2.0.1\"  \n",
            "mime          \"mime\"          \"/usr/lib/R/site-library\"       \"0.12\"   \n",
            "modelr        \"modelr\"        \"/usr/lib/R/site-library\"       \"0.1.8\"  \n",
            "munsell       \"munsell\"       \"/usr/lib/R/site-library\"       \"0.5.0\"  \n",
            "openssl       \"openssl\"       \"/usr/lib/R/site-library\"       \"2.0.0\"  \n",
            "pillar        \"pillar\"        \"/usr/lib/R/site-library\"       \"1.7.0\"  \n",
            "pkgbuild      \"pkgbuild\"      \"/usr/lib/R/site-library\"       \"1.3.1\"  \n",
            "pkgconfig     \"pkgconfig\"     \"/usr/lib/R/site-library\"       \"2.0.3\"  \n",
            "pkgload       \"pkgload\"       \"/usr/lib/R/site-library\"       \"1.2.4\"  \n",
            "praise        \"praise\"        \"/usr/lib/R/site-library\"       \"1.0.0\"  \n",
            "prettyunits   \"prettyunits\"   \"/usr/lib/R/site-library\"       \"1.1.1\"  \n",
            "processx      \"processx\"      \"/usr/lib/R/site-library\"       \"3.5.3\"  \n",
            "progress      \"progress\"      \"/usr/lib/R/site-library\"       \"1.2.2\"  \n",
            "ps            \"ps\"            \"/usr/lib/R/site-library\"       \"1.6.0\"  \n",
            "purrr         \"purrr\"         \"/usr/lib/R/site-library\"       \"0.3.4\"  \n",
            "R6            \"R6\"            \"/usr/lib/R/site-library\"       \"2.5.1\"  \n",
            "rappdirs      \"rappdirs\"      \"/usr/lib/R/site-library\"       \"0.3.3\"  \n",
            "rcmdcheck     \"rcmdcheck\"     \"/usr/lib/R/site-library\"       \"1.4.0\"  \n",
            "RColorBrewer  \"RColorBrewer\"  \"/usr/lib/R/site-library\"       \"1.1-3\"  \n",
            "readr         \"readr\"         \"/usr/lib/R/site-library\"       \"2.1.2\"  \n",
            "readxl        \"readxl\"        \"/usr/lib/R/site-library\"       \"1.4.0\"  \n",
            "rematch       \"rematch\"       \"/usr/lib/R/site-library\"       \"1.0.1\"  \n",
            "rematch2      \"rematch2\"      \"/usr/lib/R/site-library\"       \"2.1.2\"  \n",
            "remotes       \"remotes\"       \"/usr/lib/R/site-library\"       \"2.4.2\"  \n",
            "reprex        \"reprex\"        \"/usr/lib/R/site-library\"       \"2.0.1\"  \n",
            "rlang         \"rlang\"         \"/usr/lib/R/site-library\"       \"1.0.2\"  \n",
            "rmarkdown     \"rmarkdown\"     \"/usr/lib/R/site-library\"       \"2.13\"   \n",
            "roxygen2      \"roxygen2\"      \"/usr/lib/R/site-library\"       \"7.1.2\"  \n",
            "rprojroot     \"rprojroot\"     \"/usr/lib/R/site-library\"       \"2.0.3\"  \n",
            "rstudioapi    \"rstudioapi\"    \"/usr/lib/R/site-library\"       \"0.13\"   \n",
            "rversions     \"rversions\"     \"/usr/lib/R/site-library\"       \"2.1.1\"  \n",
            "rvest         \"rvest\"         \"/usr/lib/R/site-library\"       \"1.0.2\"  \n",
            "sass          \"sass\"          \"/usr/lib/R/site-library\"       \"0.4.1\"  \n",
            "scales        \"scales\"        \"/usr/lib/R/site-library\"       \"1.2.0\"  \n",
            "selectr       \"selectr\"       \"/usr/lib/R/site-library\"       \"0.4-2\"  \n",
            "sessioninfo   \"sessioninfo\"   \"/usr/lib/R/site-library\"       \"1.2.2\"  \n",
            "stringi       \"stringi\"       \"/usr/lib/R/site-library\"       \"1.7.6\"  \n",
            "stringr       \"stringr\"       \"/usr/lib/R/site-library\"       \"1.4.0\"  \n",
            "svglite       \"svglite\"       \"/usr/lib/R/site-library\"       \"2.1.0\"  \n",
            "sys           \"sys\"           \"/usr/lib/R/site-library\"       \"3.4\"    \n",
            "systemfonts   \"systemfonts\"   \"/usr/lib/R/site-library\"       \"1.0.4\"  \n",
            "testthat      \"testthat\"      \"/usr/lib/R/site-library\"       \"3.1.3\"  \n",
            "tibble        \"tibble\"        \"/usr/lib/R/site-library\"       \"3.1.6\"  \n",
            "tidyr         \"tidyr\"         \"/usr/lib/R/site-library\"       \"1.2.0\"  \n",
            "tidyselect    \"tidyselect\"    \"/usr/lib/R/site-library\"       \"1.1.2\"  \n",
            "tidyverse     \"tidyverse\"     \"/usr/lib/R/site-library\"       \"1.3.1\"  \n",
            "tinytex       \"tinytex\"       \"/usr/lib/R/site-library\"       \"0.38\"   \n",
            "tzdb          \"tzdb\"          \"/usr/lib/R/site-library\"       \"0.3.0\"  \n",
            "usethis       \"usethis\"       \"/usr/lib/R/site-library\"       \"2.1.5\"  \n",
            "utf8          \"utf8\"          \"/usr/lib/R/site-library\"       \"1.2.2\"  \n",
            "uuid          \"uuid\"          \"/usr/lib/R/site-library\"       \"1.0-4\"  \n",
            "vctrs         \"vctrs\"         \"/usr/lib/R/site-library\"       \"0.4.1\"  \n",
            "viridisLite   \"viridisLite\"   \"/usr/lib/R/site-library\"       \"0.4.0\"  \n",
            "vroom         \"vroom\"         \"/usr/lib/R/site-library\"       \"1.5.7\"  \n",
            "waldo         \"waldo\"         \"/usr/lib/R/site-library\"       \"0.4.0\"  \n",
            "whisker       \"whisker\"       \"/usr/lib/R/site-library\"       \"0.4\"    \n",
            "withr         \"withr\"         \"/usr/lib/R/site-library\"       \"2.5.0\"  \n",
            "xfun          \"xfun\"          \"/usr/lib/R/site-library\"       \"0.30\"   \n",
            "xml2          \"xml2\"          \"/usr/lib/R/site-library\"       \"1.3.3\"  \n",
            "xopen         \"xopen\"         \"/usr/lib/R/site-library\"       \"1.0.0\"  \n",
            "yaml          \"yaml\"          \"/usr/lib/R/site-library\"       \"2.3.5\"  \n",
            "zip           \"zip\"           \"/usr/lib/R/site-library\"       \"2.2.0\"  \n",
            "base          \"base\"          \"/usr/lib/R/library\"            \"4.1.3\"  \n",
            "boot          \"boot\"          \"/usr/lib/R/library\"            \"1.3-28\" \n",
            "class         \"class\"         \"/usr/lib/R/library\"            \"7.3-20\" \n",
            "cluster       \"cluster\"       \"/usr/lib/R/library\"            \"2.1.3\"  \n",
            "codetools     \"codetools\"     \"/usr/lib/R/library\"            \"0.2-18\" \n",
            "compiler      \"compiler\"      \"/usr/lib/R/library\"            \"4.1.3\"  \n",
            "datasets      \"datasets\"      \"/usr/lib/R/library\"            \"4.1.3\"  \n",
            "foreign       \"foreign\"       \"/usr/lib/R/library\"            \"0.8-82\" \n",
            "graphics      \"graphics\"      \"/usr/lib/R/library\"            \"4.1.3\"  \n",
            "grDevices     \"grDevices\"     \"/usr/lib/R/library\"            \"4.1.3\"  \n",
            "grid          \"grid\"          \"/usr/lib/R/library\"            \"4.1.3\"  \n",
            "KernSmooth    \"KernSmooth\"    \"/usr/lib/R/library\"            \"2.23-20\"\n",
            "lattice       \"lattice\"       \"/usr/lib/R/library\"            \"0.20-45\"\n",
            "MASS          \"MASS\"          \"/usr/lib/R/library\"            \"7.3-56\" \n",
            "Matrix        \"Matrix\"        \"/usr/lib/R/library\"            \"1.4-1\"  \n",
            "methods       \"methods\"       \"/usr/lib/R/library\"            \"4.1.3\"  \n",
            "mgcv          \"mgcv\"          \"/usr/lib/R/library\"            \"1.8-40\" \n",
            "nlme          \"nlme\"          \"/usr/lib/R/library\"            \"3.1-157\"\n",
            "nnet          \"nnet\"          \"/usr/lib/R/library\"            \"7.3-17\" \n",
            "parallel      \"parallel\"      \"/usr/lib/R/library\"            \"4.1.3\"  \n",
            "rpart         \"rpart\"         \"/usr/lib/R/library\"            \"4.1.16\" \n",
            "spatial       \"spatial\"       \"/usr/lib/R/library\"            \"7.3-15\" \n",
            "splines       \"splines\"       \"/usr/lib/R/library\"            \"4.1.3\"  \n",
            "stats         \"stats\"         \"/usr/lib/R/library\"            \"4.1.3\"  \n",
            "stats4        \"stats4\"        \"/usr/lib/R/library\"            \"4.1.3\"  \n",
            "survival      \"survival\"      \"/usr/lib/R/library\"            \"3.3-1\"  \n",
            "tcltk         \"tcltk\"         \"/usr/lib/R/library\"            \"4.1.3\"  \n",
            "tools         \"tools\"         \"/usr/lib/R/library\"            \"4.1.3\"  \n",
            "utils         \"utils\"         \"/usr/lib/R/library\"            \"4.1.3\"  \n",
            "              Priority     \n",
            "IRdisplay     NA           \n",
            "IRkernel      NA           \n",
            "pbdZMQ        NA           \n",
            "repr          NA           \n",
            "askpass       NA           \n",
            "assertthat    NA           \n",
            "backports     NA           \n",
            "base64enc     NA           \n",
            "bit           NA           \n",
            "bit64         NA           \n",
            "blob          NA           \n",
            "brew          NA           \n",
            "brio          NA           \n",
            "broom         NA           \n",
            "bslib         NA           \n",
            "cachem        NA           \n",
            "callr         NA           \n",
            "cellranger    NA           \n",
            "cli           NA           \n",
            "clipr         NA           \n",
            "colorspace    NA           \n",
            "commonmark    NA           \n",
            "cpp11         NA           \n",
            "crayon        NA           \n",
            "credentials   NA           \n",
            "curl          NA           \n",
            "data.table    NA           \n",
            "DBI           NA           \n",
            "dbplyr        NA           \n",
            "desc          NA           \n",
            "devtools      NA           \n",
            "diffobj       NA           \n",
            "digest        NA           \n",
            "dplyr         NA           \n",
            "dtplyr        NA           \n",
            "ellipsis      NA           \n",
            "evaluate      NA           \n",
            "fansi         NA           \n",
            "farver        NA           \n",
            "fastmap       NA           \n",
            "forcats       NA           \n",
            "fs            NA           \n",
            "gargle        NA           \n",
            "generics      NA           \n",
            "gert          NA           \n",
            "ggplot2       NA           \n",
            "gh            NA           \n",
            "gitcreds      NA           \n",
            "glue          NA           \n",
            "googledrive   NA           \n",
            "googlesheets4 NA           \n",
            "gtable        NA           \n",
            "haven         NA           \n",
            "highr         NA           \n",
            "hms           NA           \n",
            "htmltools     NA           \n",
            "httr          NA           \n",
            "ids           NA           \n",
            "ini           NA           \n",
            "isoband       NA           \n",
            "jquerylib     NA           \n",
            "jsonlite      NA           \n",
            "knitr         NA           \n",
            "labeling      NA           \n",
            "lifecycle     NA           \n",
            "lubridate     NA           \n",
            "magrittr      NA           \n",
            "memoise       NA           \n",
            "mime          NA           \n",
            "modelr        NA           \n",
            "munsell       NA           \n",
            "openssl       NA           \n",
            "pillar        NA           \n",
            "pkgbuild      NA           \n",
            "pkgconfig     NA           \n",
            "pkgload       NA           \n",
            "praise        NA           \n",
            "prettyunits   NA           \n",
            "processx      NA           \n",
            "progress      NA           \n",
            "ps            NA           \n",
            "purrr         NA           \n",
            "R6            NA           \n",
            "rappdirs      NA           \n",
            "rcmdcheck     NA           \n",
            "RColorBrewer  NA           \n",
            "readr         NA           \n",
            "readxl        NA           \n",
            "rematch       NA           \n",
            "rematch2      NA           \n",
            "remotes       NA           \n",
            "reprex        NA           \n",
            "rlang         NA           \n",
            "rmarkdown     NA           \n",
            "roxygen2      NA           \n",
            "rprojroot     NA           \n",
            "rstudioapi    NA           \n",
            "rversions     NA           \n",
            "rvest         NA           \n",
            "sass          NA           \n",
            "scales        NA           \n",
            "selectr       NA           \n",
            "sessioninfo   NA           \n",
            "stringi       NA           \n",
            "stringr       NA           \n",
            "svglite       NA           \n",
            "sys           NA           \n",
            "systemfonts   NA           \n",
            "testthat      NA           \n",
            "tibble        NA           \n",
            "tidyr         NA           \n",
            "tidyselect    NA           \n",
            "tidyverse     NA           \n",
            "tinytex       NA           \n",
            "tzdb          NA           \n",
            "usethis       NA           \n",
            "utf8          NA           \n",
            "uuid          NA           \n",
            "vctrs         NA           \n",
            "viridisLite   NA           \n",
            "vroom         NA           \n",
            "waldo         NA           \n",
            "whisker       NA           \n",
            "withr         NA           \n",
            "xfun          NA           \n",
            "xml2          NA           \n",
            "xopen         NA           \n",
            "yaml          NA           \n",
            "zip           NA           \n",
            "base          \"base\"       \n",
            "boot          \"recommended\"\n",
            "class         \"recommended\"\n",
            "cluster       \"recommended\"\n",
            "codetools     \"recommended\"\n",
            "compiler      \"base\"       \n",
            "datasets      \"base\"       \n",
            "foreign       \"recommended\"\n",
            "graphics      \"base\"       \n",
            "grDevices     \"base\"       \n",
            "grid          \"base\"       \n",
            "KernSmooth    \"recommended\"\n",
            "lattice       \"recommended\"\n",
            "MASS          \"recommended\"\n",
            "Matrix        \"recommended\"\n",
            "methods       \"base\"       \n",
            "mgcv          \"recommended\"\n",
            "nlme          \"recommended\"\n",
            "nnet          \"recommended\"\n",
            "parallel      \"base\"       \n",
            "rpart         \"recommended\"\n",
            "spatial       \"recommended\"\n",
            "splines       \"base\"       \n",
            "stats         \"base\"       \n",
            "stats4        \"base\"       \n",
            "survival      \"recommended\"\n",
            "tcltk         \"base\"       \n",
            "tools         \"base\"       \n",
            "utils         \"base\"       \n",
            "              Depends                                              \n",
            "IRdisplay     \"R (>= 3.0.1)\"                                       \n",
            "IRkernel      \"R (>= 3.2.0)\"                                       \n",
            "pbdZMQ        \"R (>= 3.5.0)\"                                       \n",
            "repr          \"R (>= 3.0.1)\"                                       \n",
            "askpass       NA                                                   \n",
            "assertthat    NA                                                   \n",
            "backports     \"R (>= 3.0.0)\"                                       \n",
            "base64enc     \"R (>= 2.9.0)\"                                       \n",
            "bit           \"R (>= 2.9.2)\"                                       \n",
            "bit64         \"R (>= 3.0.1), bit (>= 4.0.0), utils, methods, stats\"\n",
            "blob          NA                                                   \n",
            "brew          NA                                                   \n",
            "brio          NA                                                   \n",
            "broom         \"R (>= 3.1)\"                                         \n",
            "bslib         \"R (>= 2.10)\"                                        \n",
            "cachem        NA                                                   \n",
            "callr         NA                                                   \n",
            "cellranger    \"R (>= 3.0.0)\"                                       \n",
            "cli           \"R (>= 2.10)\"                                        \n",
            "clipr         NA                                                   \n",
            "colorspace    \"R (>= 3.0.0), methods\"                              \n",
            "commonmark    NA                                                   \n",
            "cpp11         NA                                                   \n",
            "crayon        NA                                                   \n",
            "credentials   NA                                                   \n",
            "curl          \"R (>= 3.0.0)\"                                       \n",
            "data.table    \"R (>= 3.1.0)\"                                       \n",
            "DBI           \"methods, R (>= 3.0.0)\"                              \n",
            "dbplyr        \"R (>= 3.1)\"                                         \n",
            "desc          \"R (>= 3.4)\"                                         \n",
            "devtools      \"R (>= 3.0.2), usethis (>= 2.0.1)\"                   \n",
            "diffobj       \"R (>= 3.1.0)\"                                       \n",
            "digest        \"R (>= 3.3.0)\"                                       \n",
            "dplyr         \"R (>= 3.4.0)\"                                       \n",
            "dtplyr        \"R (>= 3.3)\"                                         \n",
            "ellipsis      \"R (>= 3.2)\"                                         \n",
            "evaluate      \"R (>= 3.0.2)\"                                       \n",
            "fansi         \"R (>= 3.1.0)\"                                       \n",
            "farver        NA                                                   \n",
            "fastmap       NA                                                   \n",
            "forcats       \"R (>= 3.2)\"                                         \n",
            "fs            \"R (>= 3.1)\"                                         \n",
            "gargle        \"R (>= 3.3)\"                                         \n",
            "generics      \"R (>= 3.2)\"                                         \n",
            "gert          NA                                                   \n",
            "ggplot2       \"R (>= 3.3)\"                                         \n",
            "gh            NA                                                   \n",
            "gitcreds      NA                                                   \n",
            "glue          \"R (>= 3.4)\"                                         \n",
            "googledrive   \"R (>= 3.3)\"                                         \n",
            "googlesheets4 \"R (>= 3.3)\"                                         \n",
            "gtable        \"R (>= 3.0)\"                                         \n",
            "haven         \"R (>= 3.4)\"                                         \n",
            "highr         \"R (>= 3.2.3)\"                                       \n",
            "hms           NA                                                   \n",
            "htmltools     \"R (>= 2.14.1)\"                                      \n",
            "httr          \"R (>= 3.2)\"                                         \n",
            "ids           NA                                                   \n",
            "ini           NA                                                   \n",
            "isoband       NA                                                   \n",
            "jquerylib     NA                                                   \n",
            "jsonlite      \"methods\"                                            \n",
            "knitr         \"R (>= 3.3.0)\"                                       \n",
            "labeling      NA                                                   \n",
            "lifecycle     \"R (>= 3.3)\"                                         \n",
            "lubridate     \"methods, R (>= 3.2)\"                                \n",
            "magrittr      \"R (>= 3.4.0)\"                                       \n",
            "memoise       NA                                                   \n",
            "mime          NA                                                   \n",
            "modelr        \"R (>= 3.2)\"                                         \n",
            "munsell       NA                                                   \n",
            "openssl       NA                                                   \n",
            "pillar        NA                                                   \n",
            "pkgbuild      \"R (>= 3.1)\"                                         \n",
            "pkgconfig     NA                                                   \n",
            "pkgload       NA                                                   \n",
            "praise        NA                                                   \n",
            "prettyunits   NA                                                   \n",
            "processx      \"R (>= 3.4.0)\"                                       \n",
            "progress      NA                                                   \n",
            "ps            \"R (>= 3.1)\"                                         \n",
            "purrr         \"R (>= 3.2)\"                                         \n",
            "R6            \"R (>= 3.0)\"                                         \n",
            "rappdirs      \"R (>= 3.2)\"                                         \n",
            "rcmdcheck     NA                                                   \n",
            "RColorBrewer  \"R (>= 2.0.0)\"                                       \n",
            "readr         \"R (>= 3.1)\"                                         \n",
            "readxl        \"R (>= 3.4)\"                                         \n",
            "rematch       NA                                                   \n",
            "rematch2      NA                                                   \n",
            "remotes       \"R (>= 3.0.0)\"                                       \n",
            "reprex        \"R (>= 3.3)\"                                         \n",
            "rlang         \"R (>= 3.4.0)\"                                       \n",
            "rmarkdown     \"R (>= 3.0)\"                                         \n",
            "roxygen2      \"R (>= 3.3)\"                                         \n",
            "rprojroot     \"R (>= 3.0.0)\"                                       \n",
            "rstudioapi    NA                                                   \n",
            "rversions     NA                                                   \n",
            "rvest         \"R (>= 3.2)\"                                         \n",
            "sass          NA                                                   \n",
            "scales        \"R (>= 3.2)\"                                         \n",
            "selectr       \"R (>= 3.0)\"                                         \n",
            "sessioninfo   \"R (>= 2.10)\"                                        \n",
            "stringi       \"R (>= 3.1)\"                                         \n",
            "stringr       \"R (>= 3.1)\"                                         \n",
            "svglite       \"R (>= 3.0.0)\"                                       \n",
            "sys           NA                                                   \n",
            "systemfonts   \"R (>= 3.2.0)\"                                       \n",
            "testthat      \"R (>= 3.1)\"                                         \n",
            "tibble        \"R (>= 3.1.0)\"                                       \n",
            "tidyr         \"R (>= 3.1)\"                                         \n",
            "tidyselect    \"R (>= 3.2)\"                                         \n",
            "tidyverse     \"R (>= 3.3)\"                                         \n",
            "tinytex       NA                                                   \n",
            "tzdb          \"R (>= 3.4.0)\"                                       \n",
            "usethis       \"R (>= 3.4)\"                                         \n",
            "utf8          \"R (>= 2.10)\"                                        \n",
            "uuid          \"R (>= 2.9.0)\"                                       \n",
            "vctrs         \"R (>= 3.3)\"                                         \n",
            "viridisLite   \"R (>= 2.10)\"                                        \n",
            "vroom         \"R (>= 3.1)\"                                         \n",
            "waldo         NA                                                   \n",
            "whisker       NA                                                   \n",
            "withr         \"R (>= 3.2.0)\"                                       \n",
            "xfun          NA                                                   \n",
            "xml2          \"R (>= 3.1.0)\"                                       \n",
            "xopen         \"R (>= 3.1)\"                                         \n",
            "yaml          NA                                                   \n",
            "zip           NA                                                   \n",
            "base          NA                                                   \n",
            "boot          \"R (>= 3.0.0), graphics, stats\"                      \n",
            "class         \"R (>= 3.0.0), stats, utils\"                         \n",
            "cluster       \"R (>= 3.5.0)\"                                       \n",
            "codetools     \"R (>= 2.1)\"                                         \n",
            "compiler      NA                                                   \n",
            "datasets      NA                                                   \n",
            "foreign       \"R (>= 4.0.0)\"                                       \n",
            "graphics      NA                                                   \n",
            "grDevices     NA                                                   \n",
            "grid          NA                                                   \n",
            "KernSmooth    \"R (>= 2.5.0), stats\"                                \n",
            "lattice       \"R (>= 3.0.0)\"                                       \n",
            "MASS          \"R (>= 3.3.0), grDevices, graphics, stats, utils\"    \n",
            "Matrix        \"R (>= 3.5.0)\"                                       \n",
            "methods       NA                                                   \n",
            "mgcv          \"R (>= 3.6.0), nlme (>= 3.1-64)\"                     \n",
            "nlme          \"R (>= 3.5.0)\"                                       \n",
            "nnet          \"R (>= 3.0.0), stats, utils\"                         \n",
            "parallel      NA                                                   \n",
            "rpart         \"R (>= 2.15.0), graphics, stats, grDevices\"          \n",
            "spatial       \"R (>= 3.0.0), graphics, stats, utils\"               \n",
            "splines       NA                                                   \n",
            "stats         NA                                                   \n",
            "stats4        NA                                                   \n",
            "survival      \"R (>= 3.5.0)\"                                       \n",
            "tcltk         NA                                                   \n",
            "tools         NA                                                   \n",
            "utils         NA                                                   \n",
            "              Imports                                                                                                                                                                                                                                                                                                                                                                                                                                                                                                                                                                                  \n",
            "IRdisplay     \"methods, repr\"                                                                                                                                                                                                                                                                                                                                                                                                                                                                                                                                                                          \n",
            "IRkernel      \"repr (>= 0.4.99), methods, evaluate (>= 0.10), IRdisplay (>=\\n0.3.0.9999), pbdZMQ (>= 0.2-1), crayon, jsonlite (>= 0.9.6),\\nuuid, digest\"                                                                                                                                                                                                                                                                                                                                                                                                                                               \n",
            "pbdZMQ        NA                                                                                                                                                                                                                                                                                                                                                                                                                                                                                                                                                                                       \n",
            "repr          \"utils, grDevices, htmltools, jsonlite, pillar (>= 1.4.0),\\nbase64enc\"                                                                                                                                                                                                                                                                                                                                                                                                                                                                                                                   \n",
            "askpass       \"sys (>= 2.1)\"                                                                                                                                                                                                                                                                                                                                                                                                                                                                                                                                                                           \n",
            "assertthat    \"tools\"                                                                                                                                                                                                                                                                                                                                                                                                                                                                                                                                                                                  \n",
            "backports     NA                                                                                                                                                                                                                                                                                                                                                                                                                                                                                                                                                                                       \n",
            "base64enc     NA                                                                                                                                                                                                                                                                                                                                                                                                                                                                                                                                                                                       \n",
            "bit           NA                                                                                                                                                                                                                                                                                                                                                                                                                                                                                                                                                                                       \n",
            "bit64         NA                                                                                                                                                                                                                                                                                                                                                                                                                                                                                                                                                                                       \n",
            "blob          \"methods, rlang, vctrs (>= 0.2.1)\"                                                                                                                                                                                                                                                                                                                                                                                                                                                                                                                                                       \n",
            "brew          NA                                                                                                                                                                                                                                                                                                                                                                                                                                                                                                                                                                                       \n",
            "brio          NA                                                                                                                                                                                                                                                                                                                                                                                                                                                                                                                                                                                       \n",
            "broom         \"backports, dplyr (>= 1.0.0), ellipsis, generics (>= 0.0.2),\\nglue, methods, purrr, rlang, stringr, tibble (>= 3.0.0), tidyr\\n(>= 1.0.0), ggplot2\"                                                                                                                                                                                                                                                                                                                                                                                                                                       \n",
            "bslib         \"grDevices, htmltools (>= 0.5.2), jsonlite, sass (>= 0.4.0),\\njquerylib (>= 0.1.3), rlang\"                                                                                                                                                                                                                                                                                                                                                                                                                                                                                               \n",
            "cachem        \"rlang, fastmap\"                                                                                                                                                                                                                                                                                                                                                                                                                                                                                                                                                                         \n",
            "callr         \"processx (>= 3.5.0), R6, utils\"                                                                                                                                                                                                                                                                                                                                                                                                                                                                                                                                                         \n",
            "cellranger    \"rematch, tibble\"                                                                                                                                                                                                                                                                                                                                                                                                                                                                                                                                                                        \n",
            "cli           \"glue (>= 1.6.0), utils\"                                                                                                                                                                                                                                                                                                                                                                                                                                                                                                                                                                 \n",
            "clipr         \"utils\"                                                                                                                                                                                                                                                                                                                                                                                                                                                                                                                                                                                  \n",
            "colorspace    \"graphics, grDevices, stats\"                                                                                                                                                                                                                                                                                                                                                                                                                                                                                                                                                             \n",
            "commonmark    NA                                                                                                                                                                                                                                                                                                                                                                                                                                                                                                                                                                                       \n",
            "cpp11         NA                                                                                                                                                                                                                                                                                                                                                                                                                                                                                                                                                                                       \n",
            "crayon        \"grDevices, methods, utils\"                                                                                                                                                                                                                                                                                                                                                                                                                                                                                                                                                              \n",
            "credentials   \"openssl (>= 1.3), sys (>= 2.1), curl, jsonlite, askpass\"                                                                                                                                                                                                                                                                                                                                                                                                                                                                                                                                \n",
            "curl          NA                                                                                                                                                                                                                                                                                                                                                                                                                                                                                                                                                                                       \n",
            "data.table    \"methods\"                                                                                                                                                                                                                                                                                                                                                                                                                                                                                                                                                                                \n",
            "DBI           NA                                                                                                                                                                                                                                                                                                                                                                                                                                                                                                                                                                                       \n",
            "dbplyr        \"assertthat (>= 0.2.0), blob (>= 1.2.0), DBI (>= 1.0.0), dplyr\\n(>= 1.0.4), ellipsis, glue (>= 1.2.0), lifecycle (>= 1.0.0),\\nmagrittr, methods, purrr (>= 0.2.5), R6 (>= 2.2.2), rlang (>=\\n0.2.0), tibble (>= 1.4.2), tidyselect (>= 0.2.4), utils, vctrs,\\nwithr\"                                                                                                                                                                                                                                                                                                                     \n",
            "desc          \"cli, R6, rprojroot, utils\"                                                                                                                                                                                                                                                                                                                                                                                                                                                                                                                                                              \n",
            "devtools      \"callr (>= 3.6.0), cli (>= 3.0.0), desc (>= 1.3.0), ellipsis\\n(>= 0.3.1), fs (>= 1.5.0), httr (>= 1.4.2), lifecycle (>=\\n1.0.0), memoise (>= 2.0.0), pkgbuild (>= 1.2.0), pkgload (>=\\n1.2.1), rcmdcheck (>= 1.3.3), remotes (>= 2.3.0), rlang (>=\\n0.4.10), roxygen2 (>= 7.1.1), rstudioapi (>= 0.13), rversions\\n(>= 2.0.2), sessioninfo (>= 1.1.1), stats, testthat (>= 3.0.2),\\ntools, utils, withr (>= 2.4.1)\"                                                                                                                                                                      \n",
            "diffobj       \"crayon (>= 1.3.2), tools, methods, utils, stats\"                                                                                                                                                                                                                                                                                                                                                                                                                                                                                                                                        \n",
            "digest        \"utils\"                                                                                                                                                                                                                                                                                                                                                                                                                                                                                                                                                                                  \n",
            "dplyr         \"generics, glue (>= 1.3.2), lifecycle (>= 1.0.1), magrittr (>=\\n1.5), methods, R6, rlang (>= 1.0.0), tibble (>= 2.1.3),\\ntidyselect (>= 1.1.1), utils, vctrs (>= 0.3.5), pillar (>=\\n1.5.1)\"                                                                                                                                                                                                                                                                                                                                                                                             \n",
            "dtplyr        \"crayon, data.table (>= 1.13.0), dplyr (>= 1.0.3), ellipsis,\\nglue, lifecycle, rlang, tibble, tidyselect, vctrs\"                                                                                                                                                                                                                                                                                                                                                                                                                                                                         \n",
            "ellipsis      \"rlang (>= 0.3.0)\"                                                                                                                                                                                                                                                                                                                                                                                                                                                                                                                                                                       \n",
            "evaluate      \"methods\"                                                                                                                                                                                                                                                                                                                                                                                                                                                                                                                                                                                \n",
            "fansi         \"grDevices, utils\"                                                                                                                                                                                                                                                                                                                                                                                                                                                                                                                                                                       \n",
            "farver        NA                                                                                                                                                                                                                                                                                                                                                                                                                                                                                                                                                                                       \n",
            "fastmap       NA                                                                                                                                                                                                                                                                                                                                                                                                                                                                                                                                                                                       \n",
            "forcats       \"ellipsis, magrittr, rlang, tibble\"                                                                                                                                                                                                                                                                                                                                                                                                                                                                                                                                                      \n",
            "fs            \"methods\"                                                                                                                                                                                                                                                                                                                                                                                                                                                                                                                                                                                \n",
            "gargle        \"cli (>= 3.0.0), fs (>= 1.3.1), glue (>= 1.3.0), httr (>=\\n1.4.0), jsonlite, rappdirs, rlang (>= 0.4.9), rstudioapi,\\nstats, utils, withr\"                                                                                                                                                                                                                                                                                                                                                                                                                                               \n",
            "generics      \"methods\"                                                                                                                                                                                                                                                                                                                                                                                                                                                                                                                                                                                \n",
            "gert          \"askpass, credentials (>= 1.2.1), openssl (>= 1.4.1),\\nrstudioapi (>= 0.11), sys, zip (>= 2.1.0)\"                                                                                                                                                                                                                                                                                                                                                                                                                                                                                        \n",
            "ggplot2       \"digest, glue, grDevices, grid, gtable (>= 0.1.1), isoband,\\nMASS, mgcv, rlang (>= 0.4.10), scales (>= 0.5.0), stats,\\ntibble, withr (>= 2.0.0)\"                                                                                                                                                                                                                                                                                                                                                                                                                                         \n",
            "gh            \"cli (>= 2.0.1), gitcreds, httr (>= 1.2), ini, jsonlite\"                                                                                                                                                                                                                                                                                                                                                                                                                                                                                                                                 \n",
            "gitcreds      NA                                                                                                                                                                                                                                                                                                                                                                                                                                                                                                                                                                                       \n",
            "glue          \"methods\"                                                                                                                                                                                                                                                                                                                                                                                                                                                                                                                                                                                \n",
            "googledrive   \"cli (>= 3.0.0), gargle (>= 1.2.0), glue (>= 1.4.2), httr,\\njsonlite, lifecycle, magrittr, pillar, purrr (>= 0.2.3), rlang\\n(>= 0.4.9), tibble (>= 2.0.0), utils, uuid, vctrs (>= 0.3.0),\\nwithr\"                                                                                                                                                                                                                                                                                                                                                                                        \n",
            "googlesheets4 \"cellranger, cli (>= 3.0.0), curl, gargle (>= 1.2.0), glue (>=\\n1.3.0), googledrive (>= 2.0.0), httr, ids, magrittr, methods,\\npurrr, rematch2, rlang (>= 0.4.11), tibble (>= 2.1.1), utils,\\nvctrs (>= 0.2.3)\"                                                                                                                                                                                                                                                                                                                                                                          \n",
            "gtable        \"grid\"                                                                                                                                                                                                                                                                                                                                                                                                                                                                                                                                                                                   \n",
            "haven         \"cli (>= 3.0.0), forcats (>= 0.2.0), hms, lifecycle, methods,\\nreadr (>= 0.1.0), rlang (>= 0.4.0), tibble, tidyselect, vctrs\\n(>= 0.3.0)\"                                                                                                                                                                                                                                                                                                                                                                                                                                                \n",
            "highr         \"xfun (>= 0.18)\"                                                                                                                                                                                                                                                                                                                                                                                                                                                                                                                                                                         \n",
            "hms           \"ellipsis (>= 0.3.2), lifecycle, methods, pkgconfig, rlang,\\nvctrs (>= 0.3.8)\"                                                                                                                                                                                                                                                                                                                                                                                                                                                                                                           \n",
            "htmltools     \"utils, digest, grDevices, base64enc, rlang (>= 0.4.10),\\nfastmap\"                                                                                                                                                                                                                                                                                                                                                                                                                                                                                                                       \n",
            "httr          \"curl (>= 3.0.0), jsonlite, mime, openssl (>= 0.8), R6\"                                                                                                                                                                                                                                                                                                                                                                                                                                                                                                                                  \n",
            "ids           \"openssl, uuid\"                                                                                                                                                                                                                                                                                                                                                                                                                                                                                                                                                                          \n",
            "ini           NA                                                                                                                                                                                                                                                                                                                                                                                                                                                                                                                                                                                       \n",
            "isoband       \"grid, utils\"                                                                                                                                                                                                                                                                                                                                                                                                                                                                                                                                                                            \n",
            "jquerylib     \"htmltools\"                                                                                                                                                                                                                                                                                                                                                                                                                                                                                                                                                                              \n",
            "jsonlite      NA                                                                                                                                                                                                                                                                                                                                                                                                                                                                                                                                                                                       \n",
            "knitr         \"evaluate (>= 0.15), highr, methods, stringr (>= 0.6), yaml (>=\\n2.1.19), xfun (>= 0.29), tools\"                                                                                                                                                                                                                                                                                                                                                                                                                                                                                         \n",
            "labeling      \"stats, graphics\"                                                                                                                                                                                                                                                                                                                                                                                                                                                                                                                                                                        \n",
            "lifecycle     \"glue, rlang (>= 0.4.10)\"                                                                                                                                                                                                                                                                                                                                                                                                                                                                                                                                                                \n",
            "lubridate     \"generics\"                                                                                                                                                                                                                                                                                                                                                                                                                                                                                                                                                                               \n",
            "magrittr      NA                                                                                                                                                                                                                                                                                                                                                                                                                                                                                                                                                                                       \n",
            "memoise       \"rlang (>= 0.4.10), cachem\"                                                                                                                                                                                                                                                                                                                                                                                                                                                                                                                                                              \n",
            "mime          \"tools\"                                                                                                                                                                                                                                                                                                                                                                                                                                                                                                                                                                                  \n",
            "modelr        \"broom, magrittr, purrr (>= 0.2.2), rlang (>= 0.2.0), tibble,\\ntidyr (>= 0.8.0), tidyselect, vctrs\"                                                                                                                                                                                                                                                                                                                                                                                                                                                                                      \n",
            "munsell       \"colorspace, methods\"                                                                                                                                                                                                                                                                                                                                                                                                                                                                                                                                                                    \n",
            "openssl       \"askpass\"                                                                                                                                                                                                                                                                                                                                                                                                                                                                                                                                                                                \n",
            "pillar        \"cli (>= 2.3.0), crayon (>= 1.3.4), ellipsis (>= 0.3.2), fansi,\\nglue, lifecycle, rlang (>= 0.3.0), utf8 (>= 1.1.0), utils,\\nvctrs (>= 0.3.8)\"                                                                                                                                                                                                                                                                                                                                                                                                                                           \n",
            "pkgbuild      \"callr (>= 3.2.0), cli, crayon, desc, prettyunits, R6,\\nrprojroot, withr (>= 2.3.0)\"                                                                                                                                                                                                                                                                                                                                                                                                                                                                                                     \n",
            "pkgconfig     \"utils\"                                                                                                                                                                                                                                                                                                                                                                                                                                                                                                                                                                                  \n",
            "pkgload       \"cli, crayon, desc, methods, rlang, rprojroot, rstudioapi,\\nutils, withr\"                                                                                                                                                                                                                                                                                                                                                                                                                                                                                                                \n",
            "praise        NA                                                                                                                                                                                                                                                                                                                                                                                                                                                                                                                                                                                       \n",
            "prettyunits   NA                                                                                                                                                                                                                                                                                                                                                                                                                                                                                                                                                                                       \n",
            "processx      \"ps (>= 1.2.0), R6, utils\"                                                                                                                                                                                                                                                                                                                                                                                                                                                                                                                                                               \n",
            "progress      \"hms, prettyunits, R6, crayon\"                                                                                                                                                                                                                                                                                                                                                                                                                                                                                                                                                           \n",
            "ps            \"utils\"                                                                                                                                                                                                                                                                                                                                                                                                                                                                                                                                                                                  \n",
            "purrr         \"magrittr (>= 1.5), rlang (>= 0.3.1)\"                                                                                                                                                                                                                                                                                                                                                                                                                                                                                                                                                    \n",
            "R6            NA                                                                                                                                                                                                                                                                                                                                                                                                                                                                                                                                                                                       \n",
            "rappdirs      NA                                                                                                                                                                                                                                                                                                                                                                                                                                                                                                                                                                                       \n",
            "rcmdcheck     \"callr (>= 3.1.1.9000), cli (>= 3.0.0), curl, desc (>= 1.2.0),\\ndigest, pkgbuild, prettyunits, R6, rprojroot, sessioninfo (>=\\n1.1.1), utils, withr, xopen\"                                                                                                                                                                                                                                                                                                                                                                                                                              \n",
            "RColorBrewer  NA                                                                                                                                                                                                                                                                                                                                                                                                                                                                                                                                                                                       \n",
            "readr         \"cli (>= 3.0.0), clipr, crayon, hms (>= 0.4.1), lifecycle (>=\\n0.2.0), methods, R6, rlang, tibble, utils, vroom (>= 1.5.6)\"                                                                                                                                                                                                                                                                                                                                                                                                                                                              \n",
            "readxl        \"cellranger, tibble (>= 2.0.1), utils\"                                                                                                                                                                                                                                                                                                                                                                                                                                                                                                                                                   \n",
            "rematch       NA                                                                                                                                                                                                                                                                                                                                                                                                                                                                                                                                                                                       \n",
            "rematch2      \"tibble\"                                                                                                                                                                                                                                                                                                                                                                                                                                                                                                                                                                                 \n",
            "remotes       \"methods, stats, tools, utils\"                                                                                                                                                                                                                                                                                                                                                                                                                                                                                                                                                           \n",
            "reprex        \"callr (>= 3.6.0), cli (>= 2.3.1), clipr (>= 0.4.0), fs, glue,\\nknitr (>= 1.23), rlang (>= 0.4.0), rmarkdown, rstudioapi,\\nutils, withr (>= 2.3.0)\"                                                                                                                                                                                                                                                                                                                                                                                                                                      \n",
            "rlang         \"utils\"                                                                                                                                                                                                                                                                                                                                                                                                                                                                                                                                                                                  \n",
            "rmarkdown     \"bslib (>= 0.2.5.1), evaluate (>= 0.13), htmltools (>= 0.3.5),\\njquerylib, jsonlite, knitr (>= 1.22), methods, stringr (>=\\n1.2.0), tinytex (>= 0.31), tools, utils, xfun (>= 0.30), yaml\\n(>= 2.1.19)\"                                                                                                                                                                                                                                                                                                                                                                                  \n",
            "roxygen2      \"brew, commonmark, desc (>= 1.2.0), digest, knitr, methods,\\npkgload (>= 1.0.2), purrr (>= 0.3.3), R6 (>= 2.1.2), rlang,\\nstringi, stringr (>= 1.0.0), utils, xml2\"                                                                                                                                                                                                                                                                                                                                                                                                                      \n",
            "rprojroot     NA                                                                                                                                                                                                                                                                                                                                                                                                                                                                                                                                                                                       \n",
            "rstudioapi    NA                                                                                                                                                                                                                                                                                                                                                                                                                                                                                                                                                                                       \n",
            "rversions     \"curl, utils, xml2 (>= 1.0.0)\"                                                                                                                                                                                                                                                                                                                                                                                                                                                                                                                                                           \n",
            "rvest         \"httr (>= 0.5), lifecycle (>= 1.0.0), magrittr, rlang (>=\\n0.4.10), selectr, tibble, xml2 (>= 1.3)\"                                                                                                                                                                                                                                                                                                                                                                                                                                                                                      \n",
            "sass          \"fs, rlang (>= 0.4.10), htmltools (>= 0.5.1), R6, rappdirs\"                                                                                                                                                                                                                                                                                                                                                                                                                                                                                                                              \n",
            "scales        \"farver (>= 2.0.3), labeling, lifecycle, munsell (>= 0.5), R6,\\nRColorBrewer, rlang (>= 1.0.0), viridisLite\"                                                                                                                                                                                                                                                                                                                                                                                                                                                                             \n",
            "selectr       \"methods, stringr, R6\"                                                                                                                                                                                                                                                                                                                                                                                                                                                                                                                                                                   \n",
            "sessioninfo   \"cli (>= 3.1.0), tools, utils\"                                                                                                                                                                                                                                                                                                                                                                                                                                                                                                                                                           \n",
            "stringi       \"tools, utils, stats\"                                                                                                                                                                                                                                                                                                                                                                                                                                                                                                                                                                    \n",
            "stringr       \"glue (>= 1.2.0), magrittr, stringi (>= 1.1.7)\"                                                                                                                                                                                                                                                                                                                                                                                                                                                                                                                                          \n",
            "svglite       \"systemfonts (>= 1.0.0)\"                                                                                                                                                                                                                                                                                                                                                                                                                                                                                                                                                                 \n",
            "sys           NA                                                                                                                                                                                                                                                                                                                                                                                                                                                                                                                                                                                       \n",
            "systemfonts   NA                                                                                                                                                                                                                                                                                                                                                                                                                                                                                                                                                                                       \n",
            "testthat      \"brio, callr (>= 3.5.1), cli (>= 3.1.1), crayon (>= 1.3.4),\\ndesc, digest, ellipsis (>= 0.2.0), evaluate, jsonlite,\\nlifecycle, magrittr, methods, pkgload, praise, processx, ps (>=\\n1.3.4), R6 (>= 2.2.0), rlang (>= 1.0.1), utils, waldo (>=\\n0.3.1), withr (>= 2.4.3)\"                                                                                                                                                                                                                                                                                                               \n",
            "tibble        \"ellipsis (>= 0.3.2), fansi (>= 0.4.0), lifecycle (>= 1.0.0),\\nmagrittr, methods, pillar (>= 1.6.2), pkgconfig, rlang (>=\\n0.4.3), utils, vctrs (>= 0.3.8)\"                                                                                                                                                                                                                                                                                                                                                                                                                              \n",
            "tidyr         \"dplyr (>= 1.0.0), ellipsis (>= 0.1.0), glue, lifecycle,\\nmagrittr, purrr, rlang, tibble (>= 2.1.1), tidyselect (>=\\n1.1.0), utils, vctrs (>= 0.3.7)\"                                                                                                                                                                                                                                                                                                                                                                                                                                    \n",
            "tidyselect    \"ellipsis, glue (>= 1.3.0), purrr (>= 0.3.2), rlang (>= 1.0.1),\\nvctrs (>= 0.3.0)\"                                                                                                                                                                                                                                                                                                                                                                                                                                                                                                       \n",
            "tidyverse     \"broom (>= 0.7.6), cli (>= 2.4.0), crayon (>= 1.4.1), dbplyr\\n(>= 2.1.1), dplyr (>= 1.0.5), dtplyr (>= 1.1.0), forcats (>=\\n0.5.1), googledrive (>= 1.0.1), googlesheets4 (>= 0.3.0),\\nggplot2 (>= 3.3.3), haven (>= 2.3.1), hms (>= 1.0.0), httr (>=\\n1.4.2), jsonlite (>= 1.7.2), lubridate (>= 1.7.10), magrittr\\n(>= 2.0.1), modelr (>= 0.1.8), pillar (>= 1.6.0), purrr (>=\\n0.3.4), readr (>= 1.4.0), readxl (>= 1.3.1), reprex (>= 2.0.0),\\nrlang (>= 0.4.10), rstudioapi (>= 0.13), rvest (>= 1.0.0),\\nstringr (>= 1.4.0), tibble (>= 3.1.0), tidyr (>= 1.1.3), xml2\\n(>= 1.3.2)\"\n",
            "tinytex       \"xfun (>= 0.29)\"                                                                                                                                                                                                                                                                                                                                                                                                                                                                                                                                                                         \n",
            "tzdb          NA                                                                                                                                                                                                                                                                                                                                                                                                                                                                                                                                                                                       \n",
            "usethis       \"cli (>= 3.0.1), clipr (>= 0.3.0), crayon, curl (>= 2.7), desc\\n(>= 1.4.0), fs (>= 1.3.0), gert (>= 1.4.1), gh (>= 1.2.1), glue\\n(>= 1.3.0), jsonlite, lifecycle (>= 1.0.0), purrr, rappdirs,\\nrlang (>= 0.4.10), rprojroot (>= 1.2), rstudioapi, stats,\\nutils, whisker, withr (>= 2.3.0), yaml\"                                                                                                                                                                                                                                                                                        \n",
            "utf8          NA                                                                                                                                                                                                                                                                                                                                                                                                                                                                                                                                                                                       \n",
            "uuid          NA                                                                                                                                                                                                                                                                                                                                                                                                                                                                                                                                                                                       \n",
            "vctrs         \"cli (>= 3.2.0), glue, rlang (>= 1.0.2)\"                                                                                                                                                                                                                                                                                                                                                                                                                                                                                                                                                 \n",
            "viridisLite   NA                                                                                                                                                                                                                                                                                                                                                                                                                                                                                                                                                                                       \n",
            "vroom         \"bit64, crayon, cli, glue, hms, lifecycle, methods, rlang (>=\\n0.4.2), stats, tibble (>= 2.0.0), tzdb (>= 0.1.1), vctrs (>=\\n0.2.0), tidyselect, withr\"                                                                                                                                                                                                                                                                                                                                                                                                                                  \n",
            "waldo         \"cli, diffobj (>= 0.3.4), fansi, glue, methods, rematch2, rlang\\n(>= 1.0.0), tibble\"                                                                                                                                                                                                                                                                                                                                                                                                                                                                                                     \n",
            "whisker       NA                                                                                                                                                                                                                                                                                                                                                                                                                                                                                                                                                                                       \n",
            "withr         \"graphics, grDevices, stats\"                                                                                                                                                                                                                                                                                                                                                                                                                                                                                                                                                             \n",
            "xfun          \"stats, tools\"                                                                                                                                                                                                                                                                                                                                                                                                                                                                                                                                                                           \n",
            "xml2          \"methods\"                                                                                                                                                                                                                                                                                                                                                                                                                                                                                                                                                                                \n",
            "xopen         \"processx\"                                                                                                                                                                                                                                                                                                                                                                                                                                                                                                                                                                               \n",
            "yaml          NA                                                                                                                                                                                                                                                                                                                                                                                                                                                                                                                                                                                       \n",
            "zip           NA                                                                                                                                                                                                                                                                                                                                                                                                                                                                                                                                                                                       \n",
            "base          NA                                                                                                                                                                                                                                                                                                                                                                                                                                                                                                                                                                                       \n",
            "boot          NA                                                                                                                                                                                                                                                                                                                                                                                                                                                                                                                                                                                       \n",
            "class         \"MASS\"                                                                                                                                                                                                                                                                                                                                                                                                                                                                                                                                                                                   \n",
            "cluster       \"graphics, grDevices, stats, utils\"                                                                                                                                                                                                                                                                                                                                                                                                                                                                                                                                                      \n",
            "codetools     NA                                                                                                                                                                                                                                                                                                                                                                                                                                                                                                                                                                                       \n",
            "compiler      NA                                                                                                                                                                                                                                                                                                                                                                                                                                                                                                                                                                                       \n",
            "datasets      NA                                                                                                                                                                                                                                                                                                                                                                                                                                                                                                                                                                                       \n",
            "foreign       \"methods, utils, stats\"                                                                                                                                                                                                                                                                                                                                                                                                                                                                                                                                                                  \n",
            "graphics      \"grDevices\"                                                                                                                                                                                                                                                                                                                                                                                                                                                                                                                                                                              \n",
            "grDevices     NA                                                                                                                                                                                                                                                                                                                                                                                                                                                                                                                                                                                       \n",
            "grid          \"grDevices, utils\"                                                                                                                                                                                                                                                                                                                                                                                                                                                                                                                                                                       \n",
            "KernSmooth    NA                                                                                                                                                                                                                                                                                                                                                                                                                                                                                                                                                                                       \n",
            "lattice       \"grid, grDevices, graphics, stats, utils\"                                                                                                                                                                                                                                                                                                                                                                                                                                                                                                                                                \n",
            "MASS          \"methods\"                                                                                                                                                                                                                                                                                                                                                                                                                                                                                                                                                                                \n",
            "Matrix        \"methods, graphics, grid, stats, utils, lattice\"                                                                                                                                                                                                                                                                                                                                                                                                                                                                                                                                         \n",
            "methods       \"utils, stats\"                                                                                                                                                                                                                                                                                                                                                                                                                                                                                                                                                                           \n",
            "mgcv          \"methods, stats, graphics, Matrix, splines, utils\"                                                                                                                                                                                                                                                                                                                                                                                                                                                                                                                                       \n",
            "nlme          \"graphics, stats, utils, lattice\"                                                                                                                                                                                                                                                                                                                                                                                                                                                                                                                                                        \n",
            "nnet          NA                                                                                                                                                                                                                                                                                                                                                                                                                                                                                                                                                                                       \n",
            "parallel      \"tools, compiler\"                                                                                                                                                                                                                                                                                                                                                                                                                                                                                                                                                                        \n",
            "rpart         NA                                                                                                                                                                                                                                                                                                                                                                                                                                                                                                                                                                                       \n",
            "spatial       NA                                                                                                                                                                                                                                                                                                                                                                                                                                                                                                                                                                                       \n",
            "splines       \"graphics, stats\"                                                                                                                                                                                                                                                                                                                                                                                                                                                                                                                                                                        \n",
            "stats         \"utils, grDevices, graphics\"                                                                                                                                                                                                                                                                                                                                                                                                                                                                                                                                                             \n",
            "stats4        \"graphics, methods, stats\"                                                                                                                                                                                                                                                                                                                                                                                                                                                                                                                                                               \n",
            "survival      \"graphics, Matrix, methods, splines, stats, utils\"                                                                                                                                                                                                                                                                                                                                                                                                                                                                                                                                       \n",
            "tcltk         \"utils\"                                                                                                                                                                                                                                                                                                                                                                                                                                                                                                                                                                                  \n",
            "tools         NA                                                                                                                                                                                                                                                                                                                                                                                                                                                                                                                                                                                       \n",
            "utils         NA                                                                                                                                                                                                                                                                                                                                                                                                                                                                                                                                                                                       \n",
            "              LinkingTo                                               \n",
            "IRdisplay     NA                                                      \n",
            "IRkernel      NA                                                      \n",
            "pbdZMQ        NA                                                      \n",
            "repr          NA                                                      \n",
            "askpass       NA                                                      \n",
            "assertthat    NA                                                      \n",
            "backports     NA                                                      \n",
            "base64enc     NA                                                      \n",
            "bit           NA                                                      \n",
            "bit64         NA                                                      \n",
            "blob          NA                                                      \n",
            "brew          NA                                                      \n",
            "brio          NA                                                      \n",
            "broom         NA                                                      \n",
            "bslib         NA                                                      \n",
            "cachem        NA                                                      \n",
            "callr         NA                                                      \n",
            "cellranger    NA                                                      \n",
            "cli           NA                                                      \n",
            "clipr         NA                                                      \n",
            "colorspace    NA                                                      \n",
            "commonmark    NA                                                      \n",
            "cpp11         NA                                                      \n",
            "crayon        NA                                                      \n",
            "credentials   NA                                                      \n",
            "curl          NA                                                      \n",
            "data.table    NA                                                      \n",
            "DBI           NA                                                      \n",
            "dbplyr        NA                                                      \n",
            "desc          NA                                                      \n",
            "devtools      NA                                                      \n",
            "diffobj       NA                                                      \n",
            "digest        NA                                                      \n",
            "dplyr         NA                                                      \n",
            "dtplyr        NA                                                      \n",
            "ellipsis      NA                                                      \n",
            "evaluate      NA                                                      \n",
            "fansi         NA                                                      \n",
            "farver        NA                                                      \n",
            "fastmap       NA                                                      \n",
            "forcats       NA                                                      \n",
            "fs            NA                                                      \n",
            "gargle        NA                                                      \n",
            "generics      NA                                                      \n",
            "gert          NA                                                      \n",
            "ggplot2       NA                                                      \n",
            "gh            NA                                                      \n",
            "gitcreds      NA                                                      \n",
            "glue          NA                                                      \n",
            "googledrive   NA                                                      \n",
            "googlesheets4 NA                                                      \n",
            "gtable        NA                                                      \n",
            "haven         \"cpp11\"                                                 \n",
            "highr         NA                                                      \n",
            "hms           NA                                                      \n",
            "htmltools     NA                                                      \n",
            "httr          NA                                                      \n",
            "ids           NA                                                      \n",
            "ini           NA                                                      \n",
            "isoband       NA                                                      \n",
            "jquerylib     NA                                                      \n",
            "jsonlite      NA                                                      \n",
            "knitr         NA                                                      \n",
            "labeling      NA                                                      \n",
            "lifecycle     NA                                                      \n",
            "lubridate     \"cpp11 (>= 0.2.7)\"                                      \n",
            "magrittr      NA                                                      \n",
            "memoise       NA                                                      \n",
            "mime          NA                                                      \n",
            "modelr        NA                                                      \n",
            "munsell       NA                                                      \n",
            "openssl       NA                                                      \n",
            "pillar        NA                                                      \n",
            "pkgbuild      NA                                                      \n",
            "pkgconfig     NA                                                      \n",
            "pkgload       NA                                                      \n",
            "praise        NA                                                      \n",
            "prettyunits   NA                                                      \n",
            "processx      NA                                                      \n",
            "progress      NA                                                      \n",
            "ps            NA                                                      \n",
            "purrr         NA                                                      \n",
            "R6            NA                                                      \n",
            "rappdirs      NA                                                      \n",
            "rcmdcheck     NA                                                      \n",
            "RColorBrewer  NA                                                      \n",
            "readr         \"cpp11, tzdb (>= 0.1.1)\"                                \n",
            "readxl        \"cpp11 (>= 0.4.0), progress\"                            \n",
            "rematch       NA                                                      \n",
            "rematch2      NA                                                      \n",
            "remotes       NA                                                      \n",
            "reprex        NA                                                      \n",
            "rlang         NA                                                      \n",
            "rmarkdown     NA                                                      \n",
            "roxygen2      \"cpp11\"                                                 \n",
            "rprojroot     NA                                                      \n",
            "rstudioapi    NA                                                      \n",
            "rversions     NA                                                      \n",
            "rvest         NA                                                      \n",
            "sass          NA                                                      \n",
            "scales        NA                                                      \n",
            "selectr       NA                                                      \n",
            "sessioninfo   NA                                                      \n",
            "stringi       NA                                                      \n",
            "stringr       NA                                                      \n",
            "svglite       \"cpp11, systemfonts\"                                    \n",
            "sys           NA                                                      \n",
            "systemfonts   \"cpp11 (>= 0.2.1)\"                                      \n",
            "testthat      NA                                                      \n",
            "tibble        NA                                                      \n",
            "tidyr         \"cpp11 (>= 0.4.0)\"                                      \n",
            "tidyselect    NA                                                      \n",
            "tidyverse     NA                                                      \n",
            "tinytex       NA                                                      \n",
            "tzdb          \"cpp11 (>= 0.4.2)\"                                      \n",
            "usethis       NA                                                      \n",
            "utf8          NA                                                      \n",
            "uuid          NA                                                      \n",
            "vctrs         NA                                                      \n",
            "viridisLite   NA                                                      \n",
            "vroom         \"progress (>= 1.2.1), cpp11 (>= 0.2.0), tzdb (>= 0.1.1)\"\n",
            "waldo         NA                                                      \n",
            "whisker       NA                                                      \n",
            "withr         NA                                                      \n",
            "xfun          NA                                                      \n",
            "xml2          NA                                                      \n",
            "xopen         NA                                                      \n",
            "yaml          NA                                                      \n",
            "zip           NA                                                      \n",
            "base          NA                                                      \n",
            "boot          NA                                                      \n",
            "class         NA                                                      \n",
            "cluster       NA                                                      \n",
            "codetools     NA                                                      \n",
            "compiler      NA                                                      \n",
            "datasets      NA                                                      \n",
            "foreign       NA                                                      \n",
            "graphics      NA                                                      \n",
            "grDevices     NA                                                      \n",
            "grid          NA                                                      \n",
            "KernSmooth    NA                                                      \n",
            "lattice       NA                                                      \n",
            "MASS          NA                                                      \n",
            "Matrix        NA                                                      \n",
            "methods       NA                                                      \n",
            "mgcv          NA                                                      \n",
            "nlme          NA                                                      \n",
            "nnet          NA                                                      \n",
            "parallel      NA                                                      \n",
            "rpart         NA                                                      \n",
            "spatial       NA                                                      \n",
            "splines       NA                                                      \n",
            "stats         NA                                                      \n",
            "stats4        NA                                                      \n",
            "survival      NA                                                      \n",
            "tcltk         NA                                                      \n",
            "tools         NA                                                      \n",
            "utils         NA                                                      \n",
            "              Suggests                                                                                                                                                                                                                                                                                                                                                                                                                                                                                                                                                                                                                                                                                                                                                                    \n",
            "IRdisplay     \"testthat, withr\"                                                                                                                                                                                                                                                                                                                                                                                                                                                                                                                                                                                                                                                                                                                                                           \n",
            "IRkernel      \"testthat, roxygen2\"                                                                                                                                                                                                                                                                                                                                                                                                                                                                                                                                                                                                                                                                                                                                                        \n",
            "pbdZMQ        NA                                                                                                                                                                                                                                                                                                                                                                                                                                                                                                                                                                                                                                                                                                                                                                          \n",
            "repr          \"methods, highr, Cairo, stringr, testthat (>= 3.0.0), leaflet\"                                                                                                                                                                                                                                                                                                                                                                                                                                                                                                                                                                                                                                                                                                              \n",
            "askpass       \"testthat\"                                                                                                                                                                                                                                                                                                                                                                                                                                                                                                                                                                                                                                                                                                                                                                  \n",
            "assertthat    \"testthat, covr\"                                                                                                                                                                                                                                                                                                                                                                                                                                                                                                                                                                                                                                                                                                                                                            \n",
            "backports     NA                                                                                                                                                                                                                                                                                                                                                                                                                                                                                                                                                                                                                                                                                                                                                                          \n",
            "base64enc     NA                                                                                                                                                                                                                                                                                                                                                                                                                                                                                                                                                                                                                                                                                                                                                                          \n",
            "bit           \"testthat (>= 0.11.0), roxygen2, knitr, rmarkdown,\\nmicrobenchmark, bit64 (>= 4.0.0), ff (>= 4.0.0)\"                                                                                                                                                                                                                                                                                                                                                                                                                                                                                                                                                                                                                                                                        \n",
            "bit64         NA                                                                                                                                                                                                                                                                                                                                                                                                                                                                                                                                                                                                                                                                                                                                                                          \n",
            "blob          \"covr, crayon, pillar (>= 1.2.1), testthat\"                                                                                                                                                                                                                                                                                                                                                                                                                                                                                                                                                                                                                                                                                                                                 \n",
            "brew          \"testthat\"                                                                                                                                                                                                                                                                                                                                                                                                                                                                                                                                                                                                                                                                                                                                                                  \n",
            "brio          \"covr, testthat (>= 2.1.0)\"                                                                                                                                                                                                                                                                                                                                                                                                                                                                                                                                                                                                                                                                                                                                                 \n",
            "broom         \"AER, akima, AUC, bbmle, betareg, biglm, binGroup, boot,\\nbtergm (>= 1.10.6), car, caret, cluster, cmprsk, coda, covr,\\ndrc, e1071, emmeans, epiR, ergm (>= 3.10.4), fixest (>= 0.9.0),\\ngam (>= 1.15), gee, geepack, glmnet, glmnetUtils, gmm, Hmisc,\\nirlba, joineRML, Kendall, knitr, ks, Lahman, lavaan, leaps,\\nlfe, lm.beta, lme4, lmodel2, lmtest (>= 0.9.38), lsmeans, maps,\\nmaptools, margins, MASS, Matrix, mclust, mediation, metafor,\\nmfx, mgcv, mlogit, modeldata, modeltests, muhaz, multcomp,\\nnetwork, nnet, orcutt (>= 2.2), ordinal, plm, poLCA, psych,\\nquantreg, rgeos, rmarkdown, robust, robustbase, rsample,\\nsandwich, sp, spdep (>= 1.1), spatialreg, speedglm, spelling,\\nsurvey, survival, systemfit, testthat (>= 2.1.0), tseries,\\nvars, zoo\"\n",
            "bslib         \"shiny (>= 1.6.0), rmarkdown (>= 2.7), thematic, knitr,\\ntestthat, withr, rappdirs, curl, magrittr\"                                                                                                                                                                                                                                                                                                                                                                                                                                                                                                                                                                                                                                                                         \n",
            "cachem        \"testthat\"                                                                                                                                                                                                                                                                                                                                                                                                                                                                                                                                                                                                                                                                                                                                                                  \n",
            "callr         \"cli, covr, ps, rprojroot, spelling, testthat, withr (>=\\n2.3.0)\"                                                                                                                                                                                                                                                                                                                                                                                                                                                                                                                                                                                                                                                                                                           \n",
            "cellranger    \"covr, testthat (>= 1.0.0), knitr, rmarkdown\"                                                                                                                                                                                                                                                                                                                                                                                                                                                                                                                                                                                                                                                                                                                               \n",
            "cli           \"asciicast, callr, covr, digest, grDevices, htmltools,\\nhtmlwidgets, knitr, methods, mockery, processx, ps (>=\\n1.3.4.9000), rlang, rmarkdown, rstudioapi, shiny, testthat,\\ntibble, whoami, withr\"                                                                                                                                                                                                                                                                                                                                                                                                                                                                                                                                                                         \n",
            "clipr         \"covr, knitr, rmarkdown, rstudioapi (>= 0.5), testthat (>=\\n2.0.0)\"                                                                                                                                                                                                                                                                                                                                                                                                                                                                                                                                                                                                                                                                                                         \n",
            "colorspace    \"datasets, utils, KernSmooth, MASS, kernlab, mvtnorm, vcd,\\ntcltk, shiny, shinyjs, ggplot2, dplyr, scales, grid, png, jpeg,\\nknitr, rmarkdown, RColorBrewer, rcartocolor, scico, viridis,\\nwesanderson\"                                                                                                                                                                                                                                                                                                                                                                                                                                                                                                                                                                     \n",
            "commonmark    \"curl, testthat, xml2\"                                                                                                                                                                                                                                                                                                                                                                                                                                                                                                                                                                                                                                                                                                                                                      \n",
            "cpp11         \"bench, brio, callr, cli, covr, decor, desc, ggplot2, glue,\\nknitr, lobstr, mockery, progress, rmarkdown, scales, Rcpp,\\ntestthat, tibble, utils, vctrs, withr\"                                                                                                                                                                                                                                                                                                                                                                                                                                                                                                                                                                                                             \n",
            "crayon        \"mockery, rstudioapi, testthat, withr\"                                                                                                                                                                                                                                                                                                                                                                                                                                                                                                                                                                                                                                                                                                                                      \n",
            "credentials   \"testthat, knitr, rmarkdown\"                                                                                                                                                                                                                                                                                                                                                                                                                                                                                                                                                                                                                                                                                                                                                \n",
            "curl          \"spelling, testthat (>= 1.0.0), knitr, jsonlite, rmarkdown,\\nmagrittr, httpuv (>= 1.4.4), webutils\"                                                                                                                                                                                                                                                                                                                                                                                                                                                                                                                                                                                                                                                                         \n",
            "data.table    \"bit64 (>= 4.0.0), bit (>= 4.0.4), curl, R.utils, xts,\\nnanotime, zoo (>= 1.8-1), yaml, knitr, rmarkdown\"                                                                                                                                                                                                                                                                                                                                                                                                                                                                                                                                                                                                                                                                   \n",
            "DBI           \"blob, covr, DBItest, dbplyr, downlit, dplyr, glue, hms,\\nknitr, magrittr, RMariaDB, rmarkdown, rprojroot, RSQLite (>=\\n1.1-2), testthat, xml2\"                                                                                                                                                                                                                                                                                                                                                                                                                                                                                                                                                                                                                             \n",
            "dbplyr        \"bit64, covr, knitr, Lahman, nycflights13, odbc, RMariaDB (>=\\n1.0.2), rmarkdown, RPostgres (>= 1.1.3), RPostgreSQL, RSQLite\\n(>= 2.1.0), testthat (>= 3.0.2), tidyr\"                                                                                                                                                                                                                                                                                                                                                                                                                                                                                                                                                                                                       \n",
            "desc          \"callr, covr, gh, spelling, testthat, whoami, withr\"                                                                                                                                                                                                                                                                                                                                                                                                                                                                                                                                                                                                                                                                                                                        \n",
            "devtools      \"BiocManager (>= 1.30.12), covr (>= 3.5.1), curl (>= 4.3),\\ndigest (>= 0.6.27), DT (>= 0.17), foghorn (>= 1.3.2), gh (>=\\n1.2.1), gmailr (>= 1.0.0), knitr (>= 1.31), lintr (>= 2.0.1),\\nMASS, mockery (>= 0.4.2), pingr (>= 2.0.1), pkgdown (>= 1.6.1),\\nrhub (>= 1.1.1), rmarkdown (>= 2.7), spelling (>= 2.2)\"                                                                                                                                                                                                                                                                                                                                                                                                                                                           \n",
            "diffobj       \"knitr, rmarkdown\"                                                                                                                                                                                                                                                                                                                                                                                                                                                                                                                                                                                                                                                                                                                                                          \n",
            "digest        \"tinytest, simplermarkdown\"                                                                                                                                                                                                                                                                                                                                                                                                                                                                                                                                                                                                                                                                                                                                                 \n",
            "dplyr         \"bench, broom, callr, covr, DBI, dbplyr (>= 1.4.3), ggplot2,\\nknitr, Lahman, lobstr, microbenchmark, nycflights13, purrr,\\nrmarkdown, RMySQL, RPostgreSQL, RSQLite, testthat (>= 3.1.1),\\ntidyr, withr\"                                                                                                                                                                                                                                                                                                                                                                                                                                                                                                                                                                     \n",
            "dtplyr        \"bench, covr, knitr, rmarkdown, testthat (>= 3.0.0), tidyr (>=\\n1.1.0)\"                                                                                                                                                                                                                                                                                                                                                                                                                                                                                                                                                                                                                                                                                                     \n",
            "ellipsis      \"covr, testthat\"                                                                                                                                                                                                                                                                                                                                                                                                                                                                                                                                                                                                                                                                                                                                                            \n",
            "evaluate      \"covr, ggplot2, lattice, testthat\"                                                                                                                                                                                                                                                                                                                                                                                                                                                                                                                                                                                                                                                                                                                                          \n",
            "fansi         \"unitizer, knitr, rmarkdown\"                                                                                                                                                                                                                                                                                                                                                                                                                                                                                                                                                                                                                                                                                                                                                \n",
            "farver        \"testthat (>= 2.1.0), covr\"                                                                                                                                                                                                                                                                                                                                                                                                                                                                                                                                                                                                                                                                                                                                                 \n",
            "fastmap       \"testthat (>= 2.1.1)\"                                                                                                                                                                                                                                                                                                                                                                                                                                                                                                                                                                                                                                                                                                                                                       \n",
            "forcats       \"covr, dplyr, ggplot2, knitr, readr, rmarkdown, testthat\"                                                                                                                                                                                                                                                                                                                                                                                                                                                                                                                                                                                                                                                                                                                   \n",
            "fs            \"testthat, covr, pillar (>= 1.0.0), tibble (>= 1.1.0), crayon,\\nrmarkdown, knitr, withr, spelling, vctrs (>= 0.3.0)\"                                                                                                                                                                                                                                                                                                                                                                                                                                                                                                                                                                                                                                                        \n",
            "gargle        \"aws.ec2metadata, aws.signature, covr, httpuv, knitr, mockr,\\nrmarkdown, sodium, spelling, testthat (>= 3.0.0)\"                                                                                                                                                                                                                                                                                                                                                                                                                                                                                                                                                                                                                                                             \n",
            "generics      \"covr, pkgload, testthat (>= 3.0.0), tibble, withr\"                                                                                                                                                                                                                                                                                                                                                                                                                                                                                                                                                                                                                                                                                                                         \n",
            "gert          \"spelling, knitr, rmarkdown, testthat\"                                                                                                                                                                                                                                                                                                                                                                                                                                                                                                                                                                                                                                                                                                                                      \n",
            "ggplot2       \"covr, ragg, dplyr, ggplot2movies, hexbin, Hmisc, interp,\\nknitr, lattice, mapproj, maps, maptools, multcomp, munsell,\\nnlme, profvis, quantreg, RColorBrewer, rgeos, rmarkdown, rpart,\\nsf (>= 0.7-3), svglite (>= 1.2.0.9001), testthat (>= 2.1.0),\\nvdiffr (>= 1.0.0), xml2\"                                                                                                                                                                                                                                                                                                                                                                                                                                                                                             \n",
            "gh            \"covr, knitr, mockery, rmarkdown, rprojroot, spelling,\\ntestthat (>= 2.3.2), withr\"                                                                                                                                                                                                                                                                                                                                                                                                                                                                                                                                                                                                                                                                                         \n",
            "gitcreds      \"codetools, testthat, knitr, mockery, oskeyring, rmarkdown,\\nwithr\"                                                                                                                                                                                                                                                                                                                                                                                                                                                                                                                                                                                                                                                                                                         \n",
            "glue          \"covr, crayon, DBI, dplyr, forcats, ggplot2, knitr, magrittr,\\nmicrobenchmark, R.utils, rmarkdown, rprintf, RSQLite, stringr,\\ntestthat (>= 3.0.0), vctrs (>= 0.3.0), waldo (>= 0.3.0), withr\"                                                                                                                                                                                                                                                                                                                                                                                                                                                                                                                                                                              \n",
            "googledrive   \"covr, curl, downlit, dplyr (>= 1.0.0), knitr, mockr,\\nrmarkdown, roxygen2, sodium, spelling, testthat (>= 3.0.0)\"                                                                                                                                                                                                                                                                                                                                                                                                                                                                                                                                                                                                                                                          \n",
            "googlesheets4 \"covr, readr, rmarkdown, sodium, spelling, testthat (>=\\n3.0.0), withr\"                                                                                                                                                                                                                                                                                                                                                                                                                                                                                                                                                                                                                                                                                                     \n",
            "gtable        \"covr, testthat, knitr, rmarkdown, ggplot2, profvis\"                                                                                                                                                                                                                                                                                                                                                                                                                                                                                                                                                                                                                                                                                                                        \n",
            "haven         \"covr, crayon, fs, knitr, pillar (>= 1.4.0), rmarkdown,\\ntestthat (>= 3.0.0)\"                                                                                                                                                                                                                                                                                                                                                                                                                                                                                                                                                                                                                                                                                               \n",
            "highr         \"knitr, markdown, testit\"                                                                                                                                                                                                                                                                                                                                                                                                                                                                                                                                                                                                                                                                                                                                                   \n",
            "hms           \"crayon, lubridate, pillar (>= 1.1.0), testthat (>= 3.0.0)\"                                                                                                                                                                                                                                                                                                                                                                                                                                                                                                                                                                                                                                                                                                                 \n",
            "htmltools     \"markdown, testthat, withr, Cairo, ragg, shiny\"                                                                                                                                                                                                                                                                                                                                                                                                                                                                                                                                                                                                                                                                                                                             \n",
            "httr          \"covr, httpuv, jpeg, knitr, png, readr, rmarkdown, testthat\\n(>= 0.8.0), xml2\"                                                                                                                                                                                                                                                                                                                                                                                                                                                                                                                                                                                                                                                                                              \n",
            "ids           \"knitr, rcorpora, rmarkdown, testthat\"                                                                                                                                                                                                                                                                                                                                                                                                                                                                                                                                                                                                                                                                                                                                      \n",
            "ini           \"testthat\"                                                                                                                                                                                                                                                                                                                                                                                                                                                                                                                                                                                                                                                                                                                                                                  \n",
            "isoband       \"covr, ggplot2, knitr, magick, microbenchmark, rmarkdown, sf,\\ntestthat, xml2\"                                                                                                                                                                                                                                                                                                                                                                                                                                                                                                                                                                                                                                                                                              \n",
            "jquerylib     \"testthat\"                                                                                                                                                                                                                                                                                                                                                                                                                                                                                                                                                                                                                                                                                                                                                                  \n",
            "jsonlite      \"httr, curl, vctrs, testthat, knitr, rmarkdown, R.rsp, sf\"                                                                                                                                                                                                                                                                                                                                                                                                                                                                                                                                                                                                                                                                                                                  \n",
            "knitr         \"markdown, formatR, testit, digest, rgl (>= 0.95.1201),\\ncodetools, rmarkdown, htmlwidgets (>= 0.7), webshot, tikzDevice\\n(>= 0.10), tinytex, reticulate (>= 1.4), JuliaCall (>= 0.11.1),\\nmagick, png, jpeg, gifski, xml2 (>= 1.2.0), httr, DBI (>=\\n0.4-1), showtext, tibble, sass, bslib, ragg, styler (>= 1.2.0),\\ntargets (>= 0.6.0)\"                                                                                                                                                                                                                                                                                                                                                                                                                                  \n",
            "labeling      NA                                                                                                                                                                                                                                                                                                                                                                                                                                                                                                                                                                                                                                                                                                                                                                          \n",
            "lifecycle     \"covr, crayon, lintr, tidyverse, knitr, rmarkdown, testthat\\n(>= 3.0.1), tools, tibble, vctrs\"                                                                                                                                                                                                                                                                                                                                                                                                                                                                                                                                                                                                                                                                              \n",
            "lubridate     \"covr, knitr, testthat (>= 2.1.0), vctrs (>= 0.3.0), rmarkdown\"                                                                                                                                                                                                                                                                                                                                                                                                                                                                                                                                                                                                                                                                                                             \n",
            "magrittr      \"covr, knitr, rlang, rmarkdown, testthat\"                                                                                                                                                                                                                                                                                                                                                                                                                                                                                                                                                                                                                                                                                                                                   \n",
            "memoise       \"digest, aws.s3, covr, googleAuthR, googleCloudStorageR, httr,\\ntestthat\"                                                                                                                                                                                                                                                                                                                                                                                                                                                                                                                                                                                                                                                                                                   \n",
            "mime          NA                                                                                                                                                                                                                                                                                                                                                                                                                                                                                                                                                                                                                                                                                                                                                                          \n",
            "modelr        \"compiler, covr, ggplot2, testthat\"                                                                                                                                                                                                                                                                                                                                                                                                                                                                                                                                                                                                                                                                                                                                         \n",
            "munsell       \"ggplot2, testthat\"                                                                                                                                                                                                                                                                                                                                                                                                                                                                                                                                                                                                                                                                                                                                                         \n",
            "openssl       \"curl, testthat (>= 2.1.0), digest, knitr, rmarkdown,\\njsonlite, jose, sodium\"                                                                                                                                                                                                                                                                                                                                                                                                                                                                                                                                                                                                                                                                                              \n",
            "pillar        \"bit64, debugme, DiagrammeR, dplyr, formattable, ggplot2,\\nknitr, lubridate, nanotime, nycflights13, palmerpenguins,\\nrmarkdown, scales, stringi, survival, testthat (>= 3.1.1),\\ntibble, units (>= 0.7.2), vdiffr, withr\"                                                                                                                                                                                                                                                                                                                                                                                                                                                                                                                                                  \n",
            "pkgbuild      \"Rcpp, cpp11, testthat, covr\"                                                                                                                                                                                                                                                                                                                                                                                                                                                                                                                                                                                                                                                                                                                                               \n",
            "pkgconfig     \"covr, testthat, disposables (>= 1.0.3)\"                                                                                                                                                                                                                                                                                                                                                                                                                                                                                                                                                                                                                                                                                                                                    \n",
            "pkgload       \"bitops, covr, pkgbuild, Rcpp, testthat\"                                                                                                                                                                                                                                                                                                                                                                                                                                                                                                                                                                                                                                                                                                                                    \n",
            "praise        \"testthat\"                                                                                                                                                                                                                                                                                                                                                                                                                                                                                                                                                                                                                                                                                                                                                                  \n",
            "prettyunits   \"codetools, covr, testthat\"                                                                                                                                                                                                                                                                                                                                                                                                                                                                                                                                                                                                                                                                                                                                                 \n",
            "processx      \"callr (>= 3.7.0), cli (>= 1.1.0), codetools, covr, curl,\\ndebugme, parallel, testthat (>= 3.0.0), withr\"                                                                                                                                                                                                                                                                                                                                                                                                                                                                                                                                                                                                                                                                   \n",
            "progress      \"Rcpp, testthat, withr\"                                                                                                                                                                                                                                                                                                                                                                                                                                                                                                                                                                                                                                                                                                                                                     \n",
            "ps            \"callr, covr, curl, pingr, processx (>= 3.1.0), R6, rlang,\\ntestthat, tibble\"                                                                                                                                                                                                                                                                                                                                                                                                                                                                                                                                                                                                                                                                                               \n",
            "purrr         \"covr, crayon, dplyr (>= 0.7.8), knitr, rmarkdown, testthat,\\ntibble, tidyselect\"                                                                                                                                                                                                                                                                                                                                                                                                                                                                                                                                                                                                                                                                                           \n",
            "R6            \"testthat, pryr\"                                                                                                                                                                                                                                                                                                                                                                                                                                                                                                                                                                                                                                                                                                                                                            \n",
            "rappdirs      \"roxygen2, testthat (>= 3.0.0), covr, withr\"                                                                                                                                                                                                                                                                                                                                                                                                                                                                                                                                                                                                                                                                                                                                \n",
            "rcmdcheck     \"covr, knitr, mockery, processx, ps, rmarkdown, svglite,\\ntestthat, webfakes\"                                                                                                                                                                                                                                                                                                                                                                                                                                                                                                                                                                                                                                                                                               \n",
            "RColorBrewer  NA                                                                                                                                                                                                                                                                                                                                                                                                                                                                                                                                                                                                                                                                                                                                                                          \n",
            "readr         \"covr, curl, datasets, knitr, rmarkdown, spelling, stringi,\\ntestthat (>= 3.1.2), tzdb (>= 0.1.1), waldo, withr, xml2\"                                                                                                                                                                                                                                                                                                                                                                                                                                                                                                                                                                                                                                                      \n",
            "readxl        \"knitr, rmarkdown, testthat (>= 3.0.0)\"                                                                                                                                                                                                                                                                                                                                                                                                                                                                                                                                                                                                                                                                                                                                     \n",
            "rematch       \"covr, testthat\"                                                                                                                                                                                                                                                                                                                                                                                                                                                                                                                                                                                                                                                                                                                                                            \n",
            "rematch2      \"covr, testthat\"                                                                                                                                                                                                                                                                                                                                                                                                                                                                                                                                                                                                                                                                                                                                                            \n",
            "remotes       \"brew, callr, codetools, curl, covr, git2r (>= 0.23.0), knitr,\\nmockery, pkgbuild (>= 1.0.1), pingr, rmarkdown, rprojroot,\\ntestthat, webfakes, withr\"                                                                                                                                                                                                                                                                                                                                                                                                                                                                                                                                                                                                                      \n",
            "reprex        \"covr, fortunes, miniUI, mockr, rprojroot, sessioninfo, shiny,\\nspelling, styler (>= 1.2.0), testthat (>= 3.0.2)\"                                                                                                                                                                                                                                                                                                                                                                                                                                                                                                                                                                                                                                                           \n",
            "rlang         \"cli (>= 3.1.0), covr, crayon, fs, glue, knitr, magrittr,\\nmethods, pillar, rmarkdown, stats, testthat (>= 3.0.0), tibble,\\nusethis, vctrs (>= 0.2.3), withr\"                                                                                                                                                                                                                                                                                                                                                                                                                                                                                                                                                                                                               \n",
            "rmarkdown     \"digest, dygraphs, fs, rsconnect, downlit (>= 0.4.0), katex\\n(>= 1.4.0), sass (>= 0.4.0), shiny (>= 1.6.0), testthat (>=\\n3.0.3), tibble, tufte, vctrs, withr (>= 2.4.2)\"                                                                                                                                                                                                                                                                                                                                                                                                                                                                                                                                                                                                   \n",
            "roxygen2      \"covr, devtools, rmarkdown, testthat (>= 2.1.0), R.methodsS3,\\nR.oo\"                                                                                                                                                                                                                                                                                                                                                                                                                                                                                                                                                                                                                                                                                                        \n",
            "rprojroot     \"covr, knitr, lifecycle, mockr, rmarkdown, testthat (>=\\n3.0.0), withr\"                                                                                                                                                                                                                                                                                                                                                                                                                                                                                                                                                                                                                                                                                                     \n",
            "rstudioapi    \"testthat, knitr, rmarkdown, clipr\"                                                                                                                                                                                                                                                                                                                                                                                                                                                                                                                                                                                                                                                                                                                                         \n",
            "rversions     \"mockery, testthat\"                                                                                                                                                                                                                                                                                                                                                                                                                                                                                                                                                                                                                                                                                                                                                         \n",
            "rvest         \"covr, glue, knitr, readr, rmarkdown, repurrrsive, spelling,\\nstringi (>= 0.3.1), testthat (>= 3.0.2), webfakes\"                                                                                                                                                                                                                                                                                                                                                                                                                                                                                                                                                                                                                                                            \n",
            "sass          \"testthat, knitr, rmarkdown, withr, shiny, curl\"                                                                                                                                                                                                                                                                                                                                                                                                                                                                                                                                                                                                                                                                                                                            \n",
            "scales        \"bit64, covr, dichromat, ggplot2, hms (>= 0.5.0), stringi,\\ntestthat (>= 3.0.0), waldo (>= 0.4.0)\"                                                                                                                                                                                                                                                                                                                                                                                                                                                                                                                                                                                                                                                                          \n",
            "selectr       \"testthat, XML, xml2\"                                                                                                                                                                                                                                                                                                                                                                                                                                                                                                                                                                                                                                                                                                                                                       \n",
            "sessioninfo   \"callr, covr, mockery, reticulate, rmarkdown, testthat, withr\"                                                                                                                                                                                                                                                                                                                                                                                                                                                                                                                                                                                                                                                                                                              \n",
            "stringi       NA                                                                                                                                                                                                                                                                                                                                                                                                                                                                                                                                                                                                                                                                                                                                                                          \n",
            "stringr       \"covr, htmltools, htmlwidgets, knitr, rmarkdown, testthat\"                                                                                                                                                                                                                                                                                                                                                                                                                                                                                                                                                                                                                                                                                                                  \n",
            "svglite       \"htmltools, testthat, xml2 (>= 1.0.0), covr, fontquiver (>=\\n0.2.0), knitr, rmarkdown\"                                                                                                                                                                                                                                                                                                                                                                                                                                                                                                                                                                                                                                                                                      \n",
            "sys           \"unix (>= 1.4), spelling, testthat\"                                                                                                                                                                                                                                                                                                                                                                                                                                                                                                                                                                                                                                                                                                                                         \n",
            "systemfonts   \"testthat (>= 2.1.0), covr, knitr, rmarkdown, tools\"                                                                                                                                                                                                                                                                                                                                                                                                                                                                                                                                                                                                                                                                                                                        \n",
            "testthat      \"covr, curl (>= 0.9.5), diffviewer (>= 0.1.0), knitr, mockery,\\nrmarkdown, rstudioapi, shiny, usethis, vctrs (>= 0.1.0), xml2\"                                                                                                                                                                                                                                                                                                                                                                                                                                                                                                                                                                                                                                              \n",
            "tibble        \"bench, bit64, blob, brio, callr, cli, covr, crayon (>=\\n1.3.4), DiagrammeR, dplyr, evaluate, formattable, ggplot2, hms,\\nhtmltools, knitr, lubridate, mockr, nycflights13, pkgbuild,\\npkgload, purrr, rmarkdown, stringi, testthat (>= 3.0.2), tidyr,\\nwithr\"                                                                                                                                                                                                                                                                                                                                                                                                                                                                                                              \n",
            "tidyr         \"covr, data.table, jsonlite, knitr, readr, repurrrsive (>=\\n1.0.0), rmarkdown, testthat (>= 3.0.0)\"                                                                                                                                                                                                                                                                                                                                                                                                                                                                                                                                                                                                                                                                         \n",
            "tidyselect    \"covr, crayon, dplyr, knitr, magrittr, rmarkdown, testthat (>=\\n3.1.1), tibble (>= 2.1.3), withr\"                                                                                                                                                                                                                                                                                                                                                                                                                                                                                                                                                                                                                                                                           \n",
            "tidyverse     \"covr, feather, glue, knitr, rmarkdown, testthat\"                                                                                                                                                                                                                                                                                                                                                                                                                                                                                                                                                                                                                                                                                                                           \n",
            "tinytex       \"testit, rstudioapi\"                                                                                                                                                                                                                                                                                                                                                                                                                                                                                                                                                                                                                                                                                                                                                        \n",
            "tzdb          \"covr, testthat (>= 3.0.0)\"                                                                                                                                                                                                                                                                                                                                                                                                                                                                                                                                                                                                                                                                                                                                                 \n",
            "usethis       \"covr, knitr, magick, mockr, pkgload, rmarkdown, roxygen2 (>=\\n7.1.2), spelling (>= 1.2), styler (>= 1.2.0), testthat (>=\\n3.1.0)\"                                                                                                                                                                                                                                                                                                                                                                                                                                                                                                                                                                                                                                          \n",
            "utf8          \"cli, covr, knitr, rlang, rmarkdown, testthat (>= 3.0.0),\\nwithr\"                                                                                                                                                                                                                                                                                                                                                                                                                                                                                                                                                                                                                                                                                                           \n",
            "uuid          NA                                                                                                                                                                                                                                                                                                                                                                                                                                                                                                                                                                                                                                                                                                                                                                          \n",
            "vctrs         \"bit64, covr, crayon, dplyr (>= 0.8.5), generics, knitr,\\npillar (>= 1.4.4), pkgdown (>= 2.0.1), rmarkdown, testthat (>=\\n3.0.0), tibble (>= 3.1.3), withr, xml2, waldo (>= 0.2.0),\\nzeallot\"                                                                                                                                                                                                                                                                                                                                                                                                                                                                                                                                                                               \n",
            "viridisLite   \"hexbin (>= 1.27.0), ggplot2 (>= 1.0.1), testthat, covr\"                                                                                                                                                                                                                                                                                                                                                                                                                                                                                                                                                                                                                                                                                                                    \n",
            "vroom         \"archive, bench (>= 1.1.0), covr, curl, dplyr, forcats, fs,\\nggplot2, knitr, patchwork, prettyunits, purrr, rmarkdown,\\nrstudioapi, scales, spelling, testthat (>= 2.1.0), tidyr,\\nutils, waldo, xml2\"                                                                                                                                                                                                                                                                                                                                                                                                                                                                                                                                                                      \n",
            "waldo         \"covr, R6, testthat (>= 3.0.0), withr, xml2\"                                                                                                                                                                                                                                                                                                                                                                                                                                                                                                                                                                                                                                                                                                                                \n",
            "whisker       \"markdown\"                                                                                                                                                                                                                                                                                                                                                                                                                                                                                                                                                                                                                                                                                                                                                                  \n",
            "withr         \"callr, covr, DBI, knitr, lattice, methods, rlang, rmarkdown\\n(>= 2.12), RSQLite, testthat (>= 3.0.0)\"                                                                                                                                                                                                                                                                                                                                                                                                                                                                                                                                                                                                                                                                      \n",
            "xfun          \"testit, parallel, codetools, rstudioapi, tinytex (>= 0.30),\\nmime, markdown, knitr, htmltools, remotes, pak, rhub, renv,\\ncurl, jsonlite, rmarkdown\"                                                                                                                                                                                                                                                                                                                                                                                                                                                                                                                                                                                                                       \n",
            "xml2          \"covr, curl, httr, knitr, magrittr, mockery, rmarkdown,\\ntestthat (>= 2.1.0)\"                                                                                                                                                                                                                                                                                                                                                                                                                                                                                                                                                                                                                                                                                               \n",
            "xopen         \"ps, testthat\"                                                                                                                                                                                                                                                                                                                                                                                                                                                                                                                                                                                                                                                                                                                                                              \n",
            "yaml          \"RUnit\"                                                                                                                                                                                                                                                                                                                                                                                                                                                                                                                                                                                                                                                                                                                                                                     \n",
            "zip           \"covr, processx, R6, testthat, withr\"                                                                                                                                                                                                                                                                                                                                                                                                                                                                                                                                                                                                                                                                                                                                       \n",
            "base          \"methods\"                                                                                                                                                                                                                                                                                                                                                                                                                                                                                                                                                                                                                                                                                                                                                                   \n",
            "boot          \"MASS, survival\"                                                                                                                                                                                                                                                                                                                                                                                                                                                                                                                                                                                                                                                                                                                                                            \n",
            "class         NA                                                                                                                                                                                                                                                                                                                                                                                                                                                                                                                                                                                                                                                                                                                                                                          \n",
            "cluster       \"MASS, Matrix\"                                                                                                                                                                                                                                                                                                                                                                                                                                                                                                                                                                                                                                                                                                                                                              \n",
            "codetools     NA                                                                                                                                                                                                                                                                                                                                                                                                                                                                                                                                                                                                                                                                                                                                                                          \n",
            "compiler      NA                                                                                                                                                                                                                                                                                                                                                                                                                                                                                                                                                                                                                                                                                                                                                                          \n",
            "datasets      NA                                                                                                                                                                                                                                                                                                                                                                                                                                                                                                                                                                                                                                                                                                                                                                          \n",
            "foreign       NA                                                                                                                                                                                                                                                                                                                                                                                                                                                                                                                                                                                                                                                                                                                                                                          \n",
            "graphics      NA                                                                                                                                                                                                                                                                                                                                                                                                                                                                                                                                                                                                                                                                                                                                                                          \n",
            "grDevices     \"KernSmooth\"                                                                                                                                                                                                                                                                                                                                                                                                                                                                                                                                                                                                                                                                                                                                                                \n",
            "grid          NA                                                                                                                                                                                                                                                                                                                                                                                                                                                                                                                                                                                                                                                                                                                                                                          \n",
            "KernSmooth    \"MASS, carData\"                                                                                                                                                                                                                                                                                                                                                                                                                                                                                                                                                                                                                                                                                                                                                             \n",
            "lattice       \"KernSmooth, MASS, latticeExtra\"                                                                                                                                                                                                                                                                                                                                                                                                                                                                                                                                                                                                                                                                                                                                            \n",
            "MASS          \"lattice, nlme, nnet, survival\"                                                                                                                                                                                                                                                                                                                                                                                                                                                                                                                                                                                                                                                                                                                                             \n",
            "Matrix        \"expm, MASS\"                                                                                                                                                                                                                                                                                                                                                                                                                                                                                                                                                                                                                                                                                                                                                                \n",
            "methods       \"codetools\"                                                                                                                                                                                                                                                                                                                                                                                                                                                                                                                                                                                                                                                                                                                                                                 \n",
            "mgcv          \"parallel, survival, MASS\"                                                                                                                                                                                                                                                                                                                                                                                                                                                                                                                                                                                                                                                                                                                                                  \n",
            "nlme          \"Hmisc, MASS, SASmixed\"                                                                                                                                                                                                                                                                                                                                                                                                                                                                                                                                                                                                                                                                                                                                                     \n",
            "nnet          \"MASS\"                                                                                                                                                                                                                                                                                                                                                                                                                                                                                                                                                                                                                                                                                                                                                                      \n",
            "parallel      \"methods\"                                                                                                                                                                                                                                                                                                                                                                                                                                                                                                                                                                                                                                                                                                                                                                   \n",
            "rpart         \"survival\"                                                                                                                                                                                                                                                                                                                                                                                                                                                                                                                                                                                                                                                                                                                                                                  \n",
            "spatial       \"MASS\"                                                                                                                                                                                                                                                                                                                                                                                                                                                                                                                                                                                                                                                                                                                                                                      \n",
            "splines       \"Matrix, methods\"                                                                                                                                                                                                                                                                                                                                                                                                                                                                                                                                                                                                                                                                                                                                                           \n",
            "stats         \"MASS, Matrix, SuppDists, methods, stats4\"                                                                                                                                                                                                                                                                                                                                                                                                                                                                                                                                                                                                                                                                                                                                  \n",
            "stats4        NA                                                                                                                                                                                                                                                                                                                                                                                                                                                                                                                                                                                                                                                                                                                                                                          \n",
            "survival      NA                                                                                                                                                                                                                                                                                                                                                                                                                                                                                                                                                                                                                                                                                                                                                                          \n",
            "tcltk         NA                                                                                                                                                                                                                                                                                                                                                                                                                                                                                                                                                                                                                                                                                                                                                                          \n",
            "tools         \"codetools, methods, xml2, curl, commonmark\"                                                                                                                                                                                                                                                                                                                                                                                                                                                                                                                                                                                                                                                                                                                                \n",
            "utils         \"methods, xml2, commonmark\"                                                                                                                                                                                                                                                                                                                                                                                                                                                                                                                                                                                                                                                                                                                                                 \n",
            "              Enhances                                                             \n",
            "IRdisplay     NA                                                                   \n",
            "IRkernel      NA                                                                   \n",
            "pbdZMQ        NA                                                                   \n",
            "repr          \"data.table, tibble, htmlwidgets, vegalite, plotly, geojsonio\"       \n",
            "askpass       NA                                                                   \n",
            "assertthat    NA                                                                   \n",
            "backports     NA                                                                   \n",
            "base64enc     \"png\"                                                                \n",
            "bit           NA                                                                   \n",
            "bit64         NA                                                                   \n",
            "blob          NA                                                                   \n",
            "brew          NA                                                                   \n",
            "brio          NA                                                                   \n",
            "broom         NA                                                                   \n",
            "bslib         NA                                                                   \n",
            "cachem        NA                                                                   \n",
            "callr         NA                                                                   \n",
            "cellranger    NA                                                                   \n",
            "cli           NA                                                                   \n",
            "clipr         NA                                                                   \n",
            "colorspace    NA                                                                   \n",
            "commonmark    NA                                                                   \n",
            "cpp11         NA                                                                   \n",
            "crayon        NA                                                                   \n",
            "credentials   NA                                                                   \n",
            "curl          NA                                                                   \n",
            "data.table    NA                                                                   \n",
            "DBI           NA                                                                   \n",
            "dbplyr        NA                                                                   \n",
            "desc          NA                                                                   \n",
            "devtools      NA                                                                   \n",
            "diffobj       NA                                                                   \n",
            "digest        NA                                                                   \n",
            "dplyr         NA                                                                   \n",
            "dtplyr        NA                                                                   \n",
            "ellipsis      NA                                                                   \n",
            "evaluate      NA                                                                   \n",
            "fansi         NA                                                                   \n",
            "farver        NA                                                                   \n",
            "fastmap       NA                                                                   \n",
            "forcats       NA                                                                   \n",
            "fs            NA                                                                   \n",
            "gargle        NA                                                                   \n",
            "generics      NA                                                                   \n",
            "gert          NA                                                                   \n",
            "ggplot2       \"sp\"                                                                 \n",
            "gh            NA                                                                   \n",
            "gitcreds      NA                                                                   \n",
            "glue          NA                                                                   \n",
            "googledrive   NA                                                                   \n",
            "googlesheets4 NA                                                                   \n",
            "gtable        NA                                                                   \n",
            "haven         NA                                                                   \n",
            "highr         NA                                                                   \n",
            "hms           NA                                                                   \n",
            "htmltools     \"knitr\"                                                              \n",
            "httr          NA                                                                   \n",
            "ids           NA                                                                   \n",
            "ini           NA                                                                   \n",
            "isoband       NA                                                                   \n",
            "jquerylib     NA                                                                   \n",
            "jsonlite      NA                                                                   \n",
            "knitr         NA                                                                   \n",
            "labeling      NA                                                                   \n",
            "lifecycle     NA                                                                   \n",
            "lubridate     \"chron, timeDate, tis, zoo\"                                          \n",
            "magrittr      NA                                                                   \n",
            "memoise       NA                                                                   \n",
            "mime          NA                                                                   \n",
            "modelr        NA                                                                   \n",
            "munsell       NA                                                                   \n",
            "openssl       NA                                                                   \n",
            "pillar        NA                                                                   \n",
            "pkgbuild      NA                                                                   \n",
            "pkgconfig     NA                                                                   \n",
            "pkgload       NA                                                                   \n",
            "praise        NA                                                                   \n",
            "prettyunits   NA                                                                   \n",
            "processx      NA                                                                   \n",
            "progress      NA                                                                   \n",
            "ps            NA                                                                   \n",
            "purrr         NA                                                                   \n",
            "R6            NA                                                                   \n",
            "rappdirs      NA                                                                   \n",
            "rcmdcheck     NA                                                                   \n",
            "RColorBrewer  NA                                                                   \n",
            "readr         NA                                                                   \n",
            "readxl        NA                                                                   \n",
            "rematch       NA                                                                   \n",
            "rematch2      NA                                                                   \n",
            "remotes       NA                                                                   \n",
            "reprex        NA                                                                   \n",
            "rlang         \"winch\"                                                              \n",
            "rmarkdown     NA                                                                   \n",
            "roxygen2      NA                                                                   \n",
            "rprojroot     NA                                                                   \n",
            "rstudioapi    NA                                                                   \n",
            "rversions     NA                                                                   \n",
            "rvest         NA                                                                   \n",
            "sass          NA                                                                   \n",
            "scales        NA                                                                   \n",
            "selectr       NA                                                                   \n",
            "sessioninfo   NA                                                                   \n",
            "stringi       NA                                                                   \n",
            "stringr       NA                                                                   \n",
            "svglite       NA                                                                   \n",
            "sys           NA                                                                   \n",
            "systemfonts   NA                                                                   \n",
            "testthat      NA                                                                   \n",
            "tibble        NA                                                                   \n",
            "tidyr         NA                                                                   \n",
            "tidyselect    NA                                                                   \n",
            "tidyverse     NA                                                                   \n",
            "tinytex       NA                                                                   \n",
            "tzdb          NA                                                                   \n",
            "usethis       NA                                                                   \n",
            "utf8          NA                                                                   \n",
            "uuid          NA                                                                   \n",
            "vctrs         NA                                                                   \n",
            "viridisLite   NA                                                                   \n",
            "vroom         NA                                                                   \n",
            "waldo         NA                                                                   \n",
            "whisker       NA                                                                   \n",
            "withr         NA                                                                   \n",
            "xfun          NA                                                                   \n",
            "xml2          NA                                                                   \n",
            "xopen         NA                                                                   \n",
            "yaml          NA                                                                   \n",
            "zip           NA                                                                   \n",
            "base          NA                                                                   \n",
            "boot          NA                                                                   \n",
            "class         NA                                                                   \n",
            "cluster       NA                                                                   \n",
            "codetools     NA                                                                   \n",
            "compiler      NA                                                                   \n",
            "datasets      NA                                                                   \n",
            "foreign       NA                                                                   \n",
            "graphics      NA                                                                   \n",
            "grDevices     NA                                                                   \n",
            "grid          NA                                                                   \n",
            "KernSmooth    NA                                                                   \n",
            "lattice       \"chron\"                                                              \n",
            "MASS          NA                                                                   \n",
            "Matrix        \"MatrixModels, graph, SparseM, sfsmisc, igraph, maptools, sp,\\nspdep\"\n",
            "methods       NA                                                                   \n",
            "mgcv          NA                                                                   \n",
            "nlme          NA                                                                   \n",
            "nnet          NA                                                                   \n",
            "parallel      \"snow, nws, Rmpi\"                                                    \n",
            "rpart         NA                                                                   \n",
            "spatial       NA                                                                   \n",
            "splines       NA                                                                   \n",
            "stats         NA                                                                   \n",
            "stats4        NA                                                                   \n",
            "survival      NA                                                                   \n",
            "tcltk         NA                                                                   \n",
            "tools         NA                                                                   \n",
            "utils         NA                                                                   \n",
            "              License                                  License_is_FOSS\n",
            "IRdisplay     \"MIT + file LICENSE\"                     NA             \n",
            "IRkernel      \"MIT + file LICENSE\"                     NA             \n",
            "pbdZMQ        \"GPL-3\"                                  NA             \n",
            "repr          \"GPL-3\"                                  NA             \n",
            "askpass       \"MIT + file LICENSE\"                     NA             \n",
            "assertthat    \"GPL-3\"                                  NA             \n",
            "backports     \"GPL-2 | GPL-3\"                          NA             \n",
            "base64enc     \"GPL-2 | GPL-3\"                          NA             \n",
            "bit           \"GPL-2 | GPL-3\"                          NA             \n",
            "bit64         \"GPL-2 | GPL-3\"                          NA             \n",
            "blob          \"MIT + file LICENSE\"                     NA             \n",
            "brew          \"GPL-2\"                                  NA             \n",
            "brio          \"MIT + file LICENSE\"                     NA             \n",
            "broom         \"MIT + file LICENSE\"                     NA             \n",
            "bslib         \"MIT + file LICENSE\"                     NA             \n",
            "cachem        \"MIT + file LICENSE\"                     NA             \n",
            "callr         \"MIT + file LICENSE\"                     NA             \n",
            "cellranger    \"MIT + file LICENSE\"                     NA             \n",
            "cli           \"MIT + file LICENSE\"                     NA             \n",
            "clipr         \"GPL-3\"                                  NA             \n",
            "colorspace    \"BSD_3_clause + file LICENSE\"            NA             \n",
            "commonmark    \"BSD_2_clause + file LICENSE\"            NA             \n",
            "cpp11         \"MIT + file LICENSE\"                     NA             \n",
            "crayon        \"MIT + file LICENSE\"                     NA             \n",
            "credentials   \"MIT + file LICENSE\"                     NA             \n",
            "curl          \"MIT + file LICENSE\"                     NA             \n",
            "data.table    \"MPL-2.0 | file LICENSE\"                 NA             \n",
            "DBI           \"LGPL (>= 2.1)\"                          NA             \n",
            "dbplyr        \"MIT + file LICENSE\"                     NA             \n",
            "desc          \"MIT + file LICENSE\"                     NA             \n",
            "devtools      \"MIT + file LICENSE\"                     NA             \n",
            "diffobj       \"GPL-2 | GPL-3\"                          NA             \n",
            "digest        \"GPL (>= 2)\"                             NA             \n",
            "dplyr         \"MIT + file LICENSE\"                     NA             \n",
            "dtplyr        \"MIT + file LICENSE\"                     NA             \n",
            "ellipsis      \"MIT + file LICENSE\"                     NA             \n",
            "evaluate      \"MIT + file LICENSE\"                     NA             \n",
            "fansi         \"GPL-2 | GPL-3\"                          NA             \n",
            "farver        \"MIT + file LICENSE\"                     NA             \n",
            "fastmap       \"MIT + file LICENSE\"                     NA             \n",
            "forcats       \"MIT + file LICENSE\"                     NA             \n",
            "fs            \"MIT + file LICENSE\"                     NA             \n",
            "gargle        \"MIT + file LICENSE\"                     NA             \n",
            "generics      \"MIT + file LICENSE\"                     NA             \n",
            "gert          \"MIT + file LICENSE\"                     NA             \n",
            "ggplot2       \"MIT + file LICENSE\"                     NA             \n",
            "gh            \"MIT + file LICENSE\"                     NA             \n",
            "gitcreds      \"MIT + file LICENSE\"                     NA             \n",
            "glue          \"MIT + file LICENSE\"                     NA             \n",
            "googledrive   \"MIT + file LICENSE\"                     NA             \n",
            "googlesheets4 \"MIT + file LICENSE\"                     NA             \n",
            "gtable        \"GPL-2\"                                  NA             \n",
            "haven         \"MIT + file LICENSE\"                     NA             \n",
            "highr         \"GPL\"                                    NA             \n",
            "hms           \"MIT + file LICENSE\"                     NA             \n",
            "htmltools     \"GPL (>= 2)\"                             NA             \n",
            "httr          \"MIT + file LICENSE\"                     NA             \n",
            "ids           \"MIT + file LICENSE\"                     NA             \n",
            "ini           \"GPL-3\"                                  NA             \n",
            "isoband       \"MIT + file LICENSE\"                     NA             \n",
            "jquerylib     \"MIT + file LICENSE\"                     NA             \n",
            "jsonlite      \"MIT + file LICENSE\"                     NA             \n",
            "knitr         \"GPL\"                                    NA             \n",
            "labeling      \"MIT + file LICENSE | Unlimited\"         NA             \n",
            "lifecycle     \"MIT + file LICENSE\"                     NA             \n",
            "lubridate     \"GPL (>= 2)\"                             NA             \n",
            "magrittr      \"MIT + file LICENSE\"                     NA             \n",
            "memoise       \"MIT + file LICENSE\"                     NA             \n",
            "mime          \"GPL\"                                    NA             \n",
            "modelr        \"GPL-3\"                                  NA             \n",
            "munsell       \"MIT + file LICENSE\"                     NA             \n",
            "openssl       \"MIT + file LICENSE\"                     NA             \n",
            "pillar        \"MIT + file LICENSE\"                     NA             \n",
            "pkgbuild      \"MIT + file LICENSE\"                     NA             \n",
            "pkgconfig     \"MIT + file LICENSE\"                     NA             \n",
            "pkgload       \"GPL-3\"                                  NA             \n",
            "praise        \"MIT + file LICENSE\"                     NA             \n",
            "prettyunits   \"MIT + file LICENSE\"                     NA             \n",
            "processx      \"MIT + file LICENSE\"                     NA             \n",
            "progress      \"MIT + file LICENSE\"                     NA             \n",
            "ps            \"MIT + file LICENSE\"                     NA             \n",
            "purrr         \"GPL-3 | file LICENSE\"                   NA             \n",
            "R6            \"MIT + file LICENSE\"                     NA             \n",
            "rappdirs      \"MIT + file LICENSE\"                     NA             \n",
            "rcmdcheck     \"MIT + file LICENSE\"                     NA             \n",
            "RColorBrewer  \"Apache License 2.0\"                     NA             \n",
            "readr         \"MIT + file LICENSE\"                     NA             \n",
            "readxl        \"MIT + file LICENSE\"                     NA             \n",
            "rematch       \"MIT + file LICENSE\"                     NA             \n",
            "rematch2      \"MIT + file LICENSE\"                     NA             \n",
            "remotes       \"MIT + file LICENSE\"                     NA             \n",
            "reprex        \"MIT + file LICENSE\"                     NA             \n",
            "rlang         \"MIT + file LICENSE\"                     NA             \n",
            "rmarkdown     \"GPL-3\"                                  NA             \n",
            "roxygen2      \"MIT + file LICENSE\"                     NA             \n",
            "rprojroot     \"MIT + file LICENSE\"                     NA             \n",
            "rstudioapi    \"MIT + file LICENSE\"                     NA             \n",
            "rversions     \"MIT + file LICENSE\"                     NA             \n",
            "rvest         \"MIT + file LICENSE\"                     NA             \n",
            "sass          \"MIT + file LICENSE\"                     NA             \n",
            "scales        \"MIT + file LICENSE\"                     NA             \n",
            "selectr       \"BSD_3_clause + file LICENCE\"            NA             \n",
            "sessioninfo   \"GPL-2\"                                  NA             \n",
            "stringi       \"file LICENSE\"                           \"yes\"          \n",
            "stringr       \"GPL-2 | file LICENSE\"                   NA             \n",
            "svglite       \"GPL (>= 2)\"                             NA             \n",
            "sys           \"MIT + file LICENSE\"                     NA             \n",
            "systemfonts   \"MIT + file LICENSE\"                     NA             \n",
            "testthat      \"MIT + file LICENSE\"                     NA             \n",
            "tibble        \"MIT + file LICENSE\"                     NA             \n",
            "tidyr         \"MIT + file LICENSE\"                     NA             \n",
            "tidyselect    \"MIT + file LICENSE\"                     NA             \n",
            "tidyverse     \"MIT + file LICENSE\"                     NA             \n",
            "tinytex       \"MIT + file LICENSE\"                     NA             \n",
            "tzdb          \"MIT + file LICENSE\"                     NA             \n",
            "usethis       \"MIT + file LICENSE\"                     NA             \n",
            "utf8          \"Apache License (== 2.0) | file LICENSE\" NA             \n",
            "uuid          \"MIT + file LICENSE\"                     NA             \n",
            "vctrs         \"MIT + file LICENSE\"                     NA             \n",
            "viridisLite   \"MIT + file LICENSE\"                     NA             \n",
            "vroom         \"MIT + file LICENSE\"                     NA             \n",
            "waldo         \"MIT + file LICENSE\"                     NA             \n",
            "whisker       \"GPL-3\"                                  NA             \n",
            "withr         \"MIT + file LICENSE\"                     NA             \n",
            "xfun          \"MIT + file LICENSE\"                     NA             \n",
            "xml2          \"MIT + file LICENSE\"                     NA             \n",
            "xopen         \"MIT + file LICENSE\"                     NA             \n",
            "yaml          \"BSD_3_clause + file LICENSE\"            NA             \n",
            "zip           \"MIT + file LICENSE\"                     NA             \n",
            "base          \"Part of R 4.1.3\"                        NA             \n",
            "boot          \"Unlimited\"                              NA             \n",
            "class         \"GPL-2 | GPL-3\"                          NA             \n",
            "cluster       \"GPL (>= 2)\"                             NA             \n",
            "codetools     \"GPL\"                                    NA             \n",
            "compiler      \"Part of R 4.1.3\"                        NA             \n",
            "datasets      \"Part of R 4.1.3\"                        NA             \n",
            "foreign       \"GPL (>= 2)\"                             NA             \n",
            "graphics      \"Part of R 4.1.3\"                        NA             \n",
            "grDevices     \"Part of R 4.1.3\"                        NA             \n",
            "grid          \"Part of R 4.1.3\"                        NA             \n",
            "KernSmooth    \"Unlimited\"                              NA             \n",
            "lattice       \"GPL (>= 2)\"                             NA             \n",
            "MASS          \"GPL-2 | GPL-3\"                          NA             \n",
            "Matrix        \"GPL (>= 2) | file LICENCE\"              NA             \n",
            "methods       \"Part of R 4.1.3\"                        NA             \n",
            "mgcv          \"GPL (>= 2)\"                             NA             \n",
            "nlme          \"GPL (>= 2)\"                             NA             \n",
            "nnet          \"GPL-2 | GPL-3\"                          NA             \n",
            "parallel      \"Part of R 4.1.3\"                        NA             \n",
            "rpart         \"GPL-2 | GPL-3\"                          NA             \n",
            "spatial       \"GPL-2 | GPL-3\"                          NA             \n",
            "splines       \"Part of R 4.1.3\"                        NA             \n",
            "stats         \"Part of R 4.1.3\"                        NA             \n",
            "stats4        \"Part of R 4.1.3\"                        NA             \n",
            "survival      \"LGPL (>= 2)\"                            NA             \n",
            "tcltk         \"Part of R 4.1.3\"                        NA             \n",
            "tools         \"Part of R 4.1.3\"                        NA             \n",
            "utils         \"Part of R 4.1.3\"                        NA             \n",
            "              License_restricts_use OS_type MD5sum NeedsCompilation Built  \n",
            "IRdisplay     NA                    NA      NA     \"no\"             \"4.1.3\"\n",
            "IRkernel      NA                    NA      NA     \"no\"             \"4.1.3\"\n",
            "pbdZMQ        NA                    NA      NA     \"yes\"            \"4.1.3\"\n",
            "repr          NA                    NA      NA     \"no\"             \"4.1.3\"\n",
            "askpass       NA                    NA      NA     \"yes\"            \"4.0.0\"\n",
            "assertthat    NA                    NA      NA     \"no\"             \"4.0.0\"\n",
            "backports     NA                    NA      NA     \"yes\"            \"4.1.2\"\n",
            "base64enc     NA                    NA      NA     \"yes\"            \"4.0.0\"\n",
            "bit           NA                    NA      NA     \"yes\"            \"4.0.2\"\n",
            "bit64         NA                    NA      NA     \"yes\"            \"4.0.2\"\n",
            "blob          NA                    NA      NA     \"no\"             \"4.1.3\"\n",
            "brew          NA                    NA      NA     \"no\"             \"4.1.2\"\n",
            "brio          NA                    NA      NA     \"yes\"            \"4.1.2\"\n",
            "broom         NA                    NA      NA     \"no\"             \"4.1.3\"\n",
            "bslib         NA                    NA      NA     \"no\"             \"4.1.1\"\n",
            "cachem        NA                    NA      NA     \"yes\"            \"4.1.1\"\n",
            "callr         NA                    NA      NA     \"no\"             \"4.0.5\"\n",
            "cellranger    NA                    NA      NA     \"no\"             \"4.0.0\"\n",
            "cli           NA                    NA      NA     \"yes\"            \"4.1.2\"\n",
            "clipr         NA                    NA      NA     \"no\"             \"4.1.2\"\n",
            "colorspace    NA                    NA      NA     \"yes\"            \"4.1.2\"\n",
            "commonmark    NA                    NA      NA     \"yes\"            \"4.1.3\"\n",
            "cpp11         NA                    NA      NA     \"no\"             \"4.1.2\"\n",
            "crayon        NA                    NA      NA     \"no\"             \"4.1.3\"\n",
            "credentials   NA                    NA      NA     \"no\"             \"4.1.2\"\n",
            "curl          NA                    NA      NA     \"yes\"            \"4.1.0\"\n",
            "data.table    NA                    NA      NA     \"yes\"            \"4.1.1\"\n",
            "DBI           NA                    NA      NA     \"no\"             \"4.1.2\"\n",
            "dbplyr        NA                    NA      NA     \"no\"             \"4.0.5\"\n",
            "desc          NA                    NA      NA     \"no\"             \"4.1.3\"\n",
            "devtools      NA                    NA      NA     \"no\"             \"4.1.2\"\n",
            "diffobj       NA                    NA      NA     \"yes\"            \"4.1.1\"\n",
            "digest        NA                    NA      NA     \"yes\"            \"4.1.2\"\n",
            "dplyr         NA                    NA      NA     \"yes\"            \"4.1.2\"\n",
            "dtplyr        NA                    NA      NA     \"no\"             \"4.1.2\"\n",
            "ellipsis      NA                    NA      NA     \"yes\"            \"4.0.5\"\n",
            "evaluate      NA                    NA      NA     \"no\"             \"4.1.2\"\n",
            "fansi         NA                    NA      NA     \"yes\"            \"4.1.3\"\n",
            "farver        NA                    NA      NA     \"yes\"            \"4.0.4\"\n",
            "fastmap       NA                    NA      NA     \"yes\"            \"4.0.3\"\n",
            "forcats       NA                    NA      NA     \"no\"             \"4.0.3\"\n",
            "fs            NA                    NA      NA     \"yes\"            \"4.1.2\"\n",
            "gargle        NA                    NA      NA     \"no\"             \"4.1.0\"\n",
            "generics      NA                    NA      NA     \"no\"             \"4.1.2\"\n",
            "gert          NA                    NA      NA     \"yes\"            \"4.1.3\"\n",
            "ggplot2       NA                    NA      NA     \"no\"             \"4.1.0\"\n",
            "gh            NA                    NA      NA     \"no\"             \"4.0.5\"\n",
            "gitcreds      NA                    NA      NA     \"no\"             \"4.0.3\"\n",
            "glue          NA                    NA      NA     \"yes\"            \"4.1.2\"\n",
            "googledrive   NA                    NA      NA     \"no\"             \"4.1.0\"\n",
            "googlesheets4 NA                    NA      NA     \"no\"             \"4.1.0\"\n",
            "gtable        NA                    NA      NA     \"no\"             \"4.0.0\"\n",
            "haven         NA                    NA      NA     \"yes\"            \"4.1.3\"\n",
            "highr         NA                    NA      NA     \"no\"             \"4.0.5\"\n",
            "hms           NA                    NA      NA     \"no\"             \"4.1.1\"\n",
            "htmltools     NA                    NA      NA     \"yes\"            \"4.1.1\"\n",
            "httr          NA                    NA      NA     \"no\"             \"4.0.2\"\n",
            "ids           NA                    NA      NA     \"no\"             \"4.0.0\"\n",
            "ini           NA                    NA      NA     \"no\"             \"4.0.0\"\n",
            "isoband       NA                    NA      NA     \"yes\"            \"4.1.0\"\n",
            "jquerylib     NA                    NA      NA     \"no\"             \"4.0.5\"\n",
            "jsonlite      NA                    NA      NA     \"yes\"            \"4.1.2\"\n",
            "knitr         NA                    NA      NA     \"no\"             \"4.1.3\"\n",
            "labeling      NA                    NA      NA     \"no\"             \"4.0.3\"\n",
            "lifecycle     NA                    NA      NA     \"no\"             \"4.1.1\"\n",
            "lubridate     NA                    NA      NA     \"yes\"            \"4.1.1\"\n",
            "magrittr      NA                    NA      NA     \"yes\"            \"4.1.3\"\n",
            "memoise       NA                    NA      NA     \"no\"             \"4.1.2\"\n",
            "mime          NA                    NA      NA     \"yes\"            \"4.1.1\"\n",
            "modelr        NA                    NA      NA     \"no\"             \"4.0.0\"\n",
            "munsell       NA                    NA      NA     \"no\"             \"4.0.0\"\n",
            "openssl       NA                    NA      NA     \"yes\"            \"4.1.2\"\n",
            "pillar        NA                    NA      NA     \"no\"             \"4.1.2\"\n",
            "pkgbuild      NA                    NA      NA     \"no\"             \"4.1.2\"\n",
            "pkgconfig     NA                    NA      NA     \"no\"             \"4.0.0\"\n",
            "pkgload       NA                    NA      NA     \"no\"             \"4.1.2\"\n",
            "praise        NA                    NA      NA     \"no\"             \"4.0.0\"\n",
            "prettyunits   NA                    NA      NA     \"no\"             \"4.0.0\"\n",
            "processx      NA                    NA      NA     \"yes\"            \"4.1.3\"\n",
            "progress      NA                    NA      NA     \"no\"             \"4.0.0\"\n",
            "ps            NA                    NA      NA     \"yes\"            \"4.0.4\"\n",
            "purrr         NA                    NA      NA     \"yes\"            \"4.0.0\"\n",
            "R6            NA                    NA      NA     \"no\"             \"4.1.1\"\n",
            "rappdirs      NA                    NA      NA     \"yes\"            \"4.0.3\"\n",
            "rcmdcheck     NA                    NA      NA     \"no\"             \"4.1.1\"\n",
            "RColorBrewer  NA                    NA      NA     \"no\"             \"4.1.3\"\n",
            "readr         NA                    NA      NA     \"yes\"            \"4.1.2\"\n",
            "readxl        NA                    NA      NA     \"yes\"            \"4.1.3\"\n",
            "rematch       NA                    NA      NA     \"no\"             \"4.0.0\"\n",
            "rematch2      NA                    NA      NA     \"no\"             \"4.0.0\"\n",
            "remotes       NA                    NA      NA     \"no\"             \"4.1.2\"\n",
            "reprex        NA                    NA      NA     \"no\"             \"4.1.0\"\n",
            "rlang         NA                    NA      NA     \"yes\"            \"4.1.2\"\n",
            "rmarkdown     NA                    NA      NA     \"no\"             \"4.1.3\"\n",
            "roxygen2      NA                    NA      NA     \"yes\"            \"4.1.1\"\n",
            "rprojroot     NA                    NA      NA     \"no\"             \"4.1.3\"\n",
            "rstudioapi    NA                    NA      NA     \"no\"             \"4.0.3\"\n",
            "rversions     NA                    NA      NA     \"no\"             \"4.1.0\"\n",
            "rvest         NA                    NA      NA     \"no\"             \"4.1.1\"\n",
            "sass          NA                    NA      NA     \"yes\"            \"4.1.3\"\n",
            "scales        NA                    NA      NA     \"no\"             \"4.1.3\"\n",
            "selectr       NA                    NA      NA     \"no\"             \"4.0.0\"\n",
            "sessioninfo   NA                    NA      NA     \"no\"             \"4.1.2\"\n",
            "stringi       NA                    NA      NA     \"yes\"            \"4.1.2\"\n",
            "stringr       NA                    NA      NA     \"no\"             \"4.0.0\"\n",
            "svglite       NA                    NA      NA     \"yes\"            \"4.1.2\"\n",
            "sys           NA                    NA      NA     \"yes\"            \"4.0.2\"\n",
            "systemfonts   NA                    NA      NA     \"yes\"            \"4.1.2\"\n",
            "testthat      NA                    NA      NA     \"yes\"            \"4.1.3\"\n",
            "tibble        NA                    NA      NA     \"yes\"            \"4.1.2\"\n",
            "tidyr         NA                    NA      NA     \"yes\"            \"4.1.2\"\n",
            "tidyselect    NA                    NA      NA     \"yes\"            \"4.1.2\"\n",
            "tidyverse     NA                    NA      NA     \"no\"             \"4.0.5\"\n",
            "tinytex       NA                    NA      NA     \"no\"             \"4.1.3\"\n",
            "tzdb          NA                    NA      NA     \"yes\"            \"4.1.3\"\n",
            "usethis       NA                    NA      NA     \"no\"             \"4.1.2\"\n",
            "utf8          NA                    NA      NA     \"yes\"            \"4.1.0\"\n",
            "uuid          NA                    NA      NA     \"yes\"            \"4.1.3\"\n",
            "vctrs         NA                    NA      NA     \"yes\"            \"4.1.3\"\n",
            "viridisLite   NA                    NA      NA     \"no\"             \"4.0.5\"\n",
            "vroom         NA                    NA      NA     \"yes\"            \"4.1.2\"\n",
            "waldo         NA                    NA      NA     \"no\"             \"4.1.3\"\n",
            "whisker       NA                    NA      NA     \"no\"             \"4.0.0\"\n",
            "withr         NA                    NA      NA     \"no\"             \"4.1.2\"\n",
            "xfun          NA                    NA      NA     \"yes\"            \"4.1.2\"\n",
            "xml2          NA                    NA      NA     \"yes\"            \"4.1.2\"\n",
            "xopen         NA                    NA      NA     \"no\"             \"4.0.0\"\n",
            "yaml          NA                    NA      NA     \"yes\"            \"4.1.2\"\n",
            "zip           NA                    NA      NA     \"yes\"            \"4.1.0\"\n",
            "base          NA                    NA      NA     NA               \"4.1.3\"\n",
            "boot          NA                    NA      NA     \"no\"             \"4.0.5\"\n",
            "class         NA                    NA      NA     \"yes\"            \"4.1.2\"\n",
            "cluster       NA                    NA      NA     \"yes\"            \"4.1.3\"\n",
            "codetools     NA                    NA      NA     \"no\"             \"4.0.3\"\n",
            "compiler      NA                    NA      NA     NA               \"4.1.3\"\n",
            "datasets      NA                    NA      NA     NA               \"4.1.3\"\n",
            "foreign       NA                    NA      NA     \"yes\"            \"4.1.2\"\n",
            "graphics      NA                    NA      NA     \"yes\"            \"4.1.3\"\n",
            "grDevices     NA                    NA      NA     \"yes\"            \"4.1.3\"\n",
            "grid          NA                    NA      NA     \"yes\"            \"4.1.3\"\n",
            "KernSmooth    NA                    NA      NA     \"yes\"            \"4.0.5\"\n",
            "lattice       NA                    NA      NA     \"yes\"            \"4.1.1\"\n",
            "MASS          NA                    NA      NA     \"yes\"            \"4.1.3\"\n",
            "Matrix        NA                    NA      NA     \"yes\"            \"4.1.3\"\n",
            "methods       NA                    NA      NA     \"yes\"            \"4.1.3\"\n",
            "mgcv          NA                    NA      NA     \"yes\"            \"4.1.3\"\n",
            "nlme          NA                    NA      NA     \"yes\"            \"4.1.3\"\n",
            "nnet          NA                    NA      NA     \"yes\"            \"4.1.2\"\n",
            "parallel      NA                    NA      NA     \"yes\"            \"4.1.3\"\n",
            "rpart         NA                    NA      NA     \"yes\"            \"4.1.2\"\n",
            "spatial       NA                    NA      NA     \"yes\"            \"4.1.2\"\n",
            "splines       NA                    NA      NA     \"yes\"            \"4.1.3\"\n",
            "stats         NA                    NA      NA     \"yes\"            \"4.1.3\"\n",
            "stats4        NA                    NA      NA     NA               \"4.1.3\"\n",
            "survival      NA                    NA      NA     \"yes\"            \"4.1.2\"\n",
            "tcltk         NA                    NA      NA     \"yes\"            \"4.1.3\"\n",
            "tools         NA                    NA      NA     \"yes\"            \"4.1.3\"\n",
            "utils         NA                    NA      NA     \"yes\"            \"4.1.3\"\n"
          ]
        }
      ]
    },
    {
      "cell_type": "code",
      "source": [
        "library(tidyverse)"
      ],
      "metadata": {
        "colab": {
          "base_uri": "https://localhost:8080/"
        },
        "id": "lAQDXMTKjJji",
        "outputId": "a60e023a-8c72-4dd3-b9b2-f2aff2c49c3c"
      },
      "execution_count": null,
      "outputs": [
        {
          "output_type": "stream",
          "name": "stderr",
          "text": [
            "Warning message in system(\"timedatectl\", intern = TRUE):\n",
            "“running command 'timedatectl' had status 1”\n",
            "── \u001b[1mAttaching packages\u001b[22m ─────────────────────────────────────── tidyverse 1.3.1 ──\n",
            "\n",
            "\u001b[32m✔\u001b[39m \u001b[34mggplot2\u001b[39m 3.3.5     \u001b[32m✔\u001b[39m \u001b[34mpurrr  \u001b[39m 0.3.4\n",
            "\u001b[32m✔\u001b[39m \u001b[34mtibble \u001b[39m 3.1.6     \u001b[32m✔\u001b[39m \u001b[34mdplyr  \u001b[39m 1.0.8\n",
            "\u001b[32m✔\u001b[39m \u001b[34mtidyr  \u001b[39m 1.2.0     \u001b[32m✔\u001b[39m \u001b[34mstringr\u001b[39m 1.4.0\n",
            "\u001b[32m✔\u001b[39m \u001b[34mreadr  \u001b[39m 2.1.2     \u001b[32m✔\u001b[39m \u001b[34mforcats\u001b[39m 0.5.1\n",
            "\n",
            "── \u001b[1mConflicts\u001b[22m ────────────────────────────────────────── tidyverse_conflicts() ──\n",
            "\u001b[31m✖\u001b[39m \u001b[34mdplyr\u001b[39m::\u001b[32mfilter()\u001b[39m masks \u001b[34mstats\u001b[39m::filter()\n",
            "\u001b[31m✖\u001b[39m \u001b[34mdplyr\u001b[39m::\u001b[32mlag()\u001b[39m    masks \u001b[34mstats\u001b[39m::lag()\n",
            "\n"
          ]
        }
      ]
    },
    {
      "cell_type": "code",
      "source": [
        "data <- read.csv('/content/sample_data/heart.csv' , header = T )\n",
        "head(data)"
      ],
      "metadata": {
        "id": "mX9EBlTgfW9W",
        "outputId": "08de2b55-01a8-4be1-fb23-7686dbcc94bf",
        "colab": {
          "base_uri": "https://localhost:8080/",
          "height": 286
        }
      },
      "execution_count": null,
      "outputs": [
        {
          "output_type": "display_data",
          "data": {
            "text/html": [
              "<table class=\"dataframe\">\n",
              "<caption>A data.frame: 6 × 14</caption>\n",
              "<thead>\n",
              "\t<tr><th></th><th scope=col>age</th><th scope=col>sex</th><th scope=col>cp</th><th scope=col>trestbps</th><th scope=col>chol</th><th scope=col>fbs</th><th scope=col>restecg</th><th scope=col>thalach</th><th scope=col>exang</th><th scope=col>oldpeak</th><th scope=col>slope</th><th scope=col>ca</th><th scope=col>thal</th><th scope=col>target</th></tr>\n",
              "\t<tr><th></th><th scope=col>&lt;int&gt;</th><th scope=col>&lt;int&gt;</th><th scope=col>&lt;int&gt;</th><th scope=col>&lt;int&gt;</th><th scope=col>&lt;int&gt;</th><th scope=col>&lt;int&gt;</th><th scope=col>&lt;int&gt;</th><th scope=col>&lt;int&gt;</th><th scope=col>&lt;int&gt;</th><th scope=col>&lt;dbl&gt;</th><th scope=col>&lt;int&gt;</th><th scope=col>&lt;int&gt;</th><th scope=col>&lt;int&gt;</th><th scope=col>&lt;int&gt;</th></tr>\n",
              "</thead>\n",
              "<tbody>\n",
              "\t<tr><th scope=row>1</th><td>63</td><td>1</td><td>3</td><td>145</td><td>233</td><td>1</td><td>0</td><td>150</td><td>0</td><td>2.3</td><td>0</td><td>0</td><td>1</td><td>1</td></tr>\n",
              "\t<tr><th scope=row>2</th><td>37</td><td>1</td><td>2</td><td>130</td><td>250</td><td>0</td><td>1</td><td>187</td><td>0</td><td>3.5</td><td>0</td><td>0</td><td>2</td><td>1</td></tr>\n",
              "\t<tr><th scope=row>3</th><td>41</td><td>0</td><td>1</td><td>130</td><td>204</td><td>0</td><td>0</td><td>172</td><td>0</td><td>1.4</td><td>2</td><td>0</td><td>2</td><td>1</td></tr>\n",
              "\t<tr><th scope=row>4</th><td>56</td><td>1</td><td>1</td><td>120</td><td>236</td><td>0</td><td>1</td><td>178</td><td>0</td><td>0.8</td><td>2</td><td>0</td><td>2</td><td>1</td></tr>\n",
              "\t<tr><th scope=row>5</th><td>57</td><td>0</td><td>0</td><td>120</td><td>354</td><td>0</td><td>1</td><td>163</td><td>1</td><td>0.6</td><td>2</td><td>0</td><td>2</td><td>1</td></tr>\n",
              "\t<tr><th scope=row>6</th><td>57</td><td>1</td><td>0</td><td>140</td><td>192</td><td>0</td><td>1</td><td>148</td><td>0</td><td>0.4</td><td>1</td><td>0</td><td>1</td><td>1</td></tr>\n",
              "</tbody>\n",
              "</table>\n"
            ],
            "text/markdown": "\nA data.frame: 6 × 14\n\n| <!--/--> | age &lt;int&gt; | sex &lt;int&gt; | cp &lt;int&gt; | trestbps &lt;int&gt; | chol &lt;int&gt; | fbs &lt;int&gt; | restecg &lt;int&gt; | thalach &lt;int&gt; | exang &lt;int&gt; | oldpeak &lt;dbl&gt; | slope &lt;int&gt; | ca &lt;int&gt; | thal &lt;int&gt; | target &lt;int&gt; |\n|---|---|---|---|---|---|---|---|---|---|---|---|---|---|---|\n| 1 | 63 | 1 | 3 | 145 | 233 | 1 | 0 | 150 | 0 | 2.3 | 0 | 0 | 1 | 1 |\n| 2 | 37 | 1 | 2 | 130 | 250 | 0 | 1 | 187 | 0 | 3.5 | 0 | 0 | 2 | 1 |\n| 3 | 41 | 0 | 1 | 130 | 204 | 0 | 0 | 172 | 0 | 1.4 | 2 | 0 | 2 | 1 |\n| 4 | 56 | 1 | 1 | 120 | 236 | 0 | 1 | 178 | 0 | 0.8 | 2 | 0 | 2 | 1 |\n| 5 | 57 | 0 | 0 | 120 | 354 | 0 | 1 | 163 | 1 | 0.6 | 2 | 0 | 2 | 1 |\n| 6 | 57 | 1 | 0 | 140 | 192 | 0 | 1 | 148 | 0 | 0.4 | 1 | 0 | 1 | 1 |\n\n",
            "text/latex": "A data.frame: 6 × 14\n\\begin{tabular}{r|llllllllllllll}\n  & age & sex & cp & trestbps & chol & fbs & restecg & thalach & exang & oldpeak & slope & ca & thal & target\\\\\n  & <int> & <int> & <int> & <int> & <int> & <int> & <int> & <int> & <int> & <dbl> & <int> & <int> & <int> & <int>\\\\\n\\hline\n\t1 & 63 & 1 & 3 & 145 & 233 & 1 & 0 & 150 & 0 & 2.3 & 0 & 0 & 1 & 1\\\\\n\t2 & 37 & 1 & 2 & 130 & 250 & 0 & 1 & 187 & 0 & 3.5 & 0 & 0 & 2 & 1\\\\\n\t3 & 41 & 0 & 1 & 130 & 204 & 0 & 0 & 172 & 0 & 1.4 & 2 & 0 & 2 & 1\\\\\n\t4 & 56 & 1 & 1 & 120 & 236 & 0 & 1 & 178 & 0 & 0.8 & 2 & 0 & 2 & 1\\\\\n\t5 & 57 & 0 & 0 & 120 & 354 & 0 & 1 & 163 & 1 & 0.6 & 2 & 0 & 2 & 1\\\\\n\t6 & 57 & 1 & 0 & 140 & 192 & 0 & 1 & 148 & 0 & 0.4 & 1 & 0 & 1 & 1\\\\\n\\end{tabular}\n",
            "text/plain": [
              "  age sex cp trestbps chol fbs restecg thalach exang oldpeak slope ca thal\n",
              "1 63  1   3  145      233  1   0       150     0     2.3     0     0  1   \n",
              "2 37  1   2  130      250  0   1       187     0     3.5     0     0  2   \n",
              "3 41  0   1  130      204  0   0       172     0     1.4     2     0  2   \n",
              "4 56  1   1  120      236  0   1       178     0     0.8     2     0  2   \n",
              "5 57  0   0  120      354  0   1       163     1     0.6     2     0  2   \n",
              "6 57  1   0  140      192  0   1       148     0     0.4     1     0  1   \n",
              "  target\n",
              "1 1     \n",
              "2 1     \n",
              "3 1     \n",
              "4 1     \n",
              "5 1     \n",
              "6 1     "
            ]
          },
          "metadata": {}
        }
      ]
    },
    {
      "cell_type": "code",
      "source": [
        "tail(data)"
      ],
      "metadata": {
        "colab": {
          "base_uri": "https://localhost:8080/",
          "height": 286
        },
        "id": "FsXhyR7vjV-I",
        "outputId": "a43bd864-995d-46bd-c0b6-b3c1015a0bb6"
      },
      "execution_count": null,
      "outputs": [
        {
          "output_type": "display_data",
          "data": {
            "text/html": [
              "<table class=\"dataframe\">\n",
              "<caption>A data.frame: 6 × 14</caption>\n",
              "<thead>\n",
              "\t<tr><th></th><th scope=col>age</th><th scope=col>sex</th><th scope=col>cp</th><th scope=col>trestbps</th><th scope=col>chol</th><th scope=col>fbs</th><th scope=col>restecg</th><th scope=col>thalach</th><th scope=col>exang</th><th scope=col>oldpeak</th><th scope=col>slope</th><th scope=col>ca</th><th scope=col>thal</th><th scope=col>target</th></tr>\n",
              "\t<tr><th></th><th scope=col>&lt;int&gt;</th><th scope=col>&lt;int&gt;</th><th scope=col>&lt;int&gt;</th><th scope=col>&lt;int&gt;</th><th scope=col>&lt;int&gt;</th><th scope=col>&lt;int&gt;</th><th scope=col>&lt;int&gt;</th><th scope=col>&lt;int&gt;</th><th scope=col>&lt;int&gt;</th><th scope=col>&lt;dbl&gt;</th><th scope=col>&lt;int&gt;</th><th scope=col>&lt;int&gt;</th><th scope=col>&lt;int&gt;</th><th scope=col>&lt;int&gt;</th></tr>\n",
              "</thead>\n",
              "<tbody>\n",
              "\t<tr><th scope=row>298</th><td>59</td><td>1</td><td>0</td><td>164</td><td>176</td><td>1</td><td>0</td><td> 90</td><td>0</td><td>1.0</td><td>1</td><td>2</td><td>1</td><td>0</td></tr>\n",
              "\t<tr><th scope=row>299</th><td>57</td><td>0</td><td>0</td><td>140</td><td>241</td><td>0</td><td>1</td><td>123</td><td>1</td><td>0.2</td><td>1</td><td>0</td><td>3</td><td>0</td></tr>\n",
              "\t<tr><th scope=row>300</th><td>45</td><td>1</td><td>3</td><td>110</td><td>264</td><td>0</td><td>1</td><td>132</td><td>0</td><td>1.2</td><td>1</td><td>0</td><td>3</td><td>0</td></tr>\n",
              "\t<tr><th scope=row>301</th><td>68</td><td>1</td><td>0</td><td>144</td><td>193</td><td>1</td><td>1</td><td>141</td><td>0</td><td>3.4</td><td>1</td><td>2</td><td>3</td><td>0</td></tr>\n",
              "\t<tr><th scope=row>302</th><td>57</td><td>1</td><td>0</td><td>130</td><td>131</td><td>0</td><td>1</td><td>115</td><td>1</td><td>1.2</td><td>1</td><td>1</td><td>3</td><td>0</td></tr>\n",
              "\t<tr><th scope=row>303</th><td>57</td><td>0</td><td>1</td><td>130</td><td>236</td><td>0</td><td>0</td><td>174</td><td>0</td><td>0.0</td><td>1</td><td>1</td><td>2</td><td>0</td></tr>\n",
              "</tbody>\n",
              "</table>\n"
            ],
            "text/markdown": "\nA data.frame: 6 × 14\n\n| <!--/--> | age &lt;int&gt; | sex &lt;int&gt; | cp &lt;int&gt; | trestbps &lt;int&gt; | chol &lt;int&gt; | fbs &lt;int&gt; | restecg &lt;int&gt; | thalach &lt;int&gt; | exang &lt;int&gt; | oldpeak &lt;dbl&gt; | slope &lt;int&gt; | ca &lt;int&gt; | thal &lt;int&gt; | target &lt;int&gt; |\n|---|---|---|---|---|---|---|---|---|---|---|---|---|---|---|\n| 298 | 59 | 1 | 0 | 164 | 176 | 1 | 0 |  90 | 0 | 1.0 | 1 | 2 | 1 | 0 |\n| 299 | 57 | 0 | 0 | 140 | 241 | 0 | 1 | 123 | 1 | 0.2 | 1 | 0 | 3 | 0 |\n| 300 | 45 | 1 | 3 | 110 | 264 | 0 | 1 | 132 | 0 | 1.2 | 1 | 0 | 3 | 0 |\n| 301 | 68 | 1 | 0 | 144 | 193 | 1 | 1 | 141 | 0 | 3.4 | 1 | 2 | 3 | 0 |\n| 302 | 57 | 1 | 0 | 130 | 131 | 0 | 1 | 115 | 1 | 1.2 | 1 | 1 | 3 | 0 |\n| 303 | 57 | 0 | 1 | 130 | 236 | 0 | 0 | 174 | 0 | 0.0 | 1 | 1 | 2 | 0 |\n\n",
            "text/latex": "A data.frame: 6 × 14\n\\begin{tabular}{r|llllllllllllll}\n  & age & sex & cp & trestbps & chol & fbs & restecg & thalach & exang & oldpeak & slope & ca & thal & target\\\\\n  & <int> & <int> & <int> & <int> & <int> & <int> & <int> & <int> & <int> & <dbl> & <int> & <int> & <int> & <int>\\\\\n\\hline\n\t298 & 59 & 1 & 0 & 164 & 176 & 1 & 0 &  90 & 0 & 1.0 & 1 & 2 & 1 & 0\\\\\n\t299 & 57 & 0 & 0 & 140 & 241 & 0 & 1 & 123 & 1 & 0.2 & 1 & 0 & 3 & 0\\\\\n\t300 & 45 & 1 & 3 & 110 & 264 & 0 & 1 & 132 & 0 & 1.2 & 1 & 0 & 3 & 0\\\\\n\t301 & 68 & 1 & 0 & 144 & 193 & 1 & 1 & 141 & 0 & 3.4 & 1 & 2 & 3 & 0\\\\\n\t302 & 57 & 1 & 0 & 130 & 131 & 0 & 1 & 115 & 1 & 1.2 & 1 & 1 & 3 & 0\\\\\n\t303 & 57 & 0 & 1 & 130 & 236 & 0 & 0 & 174 & 0 & 0.0 & 1 & 1 & 2 & 0\\\\\n\\end{tabular}\n",
            "text/plain": [
              "    age sex cp trestbps chol fbs restecg thalach exang oldpeak slope ca thal\n",
              "298 59  1   0  164      176  1   0        90     0     1.0     1     2  1   \n",
              "299 57  0   0  140      241  0   1       123     1     0.2     1     0  3   \n",
              "300 45  1   3  110      264  0   1       132     0     1.2     1     0  3   \n",
              "301 68  1   0  144      193  1   1       141     0     3.4     1     2  3   \n",
              "302 57  1   0  130      131  0   1       115     1     1.2     1     1  3   \n",
              "303 57  0   1  130      236  0   0       174     0     0.0     1     1  2   \n",
              "    target\n",
              "298 0     \n",
              "299 0     \n",
              "300 0     \n",
              "301 0     \n",
              "302 0     \n",
              "303 0     "
            ]
          },
          "metadata": {}
        }
      ]
    },
    {
      "cell_type": "code",
      "source": [
        "glimpse(data)"
      ],
      "metadata": {
        "colab": {
          "base_uri": "https://localhost:8080/"
        },
        "id": "g_Ka4qmSjV0g",
        "outputId": "50c20b44-0069-4c5b-e3c0-272f6020e6ea"
      },
      "execution_count": null,
      "outputs": [
        {
          "output_type": "stream",
          "name": "stdout",
          "text": [
            "Rows: 303\n",
            "Columns: 14\n",
            "$ age      \u001b[3m\u001b[90m<int>\u001b[39m\u001b[23m 63, 37, 41, 56, 57, 57, 56, 44, 52, 57, 54, 48, 49, 64, 58, 5…\n",
            "$ sex      \u001b[3m\u001b[90m<int>\u001b[39m\u001b[23m 1, 1, 0, 1, 0, 1, 0, 1, 1, 1, 1, 0, 1, 1, 0, 0, 0, 0, 1, 0, 1…\n",
            "$ cp       \u001b[3m\u001b[90m<int>\u001b[39m\u001b[23m 3, 2, 1, 1, 0, 0, 1, 1, 2, 2, 0, 2, 1, 3, 3, 2, 2, 3, 0, 3, 0…\n",
            "$ trestbps \u001b[3m\u001b[90m<int>\u001b[39m\u001b[23m 145, 130, 130, 120, 120, 140, 140, 120, 172, 150, 140, 130, 1…\n",
            "$ chol     \u001b[3m\u001b[90m<int>\u001b[39m\u001b[23m 233, 250, 204, 236, 354, 192, 294, 263, 199, 168, 239, 275, 2…\n",
            "$ fbs      \u001b[3m\u001b[90m<int>\u001b[39m\u001b[23m 1, 0, 0, 0, 0, 0, 0, 0, 1, 0, 0, 0, 0, 0, 1, 0, 0, 0, 0, 0, 0…\n",
            "$ restecg  \u001b[3m\u001b[90m<int>\u001b[39m\u001b[23m 0, 1, 0, 1, 1, 1, 0, 1, 1, 1, 1, 1, 1, 0, 0, 1, 1, 1, 1, 1, 1…\n",
            "$ thalach  \u001b[3m\u001b[90m<int>\u001b[39m\u001b[23m 150, 187, 172, 178, 163, 148, 153, 173, 162, 174, 160, 139, 1…\n",
            "$ exang    \u001b[3m\u001b[90m<int>\u001b[39m\u001b[23m 0, 0, 0, 0, 1, 0, 0, 0, 0, 0, 0, 0, 0, 1, 0, 0, 0, 0, 0, 0, 0…\n",
            "$ oldpeak  \u001b[3m\u001b[90m<dbl>\u001b[39m\u001b[23m 2.3, 3.5, 1.4, 0.8, 0.6, 0.4, 1.3, 0.0, 0.5, 1.6, 1.2, 0.2, 0…\n",
            "$ slope    \u001b[3m\u001b[90m<int>\u001b[39m\u001b[23m 0, 0, 2, 2, 2, 1, 1, 2, 2, 2, 2, 2, 2, 1, 2, 1, 2, 0, 2, 2, 1…\n",
            "$ ca       \u001b[3m\u001b[90m<int>\u001b[39m\u001b[23m 0, 0, 0, 0, 0, 0, 0, 0, 0, 0, 0, 0, 0, 0, 0, 0, 0, 0, 0, 2, 0…\n",
            "$ thal     \u001b[3m\u001b[90m<int>\u001b[39m\u001b[23m 1, 2, 2, 2, 2, 1, 2, 3, 3, 2, 2, 2, 2, 2, 2, 2, 2, 2, 2, 2, 3…\n",
            "$ target   \u001b[3m\u001b[90m<int>\u001b[39m\u001b[23m 1, 1, 1, 1, 1, 1, 1, 1, 1, 1, 1, 1, 1, 1, 1, 1, 1, 1, 1, 1, 1…\n"
          ]
        }
      ]
    },
    {
      "cell_type": "code",
      "source": [
        "ncol(data)"
      ],
      "metadata": {
        "colab": {
          "base_uri": "https://localhost:8080/",
          "height": 34
        },
        "id": "20HB_jtAjVrk",
        "outputId": "cb49de6b-523f-4fdc-c58c-a71318e6d718"
      },
      "execution_count": null,
      "outputs": [
        {
          "output_type": "display_data",
          "data": {
            "text/html": [
              "14"
            ],
            "text/markdown": "14",
            "text/latex": "14",
            "text/plain": [
              "[1] 14"
            ]
          },
          "metadata": {}
        }
      ]
    },
    {
      "cell_type": "code",
      "source": [
        "nrow(data)"
      ],
      "metadata": {
        "colab": {
          "base_uri": "https://localhost:8080/",
          "height": 34
        },
        "id": "4ZiTV_NgjVgc",
        "outputId": "44d45927-4886-4171-a884-d75400f19c24"
      },
      "execution_count": null,
      "outputs": [
        {
          "output_type": "display_data",
          "data": {
            "text/html": [
              "303"
            ],
            "text/markdown": "303",
            "text/latex": "303",
            "text/plain": [
              "[1] 303"
            ]
          },
          "metadata": {}
        }
      ]
    },
    {
      "cell_type": "code",
      "source": [
        "colnames(data)"
      ],
      "metadata": {
        "colab": {
          "base_uri": "https://localhost:8080/",
          "height": 34
        },
        "id": "r7PsFQ-ejVPi",
        "outputId": "41514960-6103-43cf-a428-3ee644d761be"
      },
      "execution_count": null,
      "outputs": [
        {
          "output_type": "display_data",
          "data": {
            "text/html": [
              "<style>\n",
              ".list-inline {list-style: none; margin:0; padding: 0}\n",
              ".list-inline>li {display: inline-block}\n",
              ".list-inline>li:not(:last-child)::after {content: \"\\00b7\"; padding: 0 .5ex}\n",
              "</style>\n",
              "<ol class=list-inline><li>'age'</li><li>'sex'</li><li>'cp'</li><li>'trestbps'</li><li>'chol'</li><li>'fbs'</li><li>'restecg'</li><li>'thalach'</li><li>'exang'</li><li>'oldpeak'</li><li>'slope'</li><li>'ca'</li><li>'thal'</li><li>'target'</li></ol>\n"
            ],
            "text/markdown": "1. 'age'\n2. 'sex'\n3. 'cp'\n4. 'trestbps'\n5. 'chol'\n6. 'fbs'\n7. 'restecg'\n8. 'thalach'\n9. 'exang'\n10. 'oldpeak'\n11. 'slope'\n12. 'ca'\n13. 'thal'\n14. 'target'\n\n\n",
            "text/latex": "\\begin{enumerate*}\n\\item 'age'\n\\item 'sex'\n\\item 'cp'\n\\item 'trestbps'\n\\item 'chol'\n\\item 'fbs'\n\\item 'restecg'\n\\item 'thalach'\n\\item 'exang'\n\\item 'oldpeak'\n\\item 'slope'\n\\item 'ca'\n\\item 'thal'\n\\item 'target'\n\\end{enumerate*}\n",
            "text/plain": [
              " [1] \"age\"      \"sex\"      \"cp\"       \"trestbps\" \"chol\"     \"fbs\"     \n",
              " [7] \"restecg\"  \"thalach\"  \"exang\"    \"oldpeak\"  \"slope\"    \"ca\"      \n",
              "[13] \"thal\"     \"target\"  "
            ]
          },
          "metadata": {}
        }
      ]
    },
    {
      "cell_type": "code",
      "source": [
        "summary(data)"
      ],
      "metadata": {
        "colab": {
          "base_uri": "https://localhost:8080/",
          "height": 503
        },
        "id": "NBGcBNsLjj97",
        "outputId": "d159df99-e4ec-4b78-8263-6c440de4e60f"
      },
      "execution_count": null,
      "outputs": [
        {
          "output_type": "display_data",
          "data": {
            "text/plain": [
              "      age             sex               cp           trestbps    \n",
              " Min.   :29.00   Min.   :0.0000   Min.   :0.000   Min.   : 94.0  \n",
              " 1st Qu.:47.50   1st Qu.:0.0000   1st Qu.:0.000   1st Qu.:120.0  \n",
              " Median :55.00   Median :1.0000   Median :1.000   Median :130.0  \n",
              " Mean   :54.37   Mean   :0.6832   Mean   :0.967   Mean   :131.6  \n",
              " 3rd Qu.:61.00   3rd Qu.:1.0000   3rd Qu.:2.000   3rd Qu.:140.0  \n",
              " Max.   :77.00   Max.   :1.0000   Max.   :3.000   Max.   :200.0  \n",
              "      chol            fbs            restecg          thalach     \n",
              " Min.   :126.0   Min.   :0.0000   Min.   :0.0000   Min.   : 71.0  \n",
              " 1st Qu.:211.0   1st Qu.:0.0000   1st Qu.:0.0000   1st Qu.:133.5  \n",
              " Median :240.0   Median :0.0000   Median :1.0000   Median :153.0  \n",
              " Mean   :246.3   Mean   :0.1485   Mean   :0.5281   Mean   :149.6  \n",
              " 3rd Qu.:274.5   3rd Qu.:0.0000   3rd Qu.:1.0000   3rd Qu.:166.0  \n",
              " Max.   :564.0   Max.   :1.0000   Max.   :2.0000   Max.   :202.0  \n",
              "     exang           oldpeak         slope             ca        \n",
              " Min.   :0.0000   Min.   :0.00   Min.   :0.000   Min.   :0.0000  \n",
              " 1st Qu.:0.0000   1st Qu.:0.00   1st Qu.:1.000   1st Qu.:0.0000  \n",
              " Median :0.0000   Median :0.80   Median :1.000   Median :0.0000  \n",
              " Mean   :0.3267   Mean   :1.04   Mean   :1.399   Mean   :0.7294  \n",
              " 3rd Qu.:1.0000   3rd Qu.:1.60   3rd Qu.:2.000   3rd Qu.:1.0000  \n",
              " Max.   :1.0000   Max.   :6.20   Max.   :2.000   Max.   :4.0000  \n",
              "      thal           target      \n",
              " Min.   :0.000   Min.   :0.0000  \n",
              " 1st Qu.:2.000   1st Qu.:0.0000  \n",
              " Median :2.000   Median :1.0000  \n",
              " Mean   :2.314   Mean   :0.5446  \n",
              " 3rd Qu.:3.000   3rd Qu.:1.0000  \n",
              " Max.   :3.000   Max.   :1.0000  "
            ]
          },
          "metadata": {}
        }
      ]
    },
    {
      "cell_type": "markdown",
      "source": [
        "# Data Transformation"
      ],
      "metadata": {
        "id": "_Gt2GOTaeGt3"
      }
    },
    {
      "cell_type": "code",
      "source": [
        "data2 <- data %>%\n",
        "  mutate(sex = if_else(sex == 1, \"MALE\", \"FEMALE\"),\n",
        "         fbs = if_else(fbs == 1, \">120\", \"<=120\"),\n",
        "         exang = if_else(exang == 1, \"YES\" ,\"NO\"),\n",
        "         cp = if_else(cp == 1, \"ATYPICAL ANGINA\",\n",
        "                      if_else(cp == 2, \"NON-ANGINAL PAIN\", \"ASYMPTOMATIC\")),\n",
        "         restecg = if_else(restecg == 0, \"NORMAL\",\n",
        "                           if_else(restecg == 1, \"ABNORMALITY\", \"PROBABLE OR DEFINITE\")),\n",
        "         slope = as.factor(slope),\n",
        "         ca = as.factor(ca),\n",
        "         thal = as.factor(thal),\n",
        "         target = if_else(target == 1, \"YES\", \"NO\")\n",
        "         ) %>% \n",
        "  mutate_if(is.character, as.factor) %>% \n",
        "  dplyr::select(target, sex, fbs, exang, cp, restecg, slope, ca, thal, everything())"
      ],
      "metadata": {
        "id": "YYpfYjwGjjxA"
      },
      "execution_count": null,
      "outputs": []
    },
    {
      "cell_type": "markdown",
      "source": [
        "# Data Visualisation"
      ],
      "metadata": {
        "id": "Wu-VXIqHeQAf"
      }
    },
    {
      "cell_type": "code",
      "source": [
        "# Bar Plot for target (heart disease)\n",
        "\n",
        "ggplot(data2, aes(x=target, fill=target))+\n",
        "   geom_bar()+\n",
        "   xlab(\"Heart Disease\")+\n",
        "   ylab(\"count\")+\n",
        "   ggtitle(\"Presence & Absence of Heart Disease\")+\n",
        "   scale_fill_discrete(name= 'Heart Disease', labels =c(\"Absence\", \"Presence\"))"
      ],
      "metadata": {
        "colab": {
          "base_uri": "https://localhost:8080/",
          "height": 437
        },
        "id": "kCk5PHNFjjj-",
        "outputId": "99ee0d3a-5456-4e4a-cff1-bae24949da61"
      },
      "execution_count": null,
      "outputs": [
        {
          "output_type": "display_data",
          "data": {
            "text/plain": [
              "plot without title"
            ],
            "image/png": "[encoded data removed]"
          },
          "metadata": {
            "image/png": {
              "width": 420,
              "height": 420
            }
          }
        }
      ]
    },
    {
      "cell_type": "code",
      "source": [
        "prop.table(table(data2$target))"
      ],
      "metadata": {
        "colab": {
          "base_uri": "https://localhost:8080/",
          "height": 69
        },
        "id": "jk-y7lYMj2w0",
        "outputId": "0af84861-da9d-4d3a-eb0d-6965cf88f6b0"
      },
      "execution_count": null,
      "outputs": [
        {
          "output_type": "display_data",
          "data": {
            "text/plain": [
              "\n",
              "       NO       YES \n",
              "0.4554455 0.5445545 "
            ]
          },
          "metadata": {}
        }
      ]
    },
    {
      "cell_type": "markdown",
      "source": [
        "## Age Analysis"
      ],
      "metadata": {
        "id": "7_sQkIWffTUU"
      }
    },
    {
      "cell_type": "code",
      "source": [
        "# count the frequency of the values of age\n",
        "\n",
        "data2 %>%\n",
        "  group_by(age) %>%\n",
        "  count() %>%\n",
        "  filter(n>10) %>%\n",
        "  ggplot()+\n",
        "  geom_col(aes(age, n), fill = 'green')+\n",
        "  ggtitle(\"Age Analysis\")+\n",
        "  xlab(\"Age\")+\n",
        "  ylab(\"Agecount\")"
      ],
      "metadata": {
        "colab": {
          "base_uri": "https://localhost:8080/",
          "height": 437
        },
        "id": "5qR1Hn80j2kA",
        "outputId": "966b78e1-6427-4736-8413-91c916bd871d"
      },
      "execution_count": null,
      "outputs": [
        {
          "output_type": "display_data",
          "data": {
            "text/plain": [
              "plot without title"
            ],
            "image/png": "[encoded data removed]"
          },
          "metadata": {
            "image/png": {
              "width": 420,
              "height": 420
            }
          }
        }
      ]
    },
    {
      "cell_type": "code",
      "source": [
        "# comapre blood pressure across the chest pain\n",
        "\n",
        "data2 %>%\n",
        "  ggplot(aes(x=sex, y=trestbps))+\n",
        "  geom_boxplot(fill ='purple')+\n",
        "  xlab('sex')+\n",
        "  ylab('BP')+\n",
        "  facet_grid(~cp)"
      ],
      "metadata": {
        "colab": {
          "base_uri": "https://localhost:8080/",
          "height": 437
        },
        "id": "VlQt4sWCj2Ta",
        "outputId": "0ef0a810-2f17-4d7d-d588-87ac1ace4853"
      },
      "execution_count": null,
      "outputs": [
        {
          "output_type": "display_data",
          "data": {
            "text/plain": [
              "plot without title"
            ],
            "image/png": "[encoded data removed]"
          },
          "metadata": {
            "image/png": {
              "width": 420,
              "height": 420
            }
          }
        }
      ]
    },
    {
      "cell_type": "code",
      "source": [
        "data %>%\n",
        "  ggplot(aes(x=sex, y=trestbps))+\n",
        "  geom_boxplot(fill ='purple')+\n",
        "  xlab('sex')+\n",
        "  ylab('BP')+\n",
        "  facet_grid(~cp)"
      ],
      "metadata": {
        "colab": {
          "base_uri": "https://localhost:8080/",
          "height": 472
        },
        "id": "bUJ4CC8Dj2Gh",
        "outputId": "f69d4e65-cdb8-4756-9461-b64ad78712c7"
      },
      "execution_count": null,
      "outputs": [
        {
          "output_type": "stream",
          "name": "stderr",
          "text": [
            "Warning message:\n",
            "“Continuous x aesthetic -- did you forget aes(group=...)?”\n"
          ]
        },
        {
          "output_type": "display_data",
          "data": {
            "text/plain": [
              "plot without title"
            ],
            "image/png": "[encoded data removed]"
          },
          "metadata": {
            "image/png": {
              "width": 420,
              "height": 420
            }
          }
        }
      ]
    },
    {
      "cell_type": "code",
      "source": [
        "data2 %>%\n",
        "  ggplot(aes(x=sex, y=chol))+\n",
        "  geom_boxplot(fill ='orange')+\n",
        "  xlab('sex')+\n",
        "  ylab('Chol')+\n",
        "  facet_grid(~cp)"
      ],
      "metadata": {
        "colab": {
          "base_uri": "https://localhost:8080/",
          "height": 437
        },
        "id": "1lEw44v8j11w",
        "outputId": "a4dadcbf-446a-4d57-faac-4324c65cfe32"
      },
      "execution_count": null,
      "outputs": [
        {
          "output_type": "display_data",
          "data": {
            "text/plain": [
              "plot without title"
            ],
            "image/png": "[encoded data removed]"
          },
          "metadata": {
            "image/png": {
              "width": 420,
              "height": 420
            }
          }
        }
      ]
    },
    {
      "cell_type": "markdown",
      "source": [
        "# **Correlation**"
      ],
      "metadata": {
        "id": "RE8n7S1YkrK0"
      }
    },
    {
      "cell_type": "code",
      "source": [
        "install.packages(\"corrplot\")\n",
        "install.packages(\"ggplot2\")"
      ],
      "metadata": {
        "colab": {
          "base_uri": "https://localhost:8080/"
        },
        "id": "owj9mG3AklKH",
        "outputId": "637c7ab4-4aec-4e38-b19f-0304d271f974"
      },
      "execution_count": null,
      "outputs": [
        {
          "output_type": "stream",
          "name": "stderr",
          "text": [
            "Installing package into ‘/usr/local/lib/R/site-library’\n",
            "(as ‘lib’ is unspecified)\n",
            "\n",
            "Installing package into ‘/usr/local/lib/R/site-library’\n",
            "(as ‘lib’ is unspecified)\n",
            "\n"
          ]
        }
      ]
    },
    {
      "cell_type": "code",
      "source": [
        "library(corrplot)\n",
        "library(ggplot2)"
      ],
      "metadata": {
        "colab": {
          "base_uri": "https://localhost:8080/"
        },
        "id": "rB9TPH6vkk7u",
        "outputId": "9e9107ae-6bee-432a-fadb-6e131f05dcac"
      },
      "execution_count": null,
      "outputs": [
        {
          "output_type": "stream",
          "name": "stderr",
          "text": [
            "corrplot 0.92 loaded\n",
            "\n"
          ]
        }
      ]
    },
    {
      "cell_type": "code",
      "source": [
        "cor_heart <- cor(data2[, 10:14])\n",
        "cor_heart\n",
        "\n",
        "corrplot(cor_heart, method ='square', type='upper')"
      ],
      "metadata": {
        "colab": {
          "base_uri": "https://localhost:8080/",
          "height": 643
        },
        "id": "8fpyXvR-kkuK",
        "outputId": "ff840867-3c61-4b20-83fc-d641b61a7e7b"
      },
      "execution_count": null,
      "outputs": [
        {
          "output_type": "display_data",
          "data": {
            "text/html": [
              "<table class=\"dataframe\">\n",
              "<caption>A matrix: 5 × 5 of type dbl</caption>\n",
              "<thead>\n",
              "\t<tr><th></th><th scope=col>age</th><th scope=col>trestbps</th><th scope=col>chol</th><th scope=col>thalach</th><th scope=col>oldpeak</th></tr>\n",
              "</thead>\n",
              "<tbody>\n",
              "\t<tr><th scope=row>age</th><td> 1.0000000</td><td> 0.27935091</td><td> 0.213677957</td><td>-0.398521938</td><td> 0.21001257</td></tr>\n",
              "\t<tr><th scope=row>trestbps</th><td> 0.2793509</td><td> 1.00000000</td><td> 0.123174207</td><td>-0.046697728</td><td> 0.19321647</td></tr>\n",
              "\t<tr><th scope=row>chol</th><td> 0.2136780</td><td> 0.12317421</td><td> 1.000000000</td><td>-0.009939839</td><td> 0.05395192</td></tr>\n",
              "\t<tr><th scope=row>thalach</th><td>-0.3985219</td><td>-0.04669773</td><td>-0.009939839</td><td> 1.000000000</td><td>-0.34418695</td></tr>\n",
              "\t<tr><th scope=row>oldpeak</th><td> 0.2100126</td><td> 0.19321647</td><td> 0.053951920</td><td>-0.344186948</td><td> 1.00000000</td></tr>\n",
              "</tbody>\n",
              "</table>\n"
            ],
            "text/markdown": "\nA matrix: 5 × 5 of type dbl\n\n| <!--/--> | age | trestbps | chol | thalach | oldpeak |\n|---|---|---|---|---|---|\n| age |  1.0000000 |  0.27935091 |  0.213677957 | -0.398521938 |  0.21001257 |\n| trestbps |  0.2793509 |  1.00000000 |  0.123174207 | -0.046697728 |  0.19321647 |\n| chol |  0.2136780 |  0.12317421 |  1.000000000 | -0.009939839 |  0.05395192 |\n| thalach | -0.3985219 | -0.04669773 | -0.009939839 |  1.000000000 | -0.34418695 |\n| oldpeak |  0.2100126 |  0.19321647 |  0.053951920 | -0.344186948 |  1.00000000 |\n\n",
            "text/latex": "A matrix: 5 × 5 of type dbl\n\\begin{tabular}{r|lllll}\n  & age & trestbps & chol & thalach & oldpeak\\\\\n\\hline\n\tage &  1.0000000 &  0.27935091 &  0.213677957 & -0.398521938 &  0.21001257\\\\\n\ttrestbps &  0.2793509 &  1.00000000 &  0.123174207 & -0.046697728 &  0.19321647\\\\\n\tchol &  0.2136780 &  0.12317421 &  1.000000000 & -0.009939839 &  0.05395192\\\\\n\tthalach & -0.3985219 & -0.04669773 & -0.009939839 &  1.000000000 & -0.34418695\\\\\n\toldpeak &  0.2100126 &  0.19321647 &  0.053951920 & -0.344186948 &  1.00000000\\\\\n\\end{tabular}\n",
            "text/plain": [
              "         age        trestbps    chol         thalach      oldpeak    \n",
              "age       1.0000000  0.27935091  0.213677957 -0.398521938  0.21001257\n",
              "trestbps  0.2793509  1.00000000  0.123174207 -0.046697728  0.19321647\n",
              "chol      0.2136780  0.12317421  1.000000000 -0.009939839  0.05395192\n",
              "thalach  -0.3985219 -0.04669773 -0.009939839  1.000000000 -0.34418695\n",
              "oldpeak   0.2100126  0.19321647  0.053951920 -0.344186948  1.00000000"
            ]
          },
          "metadata": {}
        },
        {
          "output_type": "display_data",
          "data": {
            "text/plain": [
              "Plot with title “”"
            ],
            "image/png": "[encoded data removed]"
          },
          "metadata": {
            "image/png": {
              "width": 420,
              "height": 420
            }
          }
        }
      ]
    },
    {
      "cell_type": "code",
      "source": [
        "??method"
      ],
      "metadata": {
        "id": "I5Q3bkFMkkdn"
      },
      "execution_count": null,
      "outputs": []
    },
    {
      "cell_type": "markdown",
      "source": [
        "# **Check for the null values**"
      ],
      "metadata": {
        "id": "QKel_yFzlA5K"
      }
    },
    {
      "cell_type": "code",
      "source": [
        "s = sum(is.na(data2))"
      ],
      "metadata": {
        "id": "c2Y_DPpzlW7G"
      },
      "execution_count": null,
      "outputs": []
    },
    {
      "cell_type": "code",
      "source": [
        "s"
      ],
      "metadata": {
        "colab": {
          "base_uri": "https://localhost:8080/",
          "height": 34
        },
        "id": "dk39JlmDlWuR",
        "outputId": "2b21882b-6f69-4daa-bcd8-a26ece29432b"
      },
      "execution_count": null,
      "outputs": [
        {
          "output_type": "display_data",
          "data": {
            "text/html": [
              "0"
            ],
            "text/markdown": "0",
            "text/latex": "0",
            "text/plain": [
              "[1] 0"
            ]
          },
          "metadata": {}
        }
      ]
    },
    {
      "cell_type": "code",
      "source": [
        "is.null(data2) #another way"
      ],
      "metadata": {
        "colab": {
          "base_uri": "https://localhost:8080/",
          "height": 34
        },
        "id": "9RlJeJMdlWif",
        "outputId": "af08707a-3304-4972-86e3-33a35e598603"
      },
      "execution_count": null,
      "outputs": [
        {
          "output_type": "display_data",
          "data": {
            "text/html": [
              "FALSE"
            ],
            "text/markdown": "FALSE",
            "text/latex": "FALSE",
            "text/plain": [
              "[1] FALSE"
            ]
          },
          "metadata": {}
        }
      ]
    },
    {
      "cell_type": "markdown",
      "source": [
        "# **Training and Testing the data**"
      ],
      "metadata": {
        "id": "mj21bcwVlM-X"
      }
    },
    {
      "cell_type": "code",
      "source": [
        "install.packages(\"caret\")\n",
        "library(caret)"
      ],
      "metadata": {
        "colab": {
          "base_uri": "https://localhost:8080/"
        },
        "id": "ATWejTRxmlkE",
        "outputId": "87f714e7-f334-4447-d4fc-0a49a1964b70"
      },
      "execution_count": null,
      "outputs": [
        {
          "output_type": "stream",
          "name": "stderr",
          "text": [
            "Installing package into ‘/usr/local/lib/R/site-library’\n",
            "(as ‘lib’ is unspecified)\n",
            "\n",
            "also installing the dependencies ‘lava’, ‘prodlim’, ‘ipred’, ‘pROC’, ‘recipes’, ‘reshape2’\n",
            "\n",
            "\n",
            "Loading required package: lattice\n",
            "\n",
            "\n",
            "Attaching package: ‘caret’\n",
            "\n",
            "\n",
            "The following object is masked from ‘package:purrr’:\n",
            "\n",
            "    lift\n",
            "\n",
            "\n"
          ]
        }
      ]
    },
    {
      "cell_type": "code",
      "source": [
        "set.seed(10)"
      ],
      "metadata": {
        "id": "K4u-HB2ClWUy"
      },
      "execution_count": null,
      "outputs": []
    },
    {
      "cell_type": "code",
      "source": [
        "colnames(data2)"
      ],
      "metadata": {
        "colab": {
          "base_uri": "https://localhost:8080/",
          "height": 34
        },
        "id": "PpbYyf0OnQ34",
        "outputId": "d10f86a2-a638-4fae-ee28-162733bd77bb"
      },
      "execution_count": null,
      "outputs": [
        {
          "output_type": "display_data",
          "data": {
            "text/html": [
              "<style>\n",
              ".list-inline {list-style: none; margin:0; padding: 0}\n",
              ".list-inline>li {display: inline-block}\n",
              ".list-inline>li:not(:last-child)::after {content: \"\\00b7\"; padding: 0 .5ex}\n",
              "</style>\n",
              "<ol class=list-inline><li>'target'</li><li>'sex'</li><li>'fbs'</li><li>'exang'</li><li>'cp'</li><li>'restecg'</li><li>'slope'</li><li>'ca'</li><li>'thal'</li><li>'age'</li><li>'trestbps'</li><li>'chol'</li><li>'thalach'</li><li>'oldpeak'</li></ol>\n"
            ],
            "text/markdown": "1. 'target'\n2. 'sex'\n3. 'fbs'\n4. 'exang'\n5. 'cp'\n6. 'restecg'\n7. 'slope'\n8. 'ca'\n9. 'thal'\n10. 'age'\n11. 'trestbps'\n12. 'chol'\n13. 'thalach'\n14. 'oldpeak'\n\n\n",
            "text/latex": "\\begin{enumerate*}\n\\item 'target'\n\\item 'sex'\n\\item 'fbs'\n\\item 'exang'\n\\item 'cp'\n\\item 'restecg'\n\\item 'slope'\n\\item 'ca'\n\\item 'thal'\n\\item 'age'\n\\item 'trestbps'\n\\item 'chol'\n\\item 'thalach'\n\\item 'oldpeak'\n\\end{enumerate*}\n",
            "text/plain": [
              " [1] \"target\"   \"sex\"      \"fbs\"      \"exang\"    \"cp\"       \"restecg\" \n",
              " [7] \"slope\"    \"ca\"       \"thal\"     \"age\"      \"trestbps\" \"chol\"    \n",
              "[13] \"thalach\"  \"oldpeak\" "
            ]
          },
          "metadata": {}
        }
      ]
    },
    {
      "cell_type": "markdown",
      "source": [
        "**Split the data set in 70:30**"
      ],
      "metadata": {
        "id": "aRuQ5p-Alk0g"
      }
    },
    {
      "cell_type": "code",
      "source": [
        "inTrainRows <- createDataPartition(data2$target,p=0.7,list=FALSE)\n",
        "trainData <- data2[inTrainRows,]\n",
        "testData <-  data2[-inTrainRows,]\n",
        "nrow(trainData)/(nrow(testData)+nrow(trainData)) #check the percentage"
      ],
      "metadata": {
        "colab": {
          "base_uri": "https://localhost:8080/",
          "height": 34
        },
        "id": "qMUs_r3anQrG",
        "outputId": "e15db627-8db6-49be-b800-21db2154d002"
      },
      "execution_count": null,
      "outputs": [
        {
          "output_type": "display_data",
          "data": {
            "text/html": [
              "0.702970297029703"
            ],
            "text/markdown": "0.702970297029703",
            "text/latex": "0.702970297029703",
            "text/plain": [
              "[1] 0.7029703"
            ]
          },
          "metadata": {}
        }
      ]
    },
    {
      "cell_type": "markdown",
      "source": [
        "**Create 2 list**"
      ],
      "metadata": {
        "id": "1HC2z2gbluVe"
      }
    },
    {
      "cell_type": "code",
      "source": [
        "AUC = list()\n",
        "Accuracy = list()"
      ],
      "metadata": {
        "id": "CAOCgBmcnQdL"
      },
      "execution_count": null,
      "outputs": []
    },
    {
      "cell_type": "markdown",
      "source": [
        "**Logistic Regression**"
      ],
      "metadata": {
        "id": "laUITNTpl5kh"
      }
    },
    {
      "cell_type": "code",
      "source": [
        "set.seed(10)\n",
        "logRegModel <- train(target ~ ., data=trainData, method = 'glm', family = 'binomial')\n",
        "logRegPrediction <- predict(logRegModel, testData)\n",
        "logRegPredictionprob <- predict(logRegModel, testData, type='prob')[2]\n",
        "logRegConfMat <- confusionMatrix(logRegPrediction, testData[,\"target\"])\n",
        "#ROC Curve\n",
        "library(pROC)\n",
        "AUC$logReg <- roc(as.numeric(testData$target),as.numeric(as.matrix((logRegPredictionprob))))$auc\n",
        "Accuracy$logReg <- logRegConfMat$overall['Accuracy']  #found names with str(logRegConfMat)"
      ],
      "metadata": {
        "colab": {
          "base_uri": "https://localhost:8080/"
        },
        "id": "yPW27K-hnbBn",
        "outputId": "43e55a81-4f05-42b0-e10d-afd6e7d81c23"
      },
      "execution_count": null,
      "outputs": [
        {
          "output_type": "stream",
          "name": "stderr",
          "text": [
            "Warning message in predict.lm(object, newdata, se.fit, scale = 1, type = if (type == :\n",
            "“prediction from a rank-deficient fit may be misleading”\n",
            "Warning message in predict.lm(object, newdata, se.fit, scale = 1, type = if (type == :\n",
            "“prediction from a rank-deficient fit may be misleading”\n",
            "Warning message in predict.lm(object, newdata, se.fit, scale = 1, type = if (type == :\n",
            "“prediction from a rank-deficient fit may be misleading”\n",
            "Warning message in predict.lm(object, newdata, se.fit, scale = 1, type = if (type == :\n",
            "“prediction from a rank-deficient fit may be misleading”\n",
            "Type 'citation(\"pROC\")' for a citation.\n",
            "\n",
            "\n",
            "Attaching package: ‘pROC’\n",
            "\n",
            "\n",
            "The following objects are masked from ‘package:stats’:\n",
            "\n",
            "    cov, smooth, var\n",
            "\n",
            "\n",
            "Setting levels: control = 1, case = 2\n",
            "\n",
            "Setting direction: controls < cases\n",
            "\n"
          ]
        }
      ]
    },
    {
      "cell_type": "code",
      "source": [
        "install.packages('e1071', dependencies=TRUE)"
      ],
      "metadata": {
        "colab": {
          "base_uri": "https://localhost:8080/"
        },
        "id": "Gm0ghCduna0Y",
        "outputId": "0f7f0e5f-ba9e-4745-dfcc-7a53cb96652b"
      },
      "execution_count": null,
      "outputs": [
        {
          "output_type": "stream",
          "name": "stderr",
          "text": [
            "Installing package into ‘/usr/local/lib/R/site-library’\n",
            "(as ‘lib’ is unspecified)\n",
            "\n",
            "also installing the dependencies ‘mlbench’, ‘randomForest’, ‘SparseM’, ‘xtable’, ‘slam’\n",
            "\n",
            "\n"
          ]
        }
      ]
    },
    {
      "cell_type": "code",
      "source": [
        "set.seed(10)\n",
        "logRegModel <- train(target ~ ., data=trainData, method = 'glm', family = 'binomial')\n",
        "logRegPrediction <- predict(logRegModel, testData)\n",
        "logRegPredictionprob <- predict(logRegModel, testData, type='prob')[2]\n",
        "logRegConfMat <- confusionMatrix(logRegPrediction, testData[,\"target\"])\n",
        "#ROC Curve\n",
        "library(pROC)\n",
        "AUC$logReg <- roc(as.numeric(testData$target),as.numeric(as.matrix((logRegPredictionprob))))$auc\n",
        "Accuracy$logReg <- logRegConfMat$overall['Accuracy']  #found names with str(logRegConfMat)"
      ],
      "metadata": {
        "colab": {
          "base_uri": "https://localhost:8080/"
        },
        "id": "DX82PKhCnalv",
        "outputId": "059c8619-36a9-4f25-e6c8-6e6d127356d6"
      },
      "execution_count": null,
      "outputs": [
        {
          "output_type": "stream",
          "name": "stderr",
          "text": [
            "Warning message in predict.lm(object, newdata, se.fit, scale = 1, type = if (type == :\n",
            "“prediction from a rank-deficient fit may be misleading”\n",
            "Warning message in predict.lm(object, newdata, se.fit, scale = 1, type = if (type == :\n",
            "“prediction from a rank-deficient fit may be misleading”\n",
            "Warning message in predict.lm(object, newdata, se.fit, scale = 1, type = if (type == :\n",
            "“prediction from a rank-deficient fit may be misleading”\n",
            "Warning message in predict.lm(object, newdata, se.fit, scale = 1, type = if (type == :\n",
            "“prediction from a rank-deficient fit may be misleading”\n",
            "Setting levels: control = 1, case = 2\n",
            "\n",
            "Setting direction: controls < cases\n",
            "\n"
          ]
        }
      ]
    },
    {
      "cell_type": "code",
      "source": [
        "install.packages(\"pROC\")"
      ],
      "metadata": {
        "colab": {
          "base_uri": "https://localhost:8080/"
        },
        "id": "-_y6gwZooTDK",
        "outputId": "ceebea1c-7cf8-41d8-aad2-9088bb6e28c8"
      },
      "execution_count": null,
      "outputs": [
        {
          "output_type": "stream",
          "name": "stderr",
          "text": [
            "Installing package into ‘/usr/local/lib/R/site-library’\n",
            "(as ‘lib’ is unspecified)\n",
            "\n"
          ]
        }
      ]
    },
    {
      "cell_type": "code",
      "source": [
        "set.seed(10)\n",
        "logRegModel <- train(target ~ ., data=trainData, method = 'glm', family = 'binomial')\n",
        "logRegPrediction <- predict(logRegModel, testData)\n",
        "logRegPredictionprob <- predict(logRegModel, testData, type='prob')[2]\n",
        "logRegConfMat <- confusionMatrix(logRegPrediction, testData[,\"target\"])\n",
        "#ROC Curve\n",
        "library(pROC)\n",
        "AUC$logReg <- roc(as.numeric(testData$target),as.numeric(as.matrix((logRegPredictionprob))))$auc\n",
        "Accuracy$logReg <- logRegConfMat$overall['Accuracy']  #found names with str(logRegConfMat)"
      ],
      "metadata": {
        "colab": {
          "base_uri": "https://localhost:8080/"
        },
        "id": "vT1HiGp2oS1R",
        "outputId": "f1951df1-e45c-48e1-f0f0-9b1375ec123e"
      },
      "execution_count": null,
      "outputs": [
        {
          "output_type": "stream",
          "name": "stderr",
          "text": [
            "Warning message in predict.lm(object, newdata, se.fit, scale = 1, type = if (type == :\n",
            "“prediction from a rank-deficient fit may be misleading”\n",
            "Warning message in predict.lm(object, newdata, se.fit, scale = 1, type = if (type == :\n",
            "“prediction from a rank-deficient fit may be misleading”\n",
            "Warning message in predict.lm(object, newdata, se.fit, scale = 1, type = if (type == :\n",
            "“prediction from a rank-deficient fit may be misleading”\n",
            "Warning message in predict.lm(object, newdata, se.fit, scale = 1, type = if (type == :\n",
            "“prediction from a rank-deficient fit may be misleading”\n",
            "Setting levels: control = 1, case = 2\n",
            "\n",
            "Setting direction: controls < cases\n",
            "\n"
          ]
        }
      ]
    },
    {
      "cell_type": "markdown",
      "source": [
        "# **Support Vector Machine**"
      ],
      "metadata": {
        "id": "KCLL7uo4nIOf"
      }
    },
    {
      "cell_type": "code",
      "source": [
        "install.packages('kernlab')"
      ],
      "metadata": {
        "colab": {
          "base_uri": "https://localhost:8080/"
        },
        "id": "BGP-bk03oSnu",
        "outputId": "1b4357b6-59ca-4eb8-b564-50aa1a4b905f"
      },
      "execution_count": null,
      "outputs": [
        {
          "output_type": "stream",
          "name": "stderr",
          "text": [
            "Installing package into ‘/usr/local/lib/R/site-library’\n",
            "(as ‘lib’ is unspecified)\n",
            "\n"
          ]
        }
      ]
    },
    {
      "cell_type": "code",
      "source": [
        "fitControl <- trainControl(method = \"repeatedcv\",\n",
        "                           number = 10,\n",
        "                           repeats = 10,\n",
        "                           ## Estimate class probabilities\n",
        "                           classProbs = TRUE,\n",
        "                           ## Evaluate performance using \n",
        "                           ## the following function\n",
        "                           summaryFunction = twoClassSummary)"
      ],
      "metadata": {
        "id": "sfrF7xbEoSYQ"
      },
      "execution_count": null,
      "outputs": []
    },
    {
      "cell_type": "code",
      "source": [
        "set.seed(10)\n",
        "svmModel <- train(target ~ ., data = trainData,\n",
        "                 method = \"svmRadial\",\n",
        "                 trControl = fitControl,\n",
        "                 preProcess = c(\"center\", \"scale\"),\n",
        "                 tuneLength = 8,\n",
        "                 metric = \"ROC\")\n",
        "svmPrediction <- predict(svmModel, testData)\n",
        "svmPredictionprob <- predict(svmModel, testData, type='prob')[2]\n",
        "svmConfMat <- confusionMatrix(svmPrediction, testData[,\"target\"])\n",
        "\n"
      ],
      "metadata": {
        "colab": {
          "base_uri": "https://localhost:8080/"
        },
        "id": "dQMxxwLUpEvZ",
        "outputId": "822e2e1b-4883-43f2-f86d-071d0dd06236"
      },
      "execution_count": null,
      "outputs": [
        {
          "output_type": "stream",
          "name": "stderr",
          "text": [
            "Setting levels: control = 1, case = 2\n",
            "\n",
            "Setting direction: controls < cases\n",
            "\n"
          ]
        }
      ]
    },
    {
      "cell_type": "markdown",
      "source": [
        "## ROC Curve"
      ],
      "metadata": {
        "id": "8g8KXn4N0YNT"
      }
    },
    {
      "cell_type": "code",
      "source": [
        "AUC$svm <- roc(as.numeric(testData$target),as.numeric(as.matrix((svmPredictionprob))))$auc\n",
        "Accuracy$svm <- svmConfMat$overall['Accuracy']"
      ],
      "metadata": {
        "id": "1ZgLUI1Y0ej0"
      },
      "execution_count": null,
      "outputs": []
    },
    {
      "cell_type": "markdown",
      "source": [
        "# Random Forest"
      ],
      "metadata": {
        "id": "GAimtdOxfoNP"
      }
    },
    {
      "cell_type": "code",
      "source": [
        "library(randomForest)\n",
        "set.seed(10)\n",
        "RFModel <- randomForest(target ~ .,\n",
        "                    data=trainData, \n",
        "                    importance=TRUE, \n",
        "                    ntree=200)\n",
        "#varImpPlot(RFModel)\n",
        "RFPrediction <- predict(RFModel, testData)\n",
        "RFPredictionprob = predict(RFModel,testData,type=\"prob\")[, 2]\n",
        "\n",
        "RFConfMat <- confusionMatrix(RFPrediction, testData[,\"target\"])\n",
        "\n",
        "AUC$RF <- roc(as.numeric(testData$target),as.numeric(as.matrix((RFPredictionprob))))$auc\n",
        "Accuracy$RF <- RFConfMat$overall['Accuracy']"
      ],
      "metadata": {
        "colab": {
          "base_uri": "https://localhost:8080/",
          "height": 130
        },
        "id": "2dR0VanHpEi_",
        "outputId": "496fe93a-8da2-45ef-adbd-0511a7dd7926"
      },
      "execution_count": null,
      "outputs": [
        {
          "output_type": "error",
          "ename": "ERROR",
          "evalue": "ignored",
          "traceback": [
            "Error in library(randomForest): there is no package called ‘randomForest’\nTraceback:\n",
            "1. library(randomForest)"
          ]
        }
      ]
    },
    {
      "cell_type": "markdown",
      "source": [
        "# **Comparison of AUC and Accuracy between models**"
      ],
      "metadata": {
        "id": "ahCk6o3IfvlN"
      }
    },
    {
      "cell_type": "code",
      "source": [
        "row.names <- names(Accuracy)\n",
        "col.names <- c(\"AUC\", \"Accuracy\")\n",
        "cbind(as.data.frame(matrix(c(AUC,Accuracy),nrow = 3, ncol = 2,\n",
        "                           dimnames = list(row.names, col.names))))"
      ],
      "metadata": {
        "colab": {
          "base_uri": "https://localhost:8080/",
          "height": 96
        },
        "id": "EM-aGQutpETm",
        "outputId": "e04e7beb-ac33-40b8-a6c3-250e80a6e9c9"
      },
      "execution_count": null,
      "outputs": [
        {
          "output_type": "error",
          "ename": "ERROR",
          "evalue": "ignored",
          "traceback": [
            "Error in eval(expr, envir, enclos): object 'Accuracy' not found\nTraceback:\n"
          ]
        }
      ]
    },
    {
      "cell_type": "code",
      "source": [
        "summary(logRegModel)$coeff"
      ],
      "metadata": {
        "colab": {
          "base_uri": "https://localhost:8080/",
          "height": 757
        },
        "id": "pUvvntfypbpe",
        "outputId": "320ed14c-a064-4711-cd22-feccd433cd60"
      },
      "execution_count": null,
      "outputs": [
        {
          "output_type": "display_data",
          "data": {
            "text/html": [
              "<table class=\"dataframe\">\n",
              "<caption>A matrix: 22 × 4 of type dbl</caption>\n",
              "<thead>\n",
              "\t<tr><th></th><th scope=col>Estimate</th><th scope=col>Std. Error</th><th scope=col>z value</th><th scope=col>Pr(&gt;|z|)</th></tr>\n",
              "</thead>\n",
              "<tbody>\n",
              "\t<tr><th scope=row>(Intercept)</th><td>-1.002901016</td><td>3.672817206</td><td>-0.2730604</td><td>0.784806770</td></tr>\n",
              "\t<tr><th scope=row>sexMALE</th><td>-1.108411204</td><td>0.629831168</td><td>-1.7598545</td><td>0.078432483</td></tr>\n",
              "\t<tr><th scope=row>`fbs&gt;120`</th><td> 0.099727473</td><td>0.695895093</td><td> 0.1433082</td><td>0.886046780</td></tr>\n",
              "\t<tr><th scope=row>exangYES</th><td>-1.053668716</td><td>0.507650309</td><td>-2.0755798</td><td>0.037932833</td></tr>\n",
              "\t<tr><th scope=row>`cpATYPICAL ANGINA`</th><td> 0.576785085</td><td>0.673929885</td><td> 0.8558533</td><td>0.392078955</td></tr>\n",
              "\t<tr><th scope=row>`cpNON-ANGINAL PAIN`</th><td> 1.766764364</td><td>0.599090285</td><td> 2.9490786</td><td>0.003187229</td></tr>\n",
              "\t<tr><th scope=row>restecgNORMAL</th><td>-0.389889283</td><td>0.467477322</td><td>-0.8340282</td><td>0.404265076</td></tr>\n",
              "\t<tr><th scope=row>`restecgPROBABLE OR DEFINITE`</th><td>-1.405550323</td><td>2.763325521</td><td>-0.5086445</td><td>0.611001432</td></tr>\n",
              "\t<tr><th scope=row>slope1</th><td>-0.176704487</td><td>0.989144482</td><td>-0.1786438</td><td>0.858217433</td></tr>\n",
              "\t<tr><th scope=row>slope2</th><td> 0.553034654</td><td>1.061991982</td><td> 0.5207522</td><td>0.602539410</td></tr>\n",
              "\t<tr><th scope=row>ca1</th><td>-1.777145318</td><td>0.645108941</td><td>-2.7547988</td><td>0.005872824</td></tr>\n",
              "\t<tr><th scope=row>ca2</th><td>-2.268238705</td><td>0.808616253</td><td>-2.8050867</td><td>0.005030305</td></tr>\n",
              "\t<tr><th scope=row>ca3</th><td>-2.851293357</td><td>1.147811970</td><td>-2.4841119</td><td>0.012987499</td></tr>\n",
              "\t<tr><th scope=row>ca4</th><td> 0.817409952</td><td>1.767412707</td><td> 0.4624896</td><td>0.643730277</td></tr>\n",
              "\t<tr><th scope=row>thal1</th><td> 1.772336190</td><td>2.339184935</td><td> 0.7576725</td><td>0.448647042</td></tr>\n",
              "\t<tr><th scope=row>thal2</th><td> 2.237791893</td><td>2.162634801</td><td> 1.0347526</td><td>0.300784484</td></tr>\n",
              "\t<tr><th scope=row>thal3</th><td> 0.673386827</td><td>2.171206001</td><td> 0.3101441</td><td>0.756451344</td></tr>\n",
              "\t<tr><th scope=row>age</th><td> 0.024663417</td><td>0.028647254</td><td> 0.8609348</td><td>0.389273970</td></tr>\n",
              "\t<tr><th scope=row>trestbps</th><td>-0.010674095</td><td>0.013843176</td><td>-0.7710727</td><td>0.440663869</td></tr>\n",
              "\t<tr><th scope=row>chol</th><td>-0.005737794</td><td>0.005450973</td><td>-1.0526183</td><td>0.292515980</td></tr>\n",
              "\t<tr><th scope=row>thalach</th><td> 0.019342446</td><td>0.014618446</td><td> 1.3231533</td><td>0.185784397</td></tr>\n",
              "\t<tr><th scope=row>oldpeak</th><td>-0.374070565</td><td>0.296307740</td><td>-1.2624394</td><td>0.206790721</td></tr>\n",
              "</tbody>\n",
              "</table>\n"
            ],
            "text/markdown": "\nA matrix: 22 × 4 of type dbl\n\n| <!--/--> | Estimate | Std. Error | z value | Pr(&gt;|z|) |\n|---|---|---|---|---|\n| (Intercept) | -1.002901016 | 3.672817206 | -0.2730604 | 0.784806770 |\n| sexMALE | -1.108411204 | 0.629831168 | -1.7598545 | 0.078432483 |\n| `fbs&gt;120` |  0.099727473 | 0.695895093 |  0.1433082 | 0.886046780 |\n| exangYES | -1.053668716 | 0.507650309 | -2.0755798 | 0.037932833 |\n| `cpATYPICAL ANGINA` |  0.576785085 | 0.673929885 |  0.8558533 | 0.392078955 |\n| `cpNON-ANGINAL PAIN` |  1.766764364 | 0.599090285 |  2.9490786 | 0.003187229 |\n| restecgNORMAL | -0.389889283 | 0.467477322 | -0.8340282 | 0.404265076 |\n| `restecgPROBABLE OR DEFINITE` | -1.405550323 | 2.763325521 | -0.5086445 | 0.611001432 |\n| slope1 | -0.176704487 | 0.989144482 | -0.1786438 | 0.858217433 |\n| slope2 |  0.553034654 | 1.061991982 |  0.5207522 | 0.602539410 |\n| ca1 | -1.777145318 | 0.645108941 | -2.7547988 | 0.005872824 |\n| ca2 | -2.268238705 | 0.808616253 | -2.8050867 | 0.005030305 |\n| ca3 | -2.851293357 | 1.147811970 | -2.4841119 | 0.012987499 |\n| ca4 |  0.817409952 | 1.767412707 |  0.4624896 | 0.643730277 |\n| thal1 |  1.772336190 | 2.339184935 |  0.7576725 | 0.448647042 |\n| thal2 |  2.237791893 | 2.162634801 |  1.0347526 | 0.300784484 |\n| thal3 |  0.673386827 | 2.171206001 |  0.3101441 | 0.756451344 |\n| age |  0.024663417 | 0.028647254 |  0.8609348 | 0.389273970 |\n| trestbps | -0.010674095 | 0.013843176 | -0.7710727 | 0.440663869 |\n| chol | -0.005737794 | 0.005450973 | -1.0526183 | 0.292515980 |\n| thalach |  0.019342446 | 0.014618446 |  1.3231533 | 0.185784397 |\n| oldpeak | -0.374070565 | 0.296307740 | -1.2624394 | 0.206790721 |\n\n",
            "text/latex": "A matrix: 22 × 4 of type dbl\n\\begin{tabular}{r|llll}\n  & Estimate & Std. Error & z value & Pr(>\\textbar{}z\\textbar{})\\\\\n\\hline\n\t(Intercept) & -1.002901016 & 3.672817206 & -0.2730604 & 0.784806770\\\\\n\tsexMALE & -1.108411204 & 0.629831168 & -1.7598545 & 0.078432483\\\\\n\t`fbs>120` &  0.099727473 & 0.695895093 &  0.1433082 & 0.886046780\\\\\n\texangYES & -1.053668716 & 0.507650309 & -2.0755798 & 0.037932833\\\\\n\t`cpATYPICAL ANGINA` &  0.576785085 & 0.673929885 &  0.8558533 & 0.392078955\\\\\n\t`cpNON-ANGINAL PAIN` &  1.766764364 & 0.599090285 &  2.9490786 & 0.003187229\\\\\n\trestecgNORMAL & -0.389889283 & 0.467477322 & -0.8340282 & 0.404265076\\\\\n\t`restecgPROBABLE OR DEFINITE` & -1.405550323 & 2.763325521 & -0.5086445 & 0.611001432\\\\\n\tslope1 & -0.176704487 & 0.989144482 & -0.1786438 & 0.858217433\\\\\n\tslope2 &  0.553034654 & 1.061991982 &  0.5207522 & 0.602539410\\\\\n\tca1 & -1.777145318 & 0.645108941 & -2.7547988 & 0.005872824\\\\\n\tca2 & -2.268238705 & 0.808616253 & -2.8050867 & 0.005030305\\\\\n\tca3 & -2.851293357 & 1.147811970 & -2.4841119 & 0.012987499\\\\\n\tca4 &  0.817409952 & 1.767412707 &  0.4624896 & 0.643730277\\\\\n\tthal1 &  1.772336190 & 2.339184935 &  0.7576725 & 0.448647042\\\\\n\tthal2 &  2.237791893 & 2.162634801 &  1.0347526 & 0.300784484\\\\\n\tthal3 &  0.673386827 & 2.171206001 &  0.3101441 & 0.756451344\\\\\n\tage &  0.024663417 & 0.028647254 &  0.8609348 & 0.389273970\\\\\n\ttrestbps & -0.010674095 & 0.013843176 & -0.7710727 & 0.440663869\\\\\n\tchol & -0.005737794 & 0.005450973 & -1.0526183 & 0.292515980\\\\\n\tthalach &  0.019342446 & 0.014618446 &  1.3231533 & 0.185784397\\\\\n\toldpeak & -0.374070565 & 0.296307740 & -1.2624394 & 0.206790721\\\\\n\\end{tabular}\n",
            "text/plain": [
              "                              Estimate     Std. Error  z value    Pr(>|z|)   \n",
              "(Intercept)                   -1.002901016 3.672817206 -0.2730604 0.784806770\n",
              "sexMALE                       -1.108411204 0.629831168 -1.7598545 0.078432483\n",
              "`fbs>120`                      0.099727473 0.695895093  0.1433082 0.886046780\n",
              "exangYES                      -1.053668716 0.507650309 -2.0755798 0.037932833\n",
              "`cpATYPICAL ANGINA`            0.576785085 0.673929885  0.8558533 0.392078955\n",
              "`cpNON-ANGINAL PAIN`           1.766764364 0.599090285  2.9490786 0.003187229\n",
              "restecgNORMAL                 -0.389889283 0.467477322 -0.8340282 0.404265076\n",
              "`restecgPROBABLE OR DEFINITE` -1.405550323 2.763325521 -0.5086445 0.611001432\n",
              "slope1                        -0.176704487 0.989144482 -0.1786438 0.858217433\n",
              "slope2                         0.553034654 1.061991982  0.5207522 0.602539410\n",
              "ca1                           -1.777145318 0.645108941 -2.7547988 0.005872824\n",
              "ca2                           -2.268238705 0.808616253 -2.8050867 0.005030305\n",
              "ca3                           -2.851293357 1.147811970 -2.4841119 0.012987499\n",
              "ca4                            0.817409952 1.767412707  0.4624896 0.643730277\n",
              "thal1                          1.772336190 2.339184935  0.7576725 0.448647042\n",
              "thal2                          2.237791893 2.162634801  1.0347526 0.300784484\n",
              "thal3                          0.673386827 2.171206001  0.3101441 0.756451344\n",
              "age                            0.024663417 0.028647254  0.8609348 0.389273970\n",
              "trestbps                      -0.010674095 0.013843176 -0.7710727 0.440663869\n",
              "chol                          -0.005737794 0.005450973 -1.0526183 0.292515980\n",
              "thalach                        0.019342446 0.014618446  1.3231533 0.185784397\n",
              "oldpeak                       -0.374070565 0.296307740 -1.2624394 0.206790721"
            ]
          },
          "metadata": {}
        }
      ]
    },
    {
      "cell_type": "markdown",
      "source": [
        "#Confusion Matrix"
      ],
      "metadata": {
        "id": "8XQ1qipHf0Y3"
      }
    },
    {
      "cell_type": "code",
      "source": [
        "logRegConfMat"
      ],
      "metadata": {
        "colab": {
          "base_uri": "https://localhost:8080/",
          "height": 486
        },
        "id": "XQyoDV69pbc1",
        "outputId": "61571d74-32ae-4ab9-9fd8-d1bff18026d0"
      },
      "execution_count": null,
      "outputs": [
        {
          "output_type": "display_data",
          "data": {
            "text/plain": [
              "Confusion Matrix and Statistics\n",
              "\n",
              "          Reference\n",
              "Prediction NO YES\n",
              "       NO  34   5\n",
              "       YES  7  44\n",
              "                                          \n",
              "               Accuracy : 0.8667          \n",
              "                 95% CI : (0.7787, 0.9292)\n",
              "    No Information Rate : 0.5444          \n",
              "    P-Value [Acc > NIR] : 6.754e-11       \n",
              "                                          \n",
              "                  Kappa : 0.7301          \n",
              "                                          \n",
              " Mcnemar's Test P-Value : 0.7728          \n",
              "                                          \n",
              "            Sensitivity : 0.8293          \n",
              "            Specificity : 0.8980          \n",
              "         Pos Pred Value : 0.8718          \n",
              "         Neg Pred Value : 0.8627          \n",
              "             Prevalence : 0.4556          \n",
              "         Detection Rate : 0.3778          \n",
              "   Detection Prevalence : 0.4333          \n",
              "      Balanced Accuracy : 0.8636          \n",
              "                                          \n",
              "       'Positive' Class : NO              \n",
              "                                          "
            ]
          },
          "metadata": {}
        }
      ]
    },
    {
      "cell_type": "code",
      "source": [
        "RFConfMat"
      ],
      "metadata": {
        "colab": {
          "base_uri": "https://localhost:8080/",
          "height": 486
        },
        "id": "K7zLlPnIpbN5",
        "outputId": "5ed07c79-7c6a-4d21-b465-f15b307b215b"
      },
      "execution_count": null,
      "outputs": [
        {
          "output_type": "display_data",
          "data": {
            "text/plain": [
              "Confusion Matrix and Statistics\n",
              "\n",
              "          Reference\n",
              "Prediction NO YES\n",
              "       NO  31   5\n",
              "       YES 10  44\n",
              "                                        \n",
              "               Accuracy : 0.8333        \n",
              "                 95% CI : (0.74, 0.9036)\n",
              "    No Information Rate : 0.5444        \n",
              "    P-Value [Acc > NIR] : 7.067e-09     \n",
              "                                        \n",
              "                  Kappa : 0.6606        \n",
              "                                        \n",
              " Mcnemar's Test P-Value : 0.3017        \n",
              "                                        \n",
              "            Sensitivity : 0.7561        \n",
              "            Specificity : 0.8980        \n",
              "         Pos Pred Value : 0.8611        \n",
              "         Neg Pred Value : 0.8148        \n",
              "             Prevalence : 0.4556        \n",
              "         Detection Rate : 0.3444        \n",
              "   Detection Prevalence : 0.4000        \n",
              "      Balanced Accuracy : 0.8270        \n",
              "                                        \n",
              "       'Positive' Class : NO            \n",
              "                                        "
            ]
          },
          "metadata": {}
        }
      ]
    },
    {
      "cell_type": "code",
      "source": [
        "svmConfMat"
      ],
      "metadata": {
        "colab": {
          "base_uri": "https://localhost:8080/",
          "height": 486
        },
        "id": "0eYwVwVWplSj",
        "outputId": "e103971f-ed34-4041-d995-0de8397f5a0a"
      },
      "execution_count": null,
      "outputs": [
        {
          "output_type": "display_data",
          "data": {
            "text/plain": [
              "Confusion Matrix and Statistics\n",
              "\n",
              "          Reference\n",
              "Prediction NO YES\n",
              "       NO  34  10\n",
              "       YES  7  39\n",
              "                                          \n",
              "               Accuracy : 0.8111          \n",
              "                 95% CI : (0.7149, 0.8859)\n",
              "    No Information Rate : 0.5444          \n",
              "    P-Value [Acc > NIR] : 1.061e-07       \n",
              "                                          \n",
              "                  Kappa : 0.6215          \n",
              "                                          \n",
              " Mcnemar's Test P-Value : 0.6276          \n",
              "                                          \n",
              "            Sensitivity : 0.8293          \n",
              "            Specificity : 0.7959          \n",
              "         Pos Pred Value : 0.7727          \n",
              "         Neg Pred Value : 0.8478          \n",
              "             Prevalence : 0.4556          \n",
              "         Detection Rate : 0.3778          \n",
              "   Detection Prevalence : 0.4889          \n",
              "      Balanced Accuracy : 0.8126          \n",
              "                                          \n",
              "       'Positive' Class : NO              \n",
              "                                          "
            ]
          },
          "metadata": {}
        }
      ]
    },
    {
      "cell_type": "markdown",
      "source": [
        "A comparison of the area under the ROC and the accuracy of the model predictions shows that logistic regression performs best \n",
        "(accuracy of 0.87). \n",
        "Tree-based methods shows low accuracy.\n"
      ],
      "metadata": {
        "id": "pcN_HilZptFk"
      }
    },
    {
      "cell_type": "code",
      "source": [
        ""
      ],
      "metadata": {
        "id": "TB_agNzhplGC"
      },
      "execution_count": null,
      "outputs": []
    },
    {
      "cell_type": "code",
      "source": [
        ""
      ],
      "metadata": {
        "id": "RaODhG1tpk4a"
      },
      "execution_count": null,
      "outputs": []
    }
  ]
}